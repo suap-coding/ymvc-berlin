{
 "cells": [
  {
   "cell_type": "code",
   "execution_count": 1,
   "metadata": {},
   "outputs": [],
   "source": [
    "import pandas as pd\r\n",
    "import numpy as np"
   ]
  },
  {
   "cell_type": "code",
   "execution_count": 2,
   "metadata": {},
   "outputs": [],
   "source": [
    "business = pd.read_json(\"yelp_academic_dataset_business.json\", lines=True)"
   ]
  },
  {
   "cell_type": "markdown",
   "metadata": {},
   "source": [
    "Sneak peek into 2 first rows to realise what we've got."
   ]
  },
  {
   "cell_type": "code",
   "execution_count": 3,
   "metadata": {},
   "outputs": [
    {
     "data": {
      "text/html": [
       "<div>\n",
       "<style scoped>\n",
       "    .dataframe tbody tr th:only-of-type {\n",
       "        vertical-align: middle;\n",
       "    }\n",
       "\n",
       "    .dataframe tbody tr th {\n",
       "        vertical-align: top;\n",
       "    }\n",
       "\n",
       "    .dataframe thead th {\n",
       "        text-align: right;\n",
       "    }\n",
       "</style>\n",
       "<table border=\"1\" class=\"dataframe\">\n",
       "  <thead>\n",
       "    <tr style=\"text-align: right;\">\n",
       "      <th></th>\n",
       "      <th>business_id</th>\n",
       "      <th>name</th>\n",
       "      <th>address</th>\n",
       "      <th>city</th>\n",
       "      <th>state</th>\n",
       "      <th>postal_code</th>\n",
       "      <th>latitude</th>\n",
       "      <th>longitude</th>\n",
       "      <th>stars</th>\n",
       "      <th>review_count</th>\n",
       "      <th>is_open</th>\n",
       "      <th>attributes</th>\n",
       "      <th>categories</th>\n",
       "      <th>hours</th>\n",
       "    </tr>\n",
       "  </thead>\n",
       "  <tbody>\n",
       "    <tr>\n",
       "      <th>0</th>\n",
       "      <td>6iYb2HFDywm3zjuRg0shjw</td>\n",
       "      <td>Oskar Blues Taproom</td>\n",
       "      <td>921 Pearl St</td>\n",
       "      <td>Boulder</td>\n",
       "      <td>CO</td>\n",
       "      <td>80302</td>\n",
       "      <td>40.017544</td>\n",
       "      <td>-105.283348</td>\n",
       "      <td>4.0</td>\n",
       "      <td>86</td>\n",
       "      <td>1</td>\n",
       "      <td>{'RestaurantsTableService': 'True', 'WiFi': 'u...</td>\n",
       "      <td>Gastropubs, Food, Beer Gardens, Restaurants, B...</td>\n",
       "      <td>{'Monday': '11:0-23:0', 'Tuesday': '11:0-23:0'...</td>\n",
       "    </tr>\n",
       "    <tr>\n",
       "      <th>1</th>\n",
       "      <td>tCbdrRPZA0oiIYSmHG3J0w</td>\n",
       "      <td>Flying Elephants at PDX</td>\n",
       "      <td>7000 NE Airport Way</td>\n",
       "      <td>Portland</td>\n",
       "      <td>OR</td>\n",
       "      <td>97218</td>\n",
       "      <td>45.588906</td>\n",
       "      <td>-122.593331</td>\n",
       "      <td>4.0</td>\n",
       "      <td>126</td>\n",
       "      <td>1</td>\n",
       "      <td>{'RestaurantsTakeOut': 'True', 'RestaurantsAtt...</td>\n",
       "      <td>Salad, Soup, Sandwiches, Delis, Restaurants, C...</td>\n",
       "      <td>{'Monday': '5:0-18:0', 'Tuesday': '5:0-17:0', ...</td>\n",
       "    </tr>\n",
       "  </tbody>\n",
       "</table>\n",
       "</div>"
      ],
      "text/plain": [
       "              business_id                     name              address  \\\n",
       "0  6iYb2HFDywm3zjuRg0shjw      Oskar Blues Taproom         921 Pearl St   \n",
       "1  tCbdrRPZA0oiIYSmHG3J0w  Flying Elephants at PDX  7000 NE Airport Way   \n",
       "\n",
       "       city state postal_code   latitude   longitude  stars  review_count  \\\n",
       "0   Boulder    CO       80302  40.017544 -105.283348    4.0            86   \n",
       "1  Portland    OR       97218  45.588906 -122.593331    4.0           126   \n",
       "\n",
       "   is_open                                         attributes  \\\n",
       "0        1  {'RestaurantsTableService': 'True', 'WiFi': 'u...   \n",
       "1        1  {'RestaurantsTakeOut': 'True', 'RestaurantsAtt...   \n",
       "\n",
       "                                          categories  \\\n",
       "0  Gastropubs, Food, Beer Gardens, Restaurants, B...   \n",
       "1  Salad, Soup, Sandwiches, Delis, Restaurants, C...   \n",
       "\n",
       "                                               hours  \n",
       "0  {'Monday': '11:0-23:0', 'Tuesday': '11:0-23:0'...  \n",
       "1  {'Monday': '5:0-18:0', 'Tuesday': '5:0-17:0', ...  "
      ]
     },
     "execution_count": 3,
     "metadata": {},
     "output_type": "execute_result"
    }
   ],
   "source": [
    "business.head(2)"
   ]
  },
  {
   "cell_type": "markdown",
   "metadata": {},
   "source": [
    "Create 2 bool arrays to finaly get only Austing AND Texas entries."
   ]
  },
  {
   "cell_type": "code",
   "execution_count": 4,
   "metadata": {},
   "outputs": [],
   "source": [
    "austin_tx_bool = np.array(business.city == 'Austin') * np.array(business.state == 'TX')\r\n",
    "austin_tx = business[austin_tx_bool]"
   ]
  },
  {
   "cell_type": "code",
   "execution_count": 5,
   "metadata": {},
   "outputs": [],
   "source": [
    "# austin_tx.to_json('austin_tx.json')"
   ]
  },
  {
   "cell_type": "markdown",
   "metadata": {},
   "source": [
    "Drop unimportant columns."
   ]
  },
  {
   "cell_type": "code",
   "execution_count": 6,
   "metadata": {},
   "outputs": [],
   "source": [
    "# austin_tx = austin_tx.drop(['city', 'state', 'business_id', 'address'], axis=1)\r\n",
    "austin_tx = austin_tx.drop(['city', 'state', 'business_id'], axis=1)"
   ]
  },
  {
   "cell_type": "markdown",
   "metadata": {},
   "source": [
    "We have a lot of nan values, let's see how many."
   ]
  },
  {
   "cell_type": "code",
   "execution_count": 7,
   "metadata": {},
   "outputs": [
    {
     "data": {
      "text/plain": [
       "name               0\n",
       "address            0\n",
       "postal_code        0\n",
       "latitude           0\n",
       "longitude          0\n",
       "stars              0\n",
       "review_count       0\n",
       "is_open            0\n",
       "attributes      2269\n",
       "categories        17\n",
       "hours           3477\n",
       "dtype: int64"
      ]
     },
     "execution_count": 7,
     "metadata": {},
     "output_type": "execute_result"
    }
   ],
   "source": [
    "austin_tx.isna().sum()"
   ]
  },
  {
   "cell_type": "markdown",
   "metadata": {},
   "source": [
    "Let's drop the nans."
   ]
  },
  {
   "cell_type": "code",
   "execution_count": 8,
   "metadata": {},
   "outputs": [
    {
     "name": "stdout",
     "output_type": "stream",
     "text": [
      "Dropped: 5070 rows with nan values.\n"
     ]
    }
   ],
   "source": [
    "dropped = austin_tx.shape[0]\r\n",
    "austin_tx.dropna(inplace=True)\r\n",
    "dropped -= austin_tx.shape[0]\r\n",
    "print(\"Dropped:\", dropped, \"rows with nan values.\") #5070"
   ]
  },
  {
   "cell_type": "code",
   "execution_count": 9,
   "metadata": {},
   "outputs": [],
   "source": [
    "# austin_tx.to_json('austin_tx_nona.json')"
   ]
  },
  {
   "cell_type": "markdown",
   "metadata": {},
   "source": [
    "Let's peek to first 2 rows to see what we've got."
   ]
  },
  {
   "cell_type": "code",
   "execution_count": 10,
   "metadata": {},
   "outputs": [
    {
     "data": {
      "text/html": [
       "<div>\n",
       "<style scoped>\n",
       "    .dataframe tbody tr th:only-of-type {\n",
       "        vertical-align: middle;\n",
       "    }\n",
       "\n",
       "    .dataframe tbody tr th {\n",
       "        vertical-align: top;\n",
       "    }\n",
       "\n",
       "    .dataframe thead th {\n",
       "        text-align: right;\n",
       "    }\n",
       "</style>\n",
       "<table border=\"1\" class=\"dataframe\">\n",
       "  <thead>\n",
       "    <tr style=\"text-align: right;\">\n",
       "      <th></th>\n",
       "      <th>name</th>\n",
       "      <th>address</th>\n",
       "      <th>postal_code</th>\n",
       "      <th>latitude</th>\n",
       "      <th>longitude</th>\n",
       "      <th>stars</th>\n",
       "      <th>review_count</th>\n",
       "      <th>is_open</th>\n",
       "      <th>attributes</th>\n",
       "      <th>categories</th>\n",
       "      <th>hours</th>\n",
       "    </tr>\n",
       "  </thead>\n",
       "  <tbody>\n",
       "    <tr>\n",
       "      <th>8</th>\n",
       "      <td>Lane Wells Jewelry Repair</td>\n",
       "      <td>7801 N Lamar Blvd, Ste A140</td>\n",
       "      <td>78752</td>\n",
       "      <td>30.346169</td>\n",
       "      <td>-97.711458</td>\n",
       "      <td>5.0</td>\n",
       "      <td>30</td>\n",
       "      <td>1</td>\n",
       "      <td>{'RestaurantsPriceRange2': '1', 'ByAppointment...</td>\n",
       "      <td>Shopping, Jewelry Repair, Appraisal Services, ...</td>\n",
       "      <td>{'Monday': '12:15-17:0', 'Tuesday': '12:15-17:...</td>\n",
       "    </tr>\n",
       "    <tr>\n",
       "      <th>9</th>\n",
       "      <td>Capital City Barber Shop</td>\n",
       "      <td>615 W Slaughter Ln, Ste 113</td>\n",
       "      <td>78748</td>\n",
       "      <td>30.172706</td>\n",
       "      <td>-97.799920</td>\n",
       "      <td>4.0</td>\n",
       "      <td>5</td>\n",
       "      <td>0</td>\n",
       "      <td>{'BusinessAcceptsCreditCards': 'False', 'Resta...</td>\n",
       "      <td>Barbers, Beauty &amp; Spas</td>\n",
       "      <td>{'Monday': '9:0-17:0', 'Tuesday': '9:0-19:0', ...</td>\n",
       "    </tr>\n",
       "  </tbody>\n",
       "</table>\n",
       "</div>"
      ],
      "text/plain": [
       "                        name                      address postal_code  \\\n",
       "8  Lane Wells Jewelry Repair  7801 N Lamar Blvd, Ste A140       78752   \n",
       "9   Capital City Barber Shop  615 W Slaughter Ln, Ste 113       78748   \n",
       "\n",
       "    latitude  longitude  stars  review_count  is_open  \\\n",
       "8  30.346169 -97.711458    5.0            30        1   \n",
       "9  30.172706 -97.799920    4.0             5        0   \n",
       "\n",
       "                                          attributes  \\\n",
       "8  {'RestaurantsPriceRange2': '1', 'ByAppointment...   \n",
       "9  {'BusinessAcceptsCreditCards': 'False', 'Resta...   \n",
       "\n",
       "                                          categories  \\\n",
       "8  Shopping, Jewelry Repair, Appraisal Services, ...   \n",
       "9                             Barbers, Beauty & Spas   \n",
       "\n",
       "                                               hours  \n",
       "8  {'Monday': '12:15-17:0', 'Tuesday': '12:15-17:...  \n",
       "9  {'Monday': '9:0-17:0', 'Tuesday': '9:0-19:0', ...  "
      ]
     },
     "execution_count": 10,
     "metadata": {},
     "output_type": "execute_result"
    }
   ],
   "source": [
    "austin_tx.head(2)"
   ]
  },
  {
   "cell_type": "markdown",
   "metadata": {},
   "source": [
    "Add a column stating distance in... kinda minutes in GPS sense I guess... Doesn't really matter - what matters is we can compare distances from the centre now."
   ]
  },
  {
   "cell_type": "code",
   "execution_count": 11,
   "metadata": {},
   "outputs": [],
   "source": [
    "lat_lon_df = austin_tx.loc[:,'latitude':'longitude']\r\n",
    "number_of_rows = lat_lon_df.shape[0]\r\n",
    "\r\n",
    "gps_based_distance = np.zeros(shape=number_of_rows)\r\n",
    "\r\n",
    "for row in np.arange(number_of_rows):\r\n",
    "\r\n",
    "    lat_lon = np.array([lat_lon_df.iloc[row][0], lat_lon_df.iloc[row][1]]) * 60\r\n",
    "    capitol_lat_lon = np.array([30.274773446583634, -97.74038126660496]) * 60\r\n",
    "    gps_based_distance[row] = np.linalg.norm(lat_lon - capitol_lat_lon)\r\n",
    "\r\n",
    "austin_tx['dist_from_center'] = gps_based_distance"
   ]
  },
  {
   "cell_type": "markdown",
   "metadata": {},
   "source": [
    "Clear address column from strange informations."
   ]
  },
  {
   "cell_type": "code",
   "execution_count": 12,
   "metadata": {},
   "outputs": [],
   "source": [
    "def fix_address(address):\r\n",
    "    return (address.split(sep=', '))[0]"
   ]
  },
  {
   "cell_type": "code",
   "execution_count": 13,
   "metadata": {},
   "outputs": [],
   "source": [
    "austin_tx['address'] = austin_tx['address'].apply(fix_address)"
   ]
  },
  {
   "cell_type": "code",
   "execution_count": 14,
   "metadata": {},
   "outputs": [
    {
     "data": {
      "text/html": [
       "<div>\n",
       "<style scoped>\n",
       "    .dataframe tbody tr th:only-of-type {\n",
       "        vertical-align: middle;\n",
       "    }\n",
       "\n",
       "    .dataframe tbody tr th {\n",
       "        vertical-align: top;\n",
       "    }\n",
       "\n",
       "    .dataframe thead th {\n",
       "        text-align: right;\n",
       "    }\n",
       "</style>\n",
       "<table border=\"1\" class=\"dataframe\">\n",
       "  <thead>\n",
       "    <tr style=\"text-align: right;\">\n",
       "      <th></th>\n",
       "      <th>name</th>\n",
       "      <th>address</th>\n",
       "      <th>postal_code</th>\n",
       "      <th>latitude</th>\n",
       "      <th>longitude</th>\n",
       "      <th>stars</th>\n",
       "      <th>review_count</th>\n",
       "      <th>is_open</th>\n",
       "      <th>attributes</th>\n",
       "      <th>categories</th>\n",
       "      <th>hours</th>\n",
       "      <th>dist_from_center</th>\n",
       "    </tr>\n",
       "  </thead>\n",
       "  <tbody>\n",
       "    <tr>\n",
       "      <th>8</th>\n",
       "      <td>Lane Wells Jewelry Repair</td>\n",
       "      <td>7801 N Lamar Blvd</td>\n",
       "      <td>78752</td>\n",
       "      <td>30.346169</td>\n",
       "      <td>-97.711458</td>\n",
       "      <td>5.0</td>\n",
       "      <td>30</td>\n",
       "      <td>1</td>\n",
       "      <td>{'RestaurantsPriceRange2': '1', 'ByAppointment...</td>\n",
       "      <td>Shopping, Jewelry Repair, Appraisal Services, ...</td>\n",
       "      <td>{'Monday': '12:15-17:0', 'Tuesday': '12:15-17:...</td>\n",
       "      <td>4.621901</td>\n",
       "    </tr>\n",
       "    <tr>\n",
       "      <th>9</th>\n",
       "      <td>Capital City Barber Shop</td>\n",
       "      <td>615 W Slaughter Ln</td>\n",
       "      <td>78748</td>\n",
       "      <td>30.172706</td>\n",
       "      <td>-97.799920</td>\n",
       "      <td>4.0</td>\n",
       "      <td>5</td>\n",
       "      <td>0</td>\n",
       "      <td>{'BusinessAcceptsCreditCards': 'False', 'Resta...</td>\n",
       "      <td>Barbers, Beauty &amp; Spas</td>\n",
       "      <td>{'Monday': '9:0-17:0', 'Tuesday': '9:0-19:0', ...</td>\n",
       "      <td>7.089800</td>\n",
       "    </tr>\n",
       "    <tr>\n",
       "      <th>24</th>\n",
       "      <td>DoubleTree by Hilton Hotel Austin</td>\n",
       "      <td>6505 N Interstate 35</td>\n",
       "      <td>78752</td>\n",
       "      <td>30.326377</td>\n",
       "      <td>-97.704543</td>\n",
       "      <td>3.0</td>\n",
       "      <td>139</td>\n",
       "      <td>1</td>\n",
       "      <td>{'WiFi': 'u'free'', 'RestaurantsPriceRange2': ...</td>\n",
       "      <td>Hotels, Hotels &amp; Travel, Event Planning &amp; Serv...</td>\n",
       "      <td>{'Monday': '0:0-0:0', 'Tuesday': '0:0-0:0', 'W...</td>\n",
       "      <td>3.769626</td>\n",
       "    </tr>\n",
       "    <tr>\n",
       "      <th>27</th>\n",
       "      <td>PS Property Management Company</td>\n",
       "      <td>2506 S Lamar Blvd</td>\n",
       "      <td>78704</td>\n",
       "      <td>30.246465</td>\n",
       "      <td>-97.778738</td>\n",
       "      <td>4.5</td>\n",
       "      <td>9</td>\n",
       "      <td>1</td>\n",
       "      <td>{'BusinessAcceptsCreditCards': 'True'}</td>\n",
       "      <td>Home Services, Real Estate, Property Management</td>\n",
       "      <td>{'Monday': '9:0-17:0', 'Tuesday': '9:0-17:0', ...</td>\n",
       "      <td>2.860291</td>\n",
       "    </tr>\n",
       "    <tr>\n",
       "      <th>37</th>\n",
       "      <td>McKinley Chiropractic</td>\n",
       "      <td>5625 Eiger Rd</td>\n",
       "      <td>78735</td>\n",
       "      <td>30.244902</td>\n",
       "      <td>-97.857409</td>\n",
       "      <td>5.0</td>\n",
       "      <td>5</td>\n",
       "      <td>1</td>\n",
       "      <td>{'BusinessAcceptsCreditCards': 'True', 'Accept...</td>\n",
       "      <td>Chiropractors, Health &amp; Medical</td>\n",
       "      <td>{'Monday': '9:0-17:45', 'Tuesday': '12:0-17:45...</td>\n",
       "      <td>7.246796</td>\n",
       "    </tr>\n",
       "    <tr>\n",
       "      <th>...</th>\n",
       "      <td>...</td>\n",
       "      <td>...</td>\n",
       "      <td>...</td>\n",
       "      <td>...</td>\n",
       "      <td>...</td>\n",
       "      <td>...</td>\n",
       "      <td>...</td>\n",
       "      <td>...</td>\n",
       "      <td>...</td>\n",
       "      <td>...</td>\n",
       "      <td>...</td>\n",
       "      <td>...</td>\n",
       "    </tr>\n",
       "    <tr>\n",
       "      <th>160560</th>\n",
       "      <td>Starbucks</td>\n",
       "      <td>9300 S I-35 Service Rd S Bound</td>\n",
       "      <td>78748</td>\n",
       "      <td>30.165573</td>\n",
       "      <td>-97.788109</td>\n",
       "      <td>3.0</td>\n",
       "      <td>78</td>\n",
       "      <td>1</td>\n",
       "      <td>{'BikeParking': 'True', 'BusinessParking': '{'...</td>\n",
       "      <td>Food, Coffee &amp; Tea</td>\n",
       "      <td>{'Monday': '0:0-0:0', 'Tuesday': '5:0-21:0', '...</td>\n",
       "      <td>7.150498</td>\n",
       "    </tr>\n",
       "    <tr>\n",
       "      <th>160564</th>\n",
       "      <td>AcuStretch</td>\n",
       "      <td>13018 N Hwy 183</td>\n",
       "      <td>78750</td>\n",
       "      <td>30.437784</td>\n",
       "      <td>-97.777968</td>\n",
       "      <td>4.0</td>\n",
       "      <td>7</td>\n",
       "      <td>1</td>\n",
       "      <td>{'BusinessAcceptsCreditCards': 'True', 'Wheelc...</td>\n",
       "      <td>Massage, Beauty &amp; Spas</td>\n",
       "      <td>{'Monday': '10:0-21:0', 'Tuesday': '10:0-21:0'...</td>\n",
       "      <td>10.037267</td>\n",
       "    </tr>\n",
       "    <tr>\n",
       "      <th>160566</th>\n",
       "      <td>Salute Oral &amp; Facial Surgery</td>\n",
       "      <td>10801 N Mo Pac Expy</td>\n",
       "      <td>78759</td>\n",
       "      <td>30.398422</td>\n",
       "      <td>-97.730128</td>\n",
       "      <td>3.5</td>\n",
       "      <td>13</td>\n",
       "      <td>1</td>\n",
       "      <td>{'ByAppointmentOnly': 'True', 'BusinessAccepts...</td>\n",
       "      <td>Health &amp; Medical, General Dentistry, Dentists</td>\n",
       "      <td>{'Monday': '8:0-17:0', 'Tuesday': '8:0-17:0', ...</td>\n",
       "      <td>7.444376</td>\n",
       "    </tr>\n",
       "    <tr>\n",
       "      <th>160567</th>\n",
       "      <td>Austin Stained Concrete and More</td>\n",
       "      <td>5710 Fitchwood Ln</td>\n",
       "      <td>78749</td>\n",
       "      <td>30.210815</td>\n",
       "      <td>-97.869660</td>\n",
       "      <td>5.0</td>\n",
       "      <td>19</td>\n",
       "      <td>1</td>\n",
       "      <td>{'BusinessAcceptsCreditCards': 'True'}</td>\n",
       "      <td>Masonry/Concrete, Home Services, Flooring</td>\n",
       "      <td>{'Monday': '8:0-17:0', 'Tuesday': '8:0-17:0', ...</td>\n",
       "      <td>8.654087</td>\n",
       "    </tr>\n",
       "    <tr>\n",
       "      <th>160577</th>\n",
       "      <td>Capital Area Speech &amp; Occupational Therapy</td>\n",
       "      <td>12710 Research Blvd</td>\n",
       "      <td>78759</td>\n",
       "      <td>30.431920</td>\n",
       "      <td>-97.765740</td>\n",
       "      <td>4.0</td>\n",
       "      <td>16</td>\n",
       "      <td>1</td>\n",
       "      <td>{'ByAppointmentOnly': 'True', 'AcceptsInsuranc...</td>\n",
       "      <td>Educational Services, Health &amp; Medical, Occupa...</td>\n",
       "      <td>{'Monday': '8:30-18:30', 'Tuesday': '8:30-18:3...</td>\n",
       "      <td>9.550768</td>\n",
       "    </tr>\n",
       "  </tbody>\n",
       "</table>\n",
       "<p>17342 rows × 12 columns</p>\n",
       "</div>"
      ],
      "text/plain": [
       "                                              name  \\\n",
       "8                        Lane Wells Jewelry Repair   \n",
       "9                         Capital City Barber Shop   \n",
       "24               DoubleTree by Hilton Hotel Austin   \n",
       "27                  PS Property Management Company   \n",
       "37                           McKinley Chiropractic   \n",
       "...                                            ...   \n",
       "160560                                   Starbucks   \n",
       "160564                                  AcuStretch   \n",
       "160566                Salute Oral & Facial Surgery   \n",
       "160567            Austin Stained Concrete and More   \n",
       "160577  Capital Area Speech & Occupational Therapy   \n",
       "\n",
       "                               address postal_code   latitude  longitude  \\\n",
       "8                    7801 N Lamar Blvd       78752  30.346169 -97.711458   \n",
       "9                   615 W Slaughter Ln       78748  30.172706 -97.799920   \n",
       "24                6505 N Interstate 35       78752  30.326377 -97.704543   \n",
       "27                   2506 S Lamar Blvd       78704  30.246465 -97.778738   \n",
       "37                       5625 Eiger Rd       78735  30.244902 -97.857409   \n",
       "...                                ...         ...        ...        ...   \n",
       "160560  9300 S I-35 Service Rd S Bound       78748  30.165573 -97.788109   \n",
       "160564                 13018 N Hwy 183       78750  30.437784 -97.777968   \n",
       "160566             10801 N Mo Pac Expy       78759  30.398422 -97.730128   \n",
       "160567               5710 Fitchwood Ln       78749  30.210815 -97.869660   \n",
       "160577             12710 Research Blvd       78759  30.431920 -97.765740   \n",
       "\n",
       "        stars  review_count  is_open  \\\n",
       "8         5.0            30        1   \n",
       "9         4.0             5        0   \n",
       "24        3.0           139        1   \n",
       "27        4.5             9        1   \n",
       "37        5.0             5        1   \n",
       "...       ...           ...      ...   \n",
       "160560    3.0            78        1   \n",
       "160564    4.0             7        1   \n",
       "160566    3.5            13        1   \n",
       "160567    5.0            19        1   \n",
       "160577    4.0            16        1   \n",
       "\n",
       "                                               attributes  \\\n",
       "8       {'RestaurantsPriceRange2': '1', 'ByAppointment...   \n",
       "9       {'BusinessAcceptsCreditCards': 'False', 'Resta...   \n",
       "24      {'WiFi': 'u'free'', 'RestaurantsPriceRange2': ...   \n",
       "27                 {'BusinessAcceptsCreditCards': 'True'}   \n",
       "37      {'BusinessAcceptsCreditCards': 'True', 'Accept...   \n",
       "...                                                   ...   \n",
       "160560  {'BikeParking': 'True', 'BusinessParking': '{'...   \n",
       "160564  {'BusinessAcceptsCreditCards': 'True', 'Wheelc...   \n",
       "160566  {'ByAppointmentOnly': 'True', 'BusinessAccepts...   \n",
       "160567             {'BusinessAcceptsCreditCards': 'True'}   \n",
       "160577  {'ByAppointmentOnly': 'True', 'AcceptsInsuranc...   \n",
       "\n",
       "                                               categories  \\\n",
       "8       Shopping, Jewelry Repair, Appraisal Services, ...   \n",
       "9                                  Barbers, Beauty & Spas   \n",
       "24      Hotels, Hotels & Travel, Event Planning & Serv...   \n",
       "27        Home Services, Real Estate, Property Management   \n",
       "37                        Chiropractors, Health & Medical   \n",
       "...                                                   ...   \n",
       "160560                                 Food, Coffee & Tea   \n",
       "160564                             Massage, Beauty & Spas   \n",
       "160566      Health & Medical, General Dentistry, Dentists   \n",
       "160567          Masonry/Concrete, Home Services, Flooring   \n",
       "160577  Educational Services, Health & Medical, Occupa...   \n",
       "\n",
       "                                                    hours  dist_from_center  \n",
       "8       {'Monday': '12:15-17:0', 'Tuesday': '12:15-17:...          4.621901  \n",
       "9       {'Monday': '9:0-17:0', 'Tuesday': '9:0-19:0', ...          7.089800  \n",
       "24      {'Monday': '0:0-0:0', 'Tuesday': '0:0-0:0', 'W...          3.769626  \n",
       "27      {'Monday': '9:0-17:0', 'Tuesday': '9:0-17:0', ...          2.860291  \n",
       "37      {'Monday': '9:0-17:45', 'Tuesday': '12:0-17:45...          7.246796  \n",
       "...                                                   ...               ...  \n",
       "160560  {'Monday': '0:0-0:0', 'Tuesday': '5:0-21:0', '...          7.150498  \n",
       "160564  {'Monday': '10:0-21:0', 'Tuesday': '10:0-21:0'...         10.037267  \n",
       "160566  {'Monday': '8:0-17:0', 'Tuesday': '8:0-17:0', ...          7.444376  \n",
       "160567  {'Monday': '8:0-17:0', 'Tuesday': '8:0-17:0', ...          8.654087  \n",
       "160577  {'Monday': '8:30-18:30', 'Tuesday': '8:30-18:3...          9.550768  \n",
       "\n",
       "[17342 rows x 12 columns]"
      ]
     },
     "execution_count": 14,
     "metadata": {},
     "output_type": "execute_result"
    }
   ],
   "source": [
    "austin_tx"
   ]
  },
  {
   "cell_type": "markdown",
   "metadata": {},
   "source": [
    "Work In progress - function to get all the distances from a given location to given addressess."
   ]
  },
  {
   "cell_type": "code",
   "execution_count": 20,
   "metadata": {},
   "outputs": [],
   "source": [
    "from geopy.geocoders import Nominatim\r\n",
    "from geopy.distance import distance\r\n",
    "\r\n",
    "def get_distances(dataframe, addresses_column_name, given_location, postifx=\"\", inplace=False): # TODO: add mechanics for inplace=True\r\n",
    "    \"\"\"\r\n",
    "    dataframe - pandas.DataFrame object\r\n",
    "    addresses_column_name - name of the column in which we can find addresses\r\n",
    "    given_location - tuple with latitude and longitude of a location from which we're counting the distance\r\n",
    "\r\n",
    "    postfix - what should I add to every address to make sure it's what we need. example: city/country\r\n",
    "\r\n",
    "    returned value - pd.Series distances in kilometers\r\n",
    "    \"\"\"\r\n",
    "    geolocator = Nominatim(user_agent=\"Strive School YMVC Project\")\r\n",
    "\r\n",
    "    number_of_rows = dataframe.shape[0]\r\n",
    "    addresses_df = dataframe[addresses_column_name]\r\n",
    "\r\n",
    "    gps_addresses = np.zeros(shape=number_of_rows)\r\n",
    "\r\n",
    "    for row_nr in np.arange(110, 112):  ## TODO: fix this for the real rannge, this is a testing one\r\n",
    "        dist = -1.0\r\n",
    "        try:\r\n",
    "            loc = geolocator.geocode(addresses_df.iloc[row_nr] + postifx)\r\n",
    "            dist = distance(given_location, (loc.latitude, loc.longitude)).kilometers\r\n",
    "        except Exception as e:\r\n",
    "            print(e)\r\n",
    "        gps_addresses[row_nr] = dist\r\n",
    "        \r\n",
    "    return pd.Series(gps_addresses, name=\"distance\")"
   ]
  },
  {
   "cell_type": "code",
   "execution_count": 21,
   "metadata": {},
   "outputs": [],
   "source": [
    "from_here = (30.274773446583634, -97.74038126660496)\r\n",
    "x = get_distances(austin_tx, 'address', from_here, postifx=\" Austin Texas\")"
   ]
  },
  {
   "cell_type": "code",
   "execution_count": 23,
   "metadata": {},
   "outputs": [
    {
     "data": {
      "text/plain": [
       "110     1.789218\n",
       "111    16.528674\n",
       "Name: distance, dtype: float64"
      ]
     },
     "execution_count": 23,
     "metadata": {},
     "output_type": "execute_result"
    }
   ],
   "source": [
    "x[110:112]"
   ]
  },
  {
   "cell_type": "markdown",
   "metadata": {},
   "source": [
    "Useful function to help with selecting only rows which contain a chosen word in a given column."
   ]
  },
  {
   "cell_type": "code",
   "execution_count": 18,
   "metadata": {},
   "outputs": [],
   "source": [
    "def contains(column, word):\r\n",
    "    \"\"\"\r\n",
    "    Usage:\r\n",
    "    Pass a column and a word u want to find in the cells, to get a np.array of type bool.\r\n",
    "    Afterwards u can pass it as an argument of [] selection mechanism. Examples:\r\n",
    "\r\n",
    "    austin_tx[ contains(austin_tx.categories, \"Shopping\") ]\r\n",
    "    austin_tx[ contains(austin_tx.categories, \"Shopping\") | contains(austin_tx.categories, \"Hotels\") ]      # and\r\n",
    "    austin_tx[ contains(austin_tx.categories, \"Shopping\") & contains(austin_tx.categories, \"Watches\") ]     # or\r\n",
    "\r\n",
    "    Works for all columns that return strings. hours and attributes too.\r\n",
    "    \"\"\"\r\n",
    "    return np.array([(word in vals) for vals in column])"
   ]
  },
  {
   "cell_type": "markdown",
   "metadata": {},
   "source": [
    "Chech for ALL existing cathegories. (Additionaly it checks how many of each one are there.)"
   ]
  },
  {
   "cell_type": "code",
   "execution_count": 19,
   "metadata": {},
   "outputs": [],
   "source": [
    "categories_counts = {}\r\n",
    "for things in austin_tx.categories.unique():\r\n",
    "    things = things.replace(', &', ' &')\r\n",
    "    for thing in things.split(sep=\", \"):\r\n",
    "        if thing in categories_counts.keys():\r\n",
    "            categories_counts[thing] += 1\r\n",
    "        else:\r\n",
    "            categories_counts[thing] = 1"
   ]
  }
 ],
 "metadata": {
  "interpreter": {
   "hash": "0b3835b907b6cc7d301aec5540e8a0fbdbe5019d215ce85ebb6eb02d9dcf944e"
  },
  "kernelspec": {
   "display_name": "Python 3.8.10 64-bit ('numba': conda)",
   "name": "python3"
  },
  "language_info": {
   "codemirror_mode": {
    "name": "ipython",
    "version": 3
   },
   "file_extension": ".py",
   "mimetype": "text/x-python",
   "name": "python",
   "nbconvert_exporter": "python",
   "pygments_lexer": "ipython3",
   "version": "3.8.10"
  },
  "orig_nbformat": 4
 },
 "nbformat": 4,
 "nbformat_minor": 2
}