{
 "cells": [
  {
   "cell_type": "code",
   "execution_count": 1,
   "metadata": {},
   "outputs": [],
   "source": [
    "import pandas as pd\r\n",
    "import numpy as np"
   ]
  },
  {
   "cell_type": "code",
   "execution_count": 2,
   "metadata": {},
   "outputs": [],
   "source": [
    "business = pd.read_json(\"yelp_academic_dataset_business.json\", lines=True)"
   ]
  },
  {
   "cell_type": "markdown",
   "metadata": {},
   "source": [
    "Sneak peek into 2 first rows to realise what we've got."
   ]
  },
  {
   "cell_type": "code",
   "execution_count": 3,
   "metadata": {},
   "outputs": [
    {
     "data": {
      "text/html": [
       "<div>\n",
       "<style scoped>\n",
       "    .dataframe tbody tr th:only-of-type {\n",
       "        vertical-align: middle;\n",
       "    }\n",
       "\n",
       "    .dataframe tbody tr th {\n",
       "        vertical-align: top;\n",
       "    }\n",
       "\n",
       "    .dataframe thead th {\n",
       "        text-align: right;\n",
       "    }\n",
       "</style>\n",
       "<table border=\"1\" class=\"dataframe\">\n",
       "  <thead>\n",
       "    <tr style=\"text-align: right;\">\n",
       "      <th></th>\n",
       "      <th>business_id</th>\n",
       "      <th>name</th>\n",
       "      <th>address</th>\n",
       "      <th>city</th>\n",
       "      <th>state</th>\n",
       "      <th>postal_code</th>\n",
       "      <th>latitude</th>\n",
       "      <th>longitude</th>\n",
       "      <th>stars</th>\n",
       "      <th>review_count</th>\n",
       "      <th>is_open</th>\n",
       "      <th>attributes</th>\n",
       "      <th>categories</th>\n",
       "      <th>hours</th>\n",
       "    </tr>\n",
       "  </thead>\n",
       "  <tbody>\n",
       "    <tr>\n",
       "      <th>0</th>\n",
       "      <td>6iYb2HFDywm3zjuRg0shjw</td>\n",
       "      <td>Oskar Blues Taproom</td>\n",
       "      <td>921 Pearl St</td>\n",
       "      <td>Boulder</td>\n",
       "      <td>CO</td>\n",
       "      <td>80302</td>\n",
       "      <td>40.017544</td>\n",
       "      <td>-105.283348</td>\n",
       "      <td>4.0</td>\n",
       "      <td>86</td>\n",
       "      <td>1</td>\n",
       "      <td>{'RestaurantsTableService': 'True', 'WiFi': 'u...</td>\n",
       "      <td>Gastropubs, Food, Beer Gardens, Restaurants, B...</td>\n",
       "      <td>{'Monday': '11:0-23:0', 'Tuesday': '11:0-23:0'...</td>\n",
       "    </tr>\n",
       "    <tr>\n",
       "      <th>1</th>\n",
       "      <td>tCbdrRPZA0oiIYSmHG3J0w</td>\n",
       "      <td>Flying Elephants at PDX</td>\n",
       "      <td>7000 NE Airport Way</td>\n",
       "      <td>Portland</td>\n",
       "      <td>OR</td>\n",
       "      <td>97218</td>\n",
       "      <td>45.588906</td>\n",
       "      <td>-122.593331</td>\n",
       "      <td>4.0</td>\n",
       "      <td>126</td>\n",
       "      <td>1</td>\n",
       "      <td>{'RestaurantsTakeOut': 'True', 'RestaurantsAtt...</td>\n",
       "      <td>Salad, Soup, Sandwiches, Delis, Restaurants, C...</td>\n",
       "      <td>{'Monday': '5:0-18:0', 'Tuesday': '5:0-17:0', ...</td>\n",
       "    </tr>\n",
       "  </tbody>\n",
       "</table>\n",
       "</div>"
      ],
      "text/plain": [
       "              business_id                     name              address  \\\n",
       "0  6iYb2HFDywm3zjuRg0shjw      Oskar Blues Taproom         921 Pearl St   \n",
       "1  tCbdrRPZA0oiIYSmHG3J0w  Flying Elephants at PDX  7000 NE Airport Way   \n",
       "\n",
       "       city state postal_code   latitude   longitude  stars  review_count  \\\n",
       "0   Boulder    CO       80302  40.017544 -105.283348    4.0            86   \n",
       "1  Portland    OR       97218  45.588906 -122.593331    4.0           126   \n",
       "\n",
       "   is_open                                         attributes  \\\n",
       "0        1  {'RestaurantsTableService': 'True', 'WiFi': 'u...   \n",
       "1        1  {'RestaurantsTakeOut': 'True', 'RestaurantsAtt...   \n",
       "\n",
       "                                          categories  \\\n",
       "0  Gastropubs, Food, Beer Gardens, Restaurants, B...   \n",
       "1  Salad, Soup, Sandwiches, Delis, Restaurants, C...   \n",
       "\n",
       "                                               hours  \n",
       "0  {'Monday': '11:0-23:0', 'Tuesday': '11:0-23:0'...  \n",
       "1  {'Monday': '5:0-18:0', 'Tuesday': '5:0-17:0', ...  "
      ]
     },
     "execution_count": 3,
     "metadata": {},
     "output_type": "execute_result"
    }
   ],
   "source": [
    "business.head(2)"
   ]
  },
  {
   "cell_type": "markdown",
   "metadata": {},
   "source": [
    "Create 2 bool arrays to finaly get only Austing AND Texas entries."
   ]
  },
  {
   "cell_type": "code",
   "execution_count": 4,
   "metadata": {},
   "outputs": [],
   "source": [
    "austin_tx_bool = np.array(business.city == 'Austin') * np.array(business.state == 'TX')\r\n",
    "austin_tx = business[austin_tx_bool]"
   ]
  },
  {
   "cell_type": "code",
   "execution_count": 5,
   "metadata": {},
   "outputs": [],
   "source": [
    "# austin_tx.to_json('austin_tx.json')"
   ]
  },
  {
   "cell_type": "markdown",
   "metadata": {},
   "source": [
    "Drop unimportant columns."
   ]
  },
  {
   "cell_type": "code",
   "execution_count": 6,
   "metadata": {},
   "outputs": [],
   "source": [
    "# austin_tx = austin_tx.drop(['city', 'state', 'business_id', 'address'], axis=1)\r\n",
    "austin_tx = austin_tx.drop(['city', 'state', 'business_id'], axis=1)"
   ]
  },
  {
   "cell_type": "markdown",
   "metadata": {},
   "source": [
    "We have a lot of nan values, let's see how many."
   ]
  },
  {
   "cell_type": "code",
   "execution_count": 7,
   "metadata": {},
   "outputs": [
    {
     "data": {
      "text/plain": [
       "name               0\n",
       "address            0\n",
       "postal_code        0\n",
       "latitude           0\n",
       "longitude          0\n",
       "stars              0\n",
       "review_count       0\n",
       "is_open            0\n",
       "attributes      2269\n",
       "categories        17\n",
       "hours           3477\n",
       "dtype: int64"
      ]
     },
     "execution_count": 7,
     "metadata": {},
     "output_type": "execute_result"
    }
   ],
   "source": [
    "austin_tx.isna().sum()"
   ]
  },
  {
   "cell_type": "markdown",
   "metadata": {},
   "source": [
    "Let's drop the nans."
   ]
  },
  {
   "cell_type": "code",
   "execution_count": 8,
   "metadata": {},
   "outputs": [
    {
     "name": "stdout",
     "output_type": "stream",
     "text": [
      "Dropped: 5070 rows with nan values.\n"
     ]
    }
   ],
   "source": [
    "dropped = austin_tx.shape[0]\r\n",
    "austin_tx.dropna(inplace=True)\r\n",
    "dropped -= austin_tx.shape[0]\r\n",
    "print(\"Dropped:\", dropped, \"rows with nan values.\") #5070"
   ]
  },
  {
   "cell_type": "code",
   "execution_count": 9,
   "metadata": {},
   "outputs": [],
   "source": [
    "# austin_tx.to_json('austin_tx_nona.json')"
   ]
  },
  {
   "cell_type": "markdown",
   "metadata": {},
   "source": [
    "Let's peek to first 2 rows to see what we've got."
   ]
  },
  {
   "cell_type": "code",
   "execution_count": 10,
   "metadata": {},
   "outputs": [
    {
     "data": {
      "text/html": [
       "<div>\n",
       "<style scoped>\n",
       "    .dataframe tbody tr th:only-of-type {\n",
       "        vertical-align: middle;\n",
       "    }\n",
       "\n",
       "    .dataframe tbody tr th {\n",
       "        vertical-align: top;\n",
       "    }\n",
       "\n",
       "    .dataframe thead th {\n",
       "        text-align: right;\n",
       "    }\n",
       "</style>\n",
       "<table border=\"1\" class=\"dataframe\">\n",
       "  <thead>\n",
       "    <tr style=\"text-align: right;\">\n",
       "      <th></th>\n",
       "      <th>name</th>\n",
       "      <th>address</th>\n",
       "      <th>postal_code</th>\n",
       "      <th>latitude</th>\n",
       "      <th>longitude</th>\n",
       "      <th>stars</th>\n",
       "      <th>review_count</th>\n",
       "      <th>is_open</th>\n",
       "      <th>attributes</th>\n",
       "      <th>categories</th>\n",
       "      <th>hours</th>\n",
       "    </tr>\n",
       "  </thead>\n",
       "  <tbody>\n",
       "    <tr>\n",
       "      <th>8</th>\n",
       "      <td>Lane Wells Jewelry Repair</td>\n",
       "      <td>7801 N Lamar Blvd, Ste A140</td>\n",
       "      <td>78752</td>\n",
       "      <td>30.346169</td>\n",
       "      <td>-97.711458</td>\n",
       "      <td>5.0</td>\n",
       "      <td>30</td>\n",
       "      <td>1</td>\n",
       "      <td>{'RestaurantsPriceRange2': '1', 'ByAppointment...</td>\n",
       "      <td>Shopping, Jewelry Repair, Appraisal Services, ...</td>\n",
       "      <td>{'Monday': '12:15-17:0', 'Tuesday': '12:15-17:...</td>\n",
       "    </tr>\n",
       "    <tr>\n",
       "      <th>9</th>\n",
       "      <td>Capital City Barber Shop</td>\n",
       "      <td>615 W Slaughter Ln, Ste 113</td>\n",
       "      <td>78748</td>\n",
       "      <td>30.172706</td>\n",
       "      <td>-97.799920</td>\n",
       "      <td>4.0</td>\n",
       "      <td>5</td>\n",
       "      <td>0</td>\n",
       "      <td>{'BusinessAcceptsCreditCards': 'False', 'Resta...</td>\n",
       "      <td>Barbers, Beauty &amp; Spas</td>\n",
       "      <td>{'Monday': '9:0-17:0', 'Tuesday': '9:0-19:0', ...</td>\n",
       "    </tr>\n",
       "  </tbody>\n",
       "</table>\n",
       "</div>"
      ],
      "text/plain": [
       "                        name                      address postal_code  \\\n",
       "8  Lane Wells Jewelry Repair  7801 N Lamar Blvd, Ste A140       78752   \n",
       "9   Capital City Barber Shop  615 W Slaughter Ln, Ste 113       78748   \n",
       "\n",
       "    latitude  longitude  stars  review_count  is_open  \\\n",
       "8  30.346169 -97.711458    5.0            30        1   \n",
       "9  30.172706 -97.799920    4.0             5        0   \n",
       "\n",
       "                                          attributes  \\\n",
       "8  {'RestaurantsPriceRange2': '1', 'ByAppointment...   \n",
       "9  {'BusinessAcceptsCreditCards': 'False', 'Resta...   \n",
       "\n",
       "                                          categories  \\\n",
       "8  Shopping, Jewelry Repair, Appraisal Services, ...   \n",
       "9                             Barbers, Beauty & Spas   \n",
       "\n",
       "                                               hours  \n",
       "8  {'Monday': '12:15-17:0', 'Tuesday': '12:15-17:...  \n",
       "9  {'Monday': '9:0-17:0', 'Tuesday': '9:0-19:0', ...  "
      ]
     },
     "execution_count": 10,
     "metadata": {},
     "output_type": "execute_result"
    }
   ],
   "source": [
    "austin_tx.head(2)"
   ]
  },
  {
   "cell_type": "markdown",
   "metadata": {},
   "source": [
    "## Function to add distances from given place to the dataframe."
   ]
  },
  {
   "cell_type": "markdown",
   "metadata": {},
   "source": [
    "Clear address column from strange informations, this fix_adress() is suited for austin_tx database. New one may be required for Berlin."
   ]
  },
  {
   "cell_type": "code",
   "execution_count": 11,
   "metadata": {},
   "outputs": [],
   "source": [
    "def fix_address(address):\r\n",
    "    return (address.split(sep=', '))[0]\r\n",
    "austin_tx['address'] = austin_tx['address'].apply(fix_address)"
   ]
  },
  {
   "cell_type": "code",
   "execution_count": 12,
   "metadata": {},
   "outputs": [
    {
     "data": {
      "text/html": [
       "<div>\n",
       "<style scoped>\n",
       "    .dataframe tbody tr th:only-of-type {\n",
       "        vertical-align: middle;\n",
       "    }\n",
       "\n",
       "    .dataframe tbody tr th {\n",
       "        vertical-align: top;\n",
       "    }\n",
       "\n",
       "    .dataframe thead th {\n",
       "        text-align: right;\n",
       "    }\n",
       "</style>\n",
       "<table border=\"1\" class=\"dataframe\">\n",
       "  <thead>\n",
       "    <tr style=\"text-align: right;\">\n",
       "      <th></th>\n",
       "      <th>name</th>\n",
       "      <th>address</th>\n",
       "      <th>postal_code</th>\n",
       "      <th>latitude</th>\n",
       "      <th>longitude</th>\n",
       "      <th>stars</th>\n",
       "      <th>review_count</th>\n",
       "      <th>is_open</th>\n",
       "      <th>attributes</th>\n",
       "      <th>categories</th>\n",
       "      <th>hours</th>\n",
       "    </tr>\n",
       "  </thead>\n",
       "  <tbody>\n",
       "    <tr>\n",
       "      <th>8</th>\n",
       "      <td>Lane Wells Jewelry Repair</td>\n",
       "      <td>7801 N Lamar Blvd</td>\n",
       "      <td>78752</td>\n",
       "      <td>30.346169</td>\n",
       "      <td>-97.711458</td>\n",
       "      <td>5.0</td>\n",
       "      <td>30</td>\n",
       "      <td>1</td>\n",
       "      <td>{'RestaurantsPriceRange2': '1', 'ByAppointment...</td>\n",
       "      <td>Shopping, Jewelry Repair, Appraisal Services, ...</td>\n",
       "      <td>{'Monday': '12:15-17:0', 'Tuesday': '12:15-17:...</td>\n",
       "    </tr>\n",
       "    <tr>\n",
       "      <th>9</th>\n",
       "      <td>Capital City Barber Shop</td>\n",
       "      <td>615 W Slaughter Ln</td>\n",
       "      <td>78748</td>\n",
       "      <td>30.172706</td>\n",
       "      <td>-97.799920</td>\n",
       "      <td>4.0</td>\n",
       "      <td>5</td>\n",
       "      <td>0</td>\n",
       "      <td>{'BusinessAcceptsCreditCards': 'False', 'Resta...</td>\n",
       "      <td>Barbers, Beauty &amp; Spas</td>\n",
       "      <td>{'Monday': '9:0-17:0', 'Tuesday': '9:0-19:0', ...</td>\n",
       "    </tr>\n",
       "  </tbody>\n",
       "</table>\n",
       "</div>"
      ],
      "text/plain": [
       "                        name             address postal_code   latitude  \\\n",
       "8  Lane Wells Jewelry Repair   7801 N Lamar Blvd       78752  30.346169   \n",
       "9   Capital City Barber Shop  615 W Slaughter Ln       78748  30.172706   \n",
       "\n",
       "   longitude  stars  review_count  is_open  \\\n",
       "8 -97.711458    5.0            30        1   \n",
       "9 -97.799920    4.0             5        0   \n",
       "\n",
       "                                          attributes  \\\n",
       "8  {'RestaurantsPriceRange2': '1', 'ByAppointment...   \n",
       "9  {'BusinessAcceptsCreditCards': 'False', 'Resta...   \n",
       "\n",
       "                                          categories  \\\n",
       "8  Shopping, Jewelry Repair, Appraisal Services, ...   \n",
       "9                             Barbers, Beauty & Spas   \n",
       "\n",
       "                                               hours  \n",
       "8  {'Monday': '12:15-17:0', 'Tuesday': '12:15-17:...  \n",
       "9  {'Monday': '9:0-17:0', 'Tuesday': '9:0-19:0', ...  "
      ]
     },
     "execution_count": 12,
     "metadata": {},
     "output_type": "execute_result"
    }
   ],
   "source": [
    "austin_tx.head(2)"
   ]
  },
  {
   "cell_type": "markdown",
   "metadata": {},
   "source": [
    "### Actual function to use in our work."
   ]
  },
  {
   "cell_type": "code",
   "execution_count": 13,
   "metadata": {},
   "outputs": [],
   "source": [
    "# conda install -c conda-forge geopy\r\n",
    "from geopy.geocoders import Nominatim\r\n",
    "from geopy.distance import distance\r\n",
    "\r\n",
    "# proceed with cauction!!!\r\n",
    "def distance_from(dataframe, addresses_column_name, given_location, postifx=\"\", inplace=False):\r\n",
    "    \"\"\"\r\n",
    "    dataframe - pandas.DataFrame object\r\n",
    "    addresses_column_name - name of the column in which we can find addresses\r\n",
    "    given_location - tuple with latitude and longitude of a location from which we're counting the distance\r\n",
    "\r\n",
    "    postfix - what should I add to every address to make sure it's what we need. example: city/country\r\n",
    "    inplace - check it if you want to change the given dataframe. default False\r\n",
    "\r\n",
    "    returned value - pd.Series distances in kilometers\r\n",
    "    \"\"\"\r\n",
    "    geolocator = Nominatim(user_agent=\"Strive School YMVC Project\")\r\n",
    "\r\n",
    "    number_of_rows = dataframe.shape[0]\r\n",
    "    addresses_df = dataframe[addresses_column_name]\r\n",
    "\r\n",
    "    gps_addresses = np.zeros(shape=number_of_rows)\r\n",
    "\r\n",
    "    # this loop can take a looooong time.\r\n",
    "    for row_nr in np.arange(0, number_of_rows):\r\n",
    "        dist = np.nan\r\n",
    "        try:\r\n",
    "            loc = geolocator.geocode(addresses_df.iloc[row_nr] + postifx)\r\n",
    "            dist = distance(given_location, (loc.latitude, loc.longitude)).kilometers\r\n",
    "        except Exception as e:\r\n",
    "            print(e)\r\n",
    "        gps_addresses[row_nr] = dist\r\n",
    "\r\n",
    "    if inplace:\r\n",
    "        # we put a new column before the \"address\" column\r\n",
    "        dataframe.insert(dataframe.columns.get_loc(addresses_column_name), 'distance_km', gps_addresses)\r\n",
    "    else:\r\n",
    "        return pd.Series(gps_addresses, name='distance_km')"
   ]
  },
  {
   "cell_type": "markdown",
   "metadata": {},
   "source": [
    "Example of use with inplace=False"
   ]
  },
  {
   "cell_type": "code",
   "execution_count": 14,
   "metadata": {},
   "outputs": [],
   "source": [
    "# temporary dataframe\r\n",
    "head_2 = austin_tx.head(2)\r\n",
    "\r\n",
    "# some coordinates\r\n",
    "some_place = (30.274773446583634, -97.74038126660496)\r\n",
    "\r\n",
    "pd_series_distance = distance_from(head_2, 'address', some_place, postifx=\" Austin Texas\", inplace=False)\r\n"
   ]
  },
  {
   "cell_type": "code",
   "execution_count": 15,
   "metadata": {},
   "outputs": [
    {
     "data": {
      "text/plain": [
       "0     8.258619\n",
       "1    12.785982\n",
       "Name: distance_km, dtype: float64"
      ]
     },
     "execution_count": 15,
     "metadata": {},
     "output_type": "execute_result"
    }
   ],
   "source": [
    "# distances stored outside the given dataframe\r\n",
    "pd_series_distance"
   ]
  },
  {
   "cell_type": "code",
   "execution_count": 16,
   "metadata": {},
   "outputs": [
    {
     "data": {
      "text/html": [
       "<div>\n",
       "<style scoped>\n",
       "    .dataframe tbody tr th:only-of-type {\n",
       "        vertical-align: middle;\n",
       "    }\n",
       "\n",
       "    .dataframe tbody tr th {\n",
       "        vertical-align: top;\n",
       "    }\n",
       "\n",
       "    .dataframe thead th {\n",
       "        text-align: right;\n",
       "    }\n",
       "</style>\n",
       "<table border=\"1\" class=\"dataframe\">\n",
       "  <thead>\n",
       "    <tr style=\"text-align: right;\">\n",
       "      <th></th>\n",
       "      <th>name</th>\n",
       "      <th>address</th>\n",
       "      <th>postal_code</th>\n",
       "      <th>latitude</th>\n",
       "      <th>longitude</th>\n",
       "      <th>stars</th>\n",
       "      <th>review_count</th>\n",
       "      <th>is_open</th>\n",
       "      <th>attributes</th>\n",
       "      <th>categories</th>\n",
       "      <th>hours</th>\n",
       "    </tr>\n",
       "  </thead>\n",
       "  <tbody>\n",
       "    <tr>\n",
       "      <th>8</th>\n",
       "      <td>Lane Wells Jewelry Repair</td>\n",
       "      <td>7801 N Lamar Blvd</td>\n",
       "      <td>78752</td>\n",
       "      <td>30.346169</td>\n",
       "      <td>-97.711458</td>\n",
       "      <td>5.0</td>\n",
       "      <td>30</td>\n",
       "      <td>1</td>\n",
       "      <td>{'RestaurantsPriceRange2': '1', 'ByAppointment...</td>\n",
       "      <td>Shopping, Jewelry Repair, Appraisal Services, ...</td>\n",
       "      <td>{'Monday': '12:15-17:0', 'Tuesday': '12:15-17:...</td>\n",
       "    </tr>\n",
       "    <tr>\n",
       "      <th>9</th>\n",
       "      <td>Capital City Barber Shop</td>\n",
       "      <td>615 W Slaughter Ln</td>\n",
       "      <td>78748</td>\n",
       "      <td>30.172706</td>\n",
       "      <td>-97.799920</td>\n",
       "      <td>4.0</td>\n",
       "      <td>5</td>\n",
       "      <td>0</td>\n",
       "      <td>{'BusinessAcceptsCreditCards': 'False', 'Resta...</td>\n",
       "      <td>Barbers, Beauty &amp; Spas</td>\n",
       "      <td>{'Monday': '9:0-17:0', 'Tuesday': '9:0-19:0', ...</td>\n",
       "    </tr>\n",
       "  </tbody>\n",
       "</table>\n",
       "</div>"
      ],
      "text/plain": [
       "                        name             address postal_code   latitude  \\\n",
       "8  Lane Wells Jewelry Repair   7801 N Lamar Blvd       78752  30.346169   \n",
       "9   Capital City Barber Shop  615 W Slaughter Ln       78748  30.172706   \n",
       "\n",
       "   longitude  stars  review_count  is_open  \\\n",
       "8 -97.711458    5.0            30        1   \n",
       "9 -97.799920    4.0             5        0   \n",
       "\n",
       "                                          attributes  \\\n",
       "8  {'RestaurantsPriceRange2': '1', 'ByAppointment...   \n",
       "9  {'BusinessAcceptsCreditCards': 'False', 'Resta...   \n",
       "\n",
       "                                          categories  \\\n",
       "8  Shopping, Jewelry Repair, Appraisal Services, ...   \n",
       "9                             Barbers, Beauty & Spas   \n",
       "\n",
       "                                               hours  \n",
       "8  {'Monday': '12:15-17:0', 'Tuesday': '12:15-17:...  \n",
       "9  {'Monday': '9:0-17:0', 'Tuesday': '9:0-19:0', ...  "
      ]
     },
     "execution_count": 16,
     "metadata": {},
     "output_type": "execute_result"
    }
   ],
   "source": [
    "# dataframe unchanged\r\n",
    "head_2"
   ]
  },
  {
   "cell_type": "markdown",
   "metadata": {},
   "source": [
    "Example use with inplace=True"
   ]
  },
  {
   "cell_type": "code",
   "execution_count": 17,
   "metadata": {},
   "outputs": [],
   "source": [
    "distance_from(head_2, 'address', some_place, postifx=\" Austin Texas\", inplace=True)\r\n",
    "# returned value: None"
   ]
  },
  {
   "cell_type": "code",
   "execution_count": 18,
   "metadata": {},
   "outputs": [
    {
     "data": {
      "text/html": [
       "<div>\n",
       "<style scoped>\n",
       "    .dataframe tbody tr th:only-of-type {\n",
       "        vertical-align: middle;\n",
       "    }\n",
       "\n",
       "    .dataframe tbody tr th {\n",
       "        vertical-align: top;\n",
       "    }\n",
       "\n",
       "    .dataframe thead th {\n",
       "        text-align: right;\n",
       "    }\n",
       "</style>\n",
       "<table border=\"1\" class=\"dataframe\">\n",
       "  <thead>\n",
       "    <tr style=\"text-align: right;\">\n",
       "      <th></th>\n",
       "      <th>name</th>\n",
       "      <th>distance_km</th>\n",
       "      <th>address</th>\n",
       "      <th>postal_code</th>\n",
       "      <th>latitude</th>\n",
       "      <th>longitude</th>\n",
       "      <th>stars</th>\n",
       "      <th>review_count</th>\n",
       "      <th>is_open</th>\n",
       "      <th>attributes</th>\n",
       "      <th>categories</th>\n",
       "      <th>hours</th>\n",
       "    </tr>\n",
       "  </thead>\n",
       "  <tbody>\n",
       "    <tr>\n",
       "      <th>8</th>\n",
       "      <td>Lane Wells Jewelry Repair</td>\n",
       "      <td>8.258619</td>\n",
       "      <td>7801 N Lamar Blvd</td>\n",
       "      <td>78752</td>\n",
       "      <td>30.346169</td>\n",
       "      <td>-97.711458</td>\n",
       "      <td>5.0</td>\n",
       "      <td>30</td>\n",
       "      <td>1</td>\n",
       "      <td>{'RestaurantsPriceRange2': '1', 'ByAppointment...</td>\n",
       "      <td>Shopping, Jewelry Repair, Appraisal Services, ...</td>\n",
       "      <td>{'Monday': '12:15-17:0', 'Tuesday': '12:15-17:...</td>\n",
       "    </tr>\n",
       "    <tr>\n",
       "      <th>9</th>\n",
       "      <td>Capital City Barber Shop</td>\n",
       "      <td>12.785982</td>\n",
       "      <td>615 W Slaughter Ln</td>\n",
       "      <td>78748</td>\n",
       "      <td>30.172706</td>\n",
       "      <td>-97.799920</td>\n",
       "      <td>4.0</td>\n",
       "      <td>5</td>\n",
       "      <td>0</td>\n",
       "      <td>{'BusinessAcceptsCreditCards': 'False', 'Resta...</td>\n",
       "      <td>Barbers, Beauty &amp; Spas</td>\n",
       "      <td>{'Monday': '9:0-17:0', 'Tuesday': '9:0-19:0', ...</td>\n",
       "    </tr>\n",
       "  </tbody>\n",
       "</table>\n",
       "</div>"
      ],
      "text/plain": [
       "                        name  distance_km             address postal_code  \\\n",
       "8  Lane Wells Jewelry Repair     8.258619   7801 N Lamar Blvd       78752   \n",
       "9   Capital City Barber Shop    12.785982  615 W Slaughter Ln       78748   \n",
       "\n",
       "    latitude  longitude  stars  review_count  is_open  \\\n",
       "8  30.346169 -97.711458    5.0            30        1   \n",
       "9  30.172706 -97.799920    4.0             5        0   \n",
       "\n",
       "                                          attributes  \\\n",
       "8  {'RestaurantsPriceRange2': '1', 'ByAppointment...   \n",
       "9  {'BusinessAcceptsCreditCards': 'False', 'Resta...   \n",
       "\n",
       "                                          categories  \\\n",
       "8  Shopping, Jewelry Repair, Appraisal Services, ...   \n",
       "9                             Barbers, Beauty & Spas   \n",
       "\n",
       "                                               hours  \n",
       "8  {'Monday': '12:15-17:0', 'Tuesday': '12:15-17:...  \n",
       "9  {'Monday': '9:0-17:0', 'Tuesday': '9:0-19:0', ...  "
      ]
     },
     "execution_count": 18,
     "metadata": {},
     "output_type": "execute_result"
    }
   ],
   "source": [
    "# head_2 has new column: distance_km\r\n",
    "head_2"
   ]
  },
  {
   "cell_type": "markdown",
   "metadata": {},
   "source": [
    "## Function for indexing dataframes based on strings/string parts that are contained in given column.\r\n",
    "(This function is just a mechanism we can use for boolean-indexing the dataframe since it returns boolean array.)"
   ]
  },
  {
   "cell_type": "code",
   "execution_count": 19,
   "metadata": {},
   "outputs": [],
   "source": [
    "def contains(column, word):\r\n",
    "    \"\"\"\r\n",
    "    Usage:\r\n",
    "    Pass a column and a word u want to find in the cells, to get a np.array of type bool.\r\n",
    "    Afterwards u can pass it as an argument of [] selection mechanism. Examples:\r\n",
    "\r\n",
    "    austin_tx[ contains(austin_tx.categories, \"Shopping\") ]\r\n",
    "    austin_tx[ contains(austin_tx.categories, \"Shopping\") | contains(austin_tx.categories, \"Hotels\") ]      # and\r\n",
    "    austin_tx[ contains(austin_tx.categories, \"Shopping\") & contains(austin_tx.categories, \"Watches\") ]     # or\r\n",
    "\r\n",
    "    Works for all columns that return strings. hours and attributes too.\r\n",
    "    \"\"\"\r\n",
    "    return np.array([(word in vals) for vals in column])"
   ]
  },
  {
   "cell_type": "markdown",
   "metadata": {},
   "source": [
    "Example: get all Shops that do Watches. :)"
   ]
  },
  {
   "cell_type": "code",
   "execution_count": 20,
   "metadata": {},
   "outputs": [
    {
     "data": {
      "text/html": [
       "<div>\n",
       "<style scoped>\n",
       "    .dataframe tbody tr th:only-of-type {\n",
       "        vertical-align: middle;\n",
       "    }\n",
       "\n",
       "    .dataframe tbody tr th {\n",
       "        vertical-align: top;\n",
       "    }\n",
       "\n",
       "    .dataframe thead th {\n",
       "        text-align: right;\n",
       "    }\n",
       "</style>\n",
       "<table border=\"1\" class=\"dataframe\">\n",
       "  <thead>\n",
       "    <tr style=\"text-align: right;\">\n",
       "      <th></th>\n",
       "      <th>name</th>\n",
       "      <th>address</th>\n",
       "      <th>postal_code</th>\n",
       "      <th>latitude</th>\n",
       "      <th>longitude</th>\n",
       "      <th>stars</th>\n",
       "      <th>review_count</th>\n",
       "      <th>is_open</th>\n",
       "      <th>attributes</th>\n",
       "      <th>categories</th>\n",
       "      <th>hours</th>\n",
       "    </tr>\n",
       "  </thead>\n",
       "  <tbody>\n",
       "    <tr>\n",
       "      <th>103</th>\n",
       "      <td>Bernard Watch Co.</td>\n",
       "      <td>3834 Spicewood Springs Rd</td>\n",
       "      <td>78759</td>\n",
       "      <td>30.366473</td>\n",
       "      <td>-97.749946</td>\n",
       "      <td>4.5</td>\n",
       "      <td>80</td>\n",
       "      <td>1</td>\n",
       "      <td>{'RestaurantsPriceRange2': '3', 'BusinessAccep...</td>\n",
       "      <td>Watches, Shopping</td>\n",
       "      <td>{'Monday': '0:0-0:0', 'Tuesday': '10:0-13:30',...</td>\n",
       "    </tr>\n",
       "    <tr>\n",
       "      <th>2710</th>\n",
       "      <td>Villarreal - Designers of Exquisite Jewelry</td>\n",
       "      <td>7600 Burnet Rd</td>\n",
       "      <td>78757</td>\n",
       "      <td>30.353134</td>\n",
       "      <td>-97.733745</td>\n",
       "      <td>4.5</td>\n",
       "      <td>26</td>\n",
       "      <td>1</td>\n",
       "      <td>{'BusinessParking': '{'garage': False, 'street...</td>\n",
       "      <td>Local Services, Appraisal Services, Shopping, ...</td>\n",
       "      <td>{'Monday': '10:0-18:0', 'Tuesday': '10:0-18:0'...</td>\n",
       "    </tr>\n",
       "  </tbody>\n",
       "</table>\n",
       "</div>"
      ],
      "text/plain": [
       "                                             name                    address  \\\n",
       "103                             Bernard Watch Co.  3834 Spicewood Springs Rd   \n",
       "2710  Villarreal - Designers of Exquisite Jewelry             7600 Burnet Rd   \n",
       "\n",
       "     postal_code   latitude  longitude  stars  review_count  is_open  \\\n",
       "103        78759  30.366473 -97.749946    4.5            80        1   \n",
       "2710       78757  30.353134 -97.733745    4.5            26        1   \n",
       "\n",
       "                                             attributes  \\\n",
       "103   {'RestaurantsPriceRange2': '3', 'BusinessAccep...   \n",
       "2710  {'BusinessParking': '{'garage': False, 'street...   \n",
       "\n",
       "                                             categories  \\\n",
       "103                                   Watches, Shopping   \n",
       "2710  Local Services, Appraisal Services, Shopping, ...   \n",
       "\n",
       "                                                  hours  \n",
       "103   {'Monday': '0:0-0:0', 'Tuesday': '10:0-13:30',...  \n",
       "2710  {'Monday': '10:0-18:0', 'Tuesday': '10:0-18:0'...  "
      ]
     },
     "execution_count": 20,
     "metadata": {},
     "output_type": "execute_result"
    }
   ],
   "source": [
    "(austin_tx[ contains(austin_tx.categories, \"Shopping\") & contains(austin_tx.categories, \"Watches\") ]).head(2)"
   ]
  },
  {
   "cell_type": "markdown",
   "metadata": {},
   "source": [
    "## Function that returns all categories and how much of each there is."
   ]
  },
  {
   "cell_type": "markdown",
   "metadata": {},
   "source": [
    "Clear categories column from strange informations, this fix_category() is suited for austin_tx database. New one may be required for Berlin."
   ]
  },
  {
   "cell_type": "code",
   "execution_count": 21,
   "metadata": {},
   "outputs": [],
   "source": [
    "def fix_category(category):\r\n",
    "    return category.replace(\", &\", \" &\")\r\n",
    "austin_tx['categories'] = austin_tx['categories'].apply(fix_category)"
   ]
  },
  {
   "cell_type": "markdown",
   "metadata": {},
   "source": [
    "### Actual function"
   ]
  },
  {
   "cell_type": "code",
   "execution_count": 22,
   "metadata": {},
   "outputs": [],
   "source": [
    "def get_categories_dict(category_column):\r\n",
    "    categories_counts = {}\r\n",
    "    for things in category_column:\r\n",
    "        for thing in things.split(sep=\", \"):    \r\n",
    "            if thing in categories_counts.keys():\r\n",
    "                categories_counts[thing] += 1\r\n",
    "            else:\r\n",
    "                categories_counts[thing] = 1\r\n",
    "    return categories_counts"
   ]
  },
  {
   "cell_type": "markdown",
   "metadata": {},
   "source": [
    "Example usage:"
   ]
  },
  {
   "cell_type": "code",
   "execution_count": 23,
   "metadata": {},
   "outputs": [],
   "source": [
    "categories_counts = get_categories_dict(austin_tx['categories'])"
   ]
  },
  {
   "cell_type": "markdown",
   "metadata": {},
   "source": [
    "I use the loop below to just show first 3 entries."
   ]
  },
  {
   "cell_type": "code",
   "execution_count": 24,
   "metadata": {},
   "outputs": [
    {
     "name": "stdout",
     "output_type": "stream",
     "text": [
      "Category name: Shopping \n",
      "Number of entries with this type: 2920 \n",
      "\n",
      "Category name: Jewelry Repair \n",
      "Number of entries with this type: 42 \n",
      "\n",
      "Category name: Appraisal Services \n",
      "Number of entries with this type: 18 \n",
      "\n"
     ]
    }
   ],
   "source": [
    "# few example entries in \"categories_counts\"\r\n",
    "for idx, key in enumerate(categories_counts):\r\n",
    "    if idx < 3:\r\n",
    "        print(\"Category name:\", key, \"\\nNumber of entries with this type:\", categories_counts[key], \"\\n\")\r\n",
    "    else:\r\n",
    "        break"
   ]
  },
  {
   "cell_type": "code",
   "execution_count": 25,
   "metadata": {},
   "outputs": [
    {
     "name": "stderr",
     "output_type": "stream",
     "text": [
      "<ipython-input-25-fdc704b68475>:9: SettingWithCopyWarning: \n",
      "A value is trying to be set on a copy of a slice from a DataFrame.\n",
      "Try using .loc[row_indexer,col_indexer] = value instead\n",
      "\n",
      "See the caveats in the documentation: https://pandas.pydata.org/pandas-docs/stable/user_guide/indexing.html#returning-a-view-versus-a-copy\n",
      "  significant_cathegories['average_stars'] = [austin_tx[contains(austin_tx.categories, key)].stars.mean() for key in significant_cathegories['categories']]\n"
     ]
    }
   ],
   "source": [
    "cc_df = pd.DataFrame.from_dict(categories_counts, orient='index', columns=['counts'])\r\n",
    "cc_df.reset_index(level=0, inplace=True)\r\n",
    "cc_df.rename(columns={'index':'categories'}, inplace=True)\r\n",
    "\r\n",
    "# let's say the significant ones are those which are more than 1% of the maximum value\r\n",
    "significtant = cc_df.counts.max() * 0.01\r\n",
    "significant_cathegories = cc_df[cc_df.counts > significtant]\r\n",
    "\r\n",
    "significant_cathegories['average_stars'] = [austin_tx[contains(austin_tx.categories, key)].stars.mean() for key in significant_cathegories['categories']]\r\n"
   ]
  },
  {
   "cell_type": "code",
   "execution_count": 28,
   "metadata": {},
   "outputs": [
    {
     "data": {
      "text/html": [
       "<div>\n",
       "<style scoped>\n",
       "    .dataframe tbody tr th:only-of-type {\n",
       "        vertical-align: middle;\n",
       "    }\n",
       "\n",
       "    .dataframe tbody tr th {\n",
       "        vertical-align: top;\n",
       "    }\n",
       "\n",
       "    .dataframe thead th {\n",
       "        text-align: right;\n",
       "    }\n",
       "</style>\n",
       "<table border=\"1\" class=\"dataframe\">\n",
       "  <thead>\n",
       "    <tr style=\"text-align: right;\">\n",
       "      <th></th>\n",
       "      <th>categories</th>\n",
       "      <th>counts</th>\n",
       "      <th>average_stars</th>\n",
       "    </tr>\n",
       "  </thead>\n",
       "  <tbody>\n",
       "    <tr>\n",
       "      <th>0</th>\n",
       "      <td>Shopping</td>\n",
       "      <td>2920</td>\n",
       "      <td>3.930479</td>\n",
       "    </tr>\n",
       "    <tr>\n",
       "      <th>3</th>\n",
       "      <td>Local Services</td>\n",
       "      <td>1840</td>\n",
       "      <td>3.962500</td>\n",
       "    </tr>\n",
       "    <tr>\n",
       "      <th>4</th>\n",
       "      <td>Jewelry</td>\n",
       "      <td>227</td>\n",
       "      <td>4.196507</td>\n",
       "    </tr>\n",
       "    <tr>\n",
       "      <th>7</th>\n",
       "      <td>Barbers</td>\n",
       "      <td>189</td>\n",
       "      <td>4.253968</td>\n",
       "    </tr>\n",
       "    <tr>\n",
       "      <th>8</th>\n",
       "      <td>Beauty &amp; Spas</td>\n",
       "      <td>1876</td>\n",
       "      <td>4.224947</td>\n",
       "    </tr>\n",
       "    <tr>\n",
       "      <th>...</th>\n",
       "      <td>...</td>\n",
       "      <td>...</td>\n",
       "      <td>...</td>\n",
       "    </tr>\n",
       "    <tr>\n",
       "      <th>635</th>\n",
       "      <td>Hot Dogs</td>\n",
       "      <td>58</td>\n",
       "      <td>3.913793</td>\n",
       "    </tr>\n",
       "    <tr>\n",
       "      <th>636</th>\n",
       "      <td>Party Equipment Rentals</td>\n",
       "      <td>63</td>\n",
       "      <td>4.492063</td>\n",
       "    </tr>\n",
       "    <tr>\n",
       "      <th>674</th>\n",
       "      <td>Pet Stores</td>\n",
       "      <td>53</td>\n",
       "      <td>4.301887</td>\n",
       "    </tr>\n",
       "    <tr>\n",
       "      <th>746</th>\n",
       "      <td>French</td>\n",
       "      <td>51</td>\n",
       "      <td>3.971154</td>\n",
       "    </tr>\n",
       "    <tr>\n",
       "      <th>747</th>\n",
       "      <td>Garage Door Services</td>\n",
       "      <td>45</td>\n",
       "      <td>4.311111</td>\n",
       "    </tr>\n",
       "  </tbody>\n",
       "</table>\n",
       "<p>319 rows × 3 columns</p>\n",
       "</div>"
      ],
      "text/plain": [
       "                  categories  counts  average_stars\n",
       "0                   Shopping    2920       3.930479\n",
       "3             Local Services    1840       3.962500\n",
       "4                    Jewelry     227       4.196507\n",
       "7                    Barbers     189       4.253968\n",
       "8              Beauty & Spas    1876       4.224947\n",
       "..                       ...     ...            ...\n",
       "635                 Hot Dogs      58       3.913793\n",
       "636  Party Equipment Rentals      63       4.492063\n",
       "674               Pet Stores      53       4.301887\n",
       "746                   French      51       3.971154\n",
       "747     Garage Door Services      45       4.311111\n",
       "\n",
       "[319 rows x 3 columns]"
      ]
     },
     "execution_count": 28,
     "metadata": {},
     "output_type": "execute_result"
    }
   ],
   "source": [
    "\r\n",
    "significant_cathegories"
   ]
  },
  {
   "cell_type": "code",
   "execution_count": 26,
   "metadata": {},
   "outputs": [],
   "source": [
    "# uncomment the line below and run this cell if you wanna see EVERYTHING\r\n",
    "# categories_counts"
   ]
  }
 ],
 "metadata": {
  "interpreter": {
   "hash": "0b3835b907b6cc7d301aec5540e8a0fbdbe5019d215ce85ebb6eb02d9dcf944e"
  },
  "kernelspec": {
   "display_name": "Python 3.8.10 64-bit ('numba': conda)",
   "name": "python3"
  },
  "language_info": {
   "codemirror_mode": {
    "name": "ipython",
    "version": 3
   },
   "file_extension": ".py",
   "mimetype": "text/x-python",
   "name": "python",
   "nbconvert_exporter": "python",
   "pygments_lexer": "ipython3",
   "version": "3.8.10"
  },
  "orig_nbformat": 4
 },
 "nbformat": 4,
 "nbformat_minor": 2
}