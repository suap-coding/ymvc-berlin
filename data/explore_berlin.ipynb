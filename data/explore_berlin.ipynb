{
 "cells": [
  {
   "cell_type": "code",
   "execution_count": 90,
   "metadata": {},
   "outputs": [],
   "source": [
    "import pandas as pd\r\n",
    "import numpy as np"
   ]
  },
  {
   "cell_type": "code",
   "execution_count": 91,
   "metadata": {},
   "outputs": [],
   "source": [
    "import pandas as pd\r\n",
    "import numpy as np"
   ]
  },
  {
   "cell_type": "code",
   "execution_count": 92,
   "metadata": {},
   "outputs": [],
   "source": [
    "# def fix_address(address):\r\n",
    "#     return (address.split(sep=', '))[0]"
   ]
  },
  {
   "cell_type": "code",
   "execution_count": 93,
   "metadata": {},
   "outputs": [],
   "source": [
    "# conda install -c conda-forge geopy\r\n",
    "from geopy.geocoders import Nominatim\r\n",
    "from geopy.distance import distance\r\n",
    "from tqdm import tqdm\r\n",
    "\r\n",
    "# proceed with cauction!!!\r\n",
    "def distance_from(given_location, dataframe, addresses_column_name, postifx=\"\", inplace=False):\r\n",
    "    \"\"\"\r\n",
    "    dataframe - pandas.DataFrame object\r\n",
    "    addresses_column_name - name of the column in which we can find addresses\r\n",
    "    given_location - tuple with latitude and longitude of a location from which we're counting the distance\r\n",
    "\r\n",
    "    postfix - what should I add to every address to make sure it's what we need. example: city/country\r\n",
    "    inplace - check it if you want to change the given dataframe. default False\r\n",
    "\r\n",
    "    returned value - pd.Series distances in kilometers\r\n",
    "    \"\"\"\r\n",
    "    geolocator = Nominatim(user_agent=\"Strive School YMVC Project\")\r\n",
    "\r\n",
    "    number_of_rows = dataframe.shape[0]\r\n",
    "    addresses_df = dataframe[addresses_column_name]\r\n",
    "\r\n",
    "    gps_addresses = np.zeros(shape=number_of_rows)\r\n",
    "\r\n",
    "    # this loop can take a looooong time.\r\n",
    "    for row_nr in np.arange(0, number_of_rows):\r\n",
    "        if row_nr % 20 == 0:\r\n",
    "            print(row_nr, number_of_rows)\r\n",
    "        dist = np.nan\r\n",
    "        try:\r\n",
    "            loc = geolocator.geocode(addresses_df.iloc[row_nr] + postifx)\r\n",
    "            dist = distance(given_location, (loc.latitude, loc.longitude)).kilometers\r\n",
    "        except Exception as e:\r\n",
    "            print(e)\r\n",
    "        gps_addresses[row_nr] = dist\r\n",
    "\r\n",
    "    if inplace:\r\n",
    "        # we put a new column before the \"address\" column\r\n",
    "        dataframe.insert(dataframe.columns.get_loc(addresses_column_name), 'distance_km', gps_addresses)\r\n",
    "    else:\r\n",
    "        return pd.Series(gps_addresses, name='distance_km')"
   ]
  },
  {
   "cell_type": "code",
   "execution_count": 94,
   "metadata": {},
   "outputs": [],
   "source": [
    "def contains(word, column, ignore_case=False):\r\n",
    "    \"\"\"\r\n",
    "    Usage:\r\n",
    "    Pass a column and a word u want to find in the cells, to get a np.array of type bool.\r\n",
    "    Afterwards u can pass it as an argument of [] selection mechanism. Examples:\r\n",
    "\r\n",
    "    austin_tx[ contains(austin_tx.categories, \"Shopping\") ]\r\n",
    "    austin_tx[ contains(austin_tx.categories, \"Shopping\") | contains(austin_tx.categories, \"Hotels\") ]      # and\r\n",
    "    austin_tx[ contains(austin_tx.categories, \"Shopping\") & contains(austin_tx.categories, \"Watches\") ]     # or\r\n",
    "\r\n",
    "    Works for all columns that return strings. hours and attributes too.\r\n",
    "    \"\"\"\r\n",
    "    if(ignore_case):\r\n",
    "        return np.array([(word.lower() in vals.lower()) for vals in column])\r\n",
    "    else:\r\n",
    "        return np.array([(word in vals) for vals in column])"
   ]
  },
  {
   "cell_type": "markdown",
   "metadata": {},
   "source": [
    "# CONTAINS ANY"
   ]
  },
  {
   "cell_type": "code",
   "execution_count": 95,
   "metadata": {},
   "outputs": [],
   "source": [
    "def contains_any(words_list, column, ignore_case=False):\r\n",
    "    contains = np.zeros(len(column), dtype=bool)\r\n",
    "    for idx, string in enumerate(column):\r\n",
    "        for w in words_list:\r\n",
    "            if ignore_case:\r\n",
    "                if w.lower() in string.lower():\r\n",
    "                    contains[idx] = True\r\n",
    "                    break\r\n",
    "            else:\r\n",
    "                if w in string:\r\n",
    "                    contains[idx] = True\r\n",
    "                    break\r\n",
    "            \r\n",
    "    return contains"
   ]
  },
  {
   "cell_type": "code",
   "execution_count": 96,
   "metadata": {},
   "outputs": [],
   "source": [
    "# def fix_category(category):\r\n",
    "#     return category.replace(\", &\", \" &\")"
   ]
  },
  {
   "cell_type": "code",
   "execution_count": 97,
   "metadata": {},
   "outputs": [],
   "source": [
    "def get_categories_dict(category_column, separator):\r\n",
    "    categories_counts = {}\r\n",
    "    for things in category_column:\r\n",
    "        for thing in things.split(sep=separator):    \r\n",
    "            if thing in categories_counts.keys():\r\n",
    "                categories_counts[thing] += 1\r\n",
    "            else:\r\n",
    "                categories_counts[thing] = 1\r\n",
    "    return categories_counts"
   ]
  },
  {
   "cell_type": "code",
   "execution_count": 98,
   "metadata": {},
   "outputs": [],
   "source": [
    "berlin = pd.read_csv('berlin_df.csv')"
   ]
  },
  {
   "cell_type": "code",
   "execution_count": 99,
   "metadata": {},
   "outputs": [],
   "source": [
    "# berlin.drop(['url', 'claimed'], axis=1, inplace=True)"
   ]
  },
  {
   "cell_type": "code",
   "execution_count": 100,
   "metadata": {},
   "outputs": [],
   "source": [
    "# print(berlin.columns.values)"
   ]
  },
  {
   "cell_type": "code",
   "execution_count": 101,
   "metadata": {},
   "outputs": [],
   "source": [
    "# berlin.isna().sum()"
   ]
  },
  {
   "cell_type": "code",
   "execution_count": 102,
   "metadata": {},
   "outputs": [],
   "source": [
    "# berlin.drop(berlin.index[berlin['categories'].isna()], inplace=True)\r\n"
   ]
  },
  {
   "cell_type": "code",
   "execution_count": 103,
   "metadata": {},
   "outputs": [],
   "source": [
    "# berlin.isna().sum()"
   ]
  },
  {
   "cell_type": "code",
   "execution_count": 104,
   "metadata": {},
   "outputs": [],
   "source": [
    "# import re\r\n",
    "def fix_names(dataframe, column_name):\r\n",
    "    dataframe[column_name] = dataframe[column_name].apply(lambda name: e.sub(r\"(\\w)([A-Z])\", r\"\\1 \\2\", name))"
   ]
  },
  {
   "cell_type": "code",
   "execution_count": 105,
   "metadata": {},
   "outputs": [],
   "source": [
    "# fix_names(berlin, 'Restaurants_Name')"
   ]
  },
  {
   "cell_type": "code",
   "execution_count": 106,
   "metadata": {},
   "outputs": [],
   "source": [
    "# berlin.shape[0]"
   ]
  },
  {
   "cell_type": "code",
   "execution_count": 107,
   "metadata": {},
   "outputs": [],
   "source": [
    "# graph stars vs distance"
   ]
  },
  {
   "cell_type": "code",
   "execution_count": 108,
   "metadata": {},
   "outputs": [],
   "source": [
    "# distance_from((52.525579992852855, 13.369230338630214),berlin, 'address',  inplace=True)\r\n"
   ]
  },
  {
   "cell_type": "code",
   "execution_count": 109,
   "metadata": {},
   "outputs": [],
   "source": [
    "# berlin.dropna(inplace=True)"
   ]
  },
  {
   "cell_type": "markdown",
   "metadata": {},
   "source": [
    "# FUCKING HERE"
   ]
  },
  {
   "cell_type": "code",
   "execution_count": 110,
   "metadata": {},
   "outputs": [],
   "source": [
    "def set_category(cat_name, dataframe, new_column_name, bool_table):\r\n",
    "    for idx in range(dataframe.shape[0]):\r\n",
    "        if bool_table[idx]:\r\n",
    "            dataframe[new_column_name].iloc[idx] = cat_name\r\n"
   ]
  },
  {
   "cell_type": "code",
   "execution_count": 111,
   "metadata": {},
   "outputs": [],
   "source": [
    "restaurants = [\"reservations\" ,\"delivery\", \"burgers\", \"chinese\", \"japanese\", \"mexican\", \"italian\",  \"thai\", \"japanese\", \"mexican\", \"italian\", 'sushi', 'ramen', 'kebab', 'coffee', 'tea', 'falafel', 'cafes', 'Vietnamese', 'German']\r\n",
    "restaurants += ['Mediterranean', 'African', 'Food', 'breakfast', 'cake', 'lebanese', 'pizza', 'greek','European', 'vegan', 'Korean', 'Dim Sum', 'Oriental','Moroccan','Bakeries', 'indian','american','Ethiopian', 'Arabian', 'Ice Cream']\r\n",
    "restaurants += ['dessert', 'yoghurt', 'austrian', 'Crepes', 'pub', 'gastro', 'brewer', 'Spanish', 'French', 'Brasserie', 'bar']\r\n",
    "auto_services = ['autorepair', 'car_dealers', 'auto_detailing']\r\n",
    "others = ['dryclean', 'hair', 'mobilephonerepair', 'gyms', 'bars', 'massage', 'nightlife', 'shopping', 'museum', 'forest', 'historic building', 'aquarium', 'zoo', 'landmark']\r\n",
    "is_restaurant = contains_any(restaurants, berlin['categories'], ignore_case=True)\r\n",
    "is_auto_service = contains_any(auto_services, berlin['categories'], ignore_case=True)\r\n",
    "is_others = contains_any(others, berlin['categories'], ignore_case=True)"
   ]
  },
  {
   "cell_type": "code",
   "execution_count": 112,
   "metadata": {},
   "outputs": [
    {
     "name": "stderr",
     "output_type": "stream",
     "text": [
      "C:\\my\\dev\\tools\\anaconda3\\envs\\numba\\lib\\site-packages\\pandas\\core\\indexing.py:1637: SettingWithCopyWarning: \n",
      "A value is trying to be set on a copy of a slice from a DataFrame\n",
      "\n",
      "See the caveats in the documentation: https://pandas.pydata.org/pandas-docs/stable/user_guide/indexing.html#returning-a-view-versus-a-copy\n",
      "  self._setitem_single_block(indexer, value, name)\n"
     ]
    },
    {
     "data": {
      "text/plain": [
       "34"
      ]
     },
     "execution_count": 112,
     "metadata": {},
     "output_type": "execute_result"
    }
   ],
   "source": [
    "berlin['main_category'] = np.nan\r\n",
    "set_category('Other', berlin, 'main_category', is_others)\r\n",
    "set_category('Restaurant', berlin, 'main_category', is_restaurant)\r\n",
    "set_category('Auto Service', berlin, 'main_category', is_auto_service)\r\n",
    "berlin[berlin['main_category'].isna()].shape[0]"
   ]
  },
  {
   "cell_type": "code",
   "execution_count": 113,
   "metadata": {},
   "outputs": [],
   "source": [
    "# main_categories = get_categories_dict(berlin.main_category, separator=\", \")"
   ]
  },
  {
   "cell_type": "code",
   "execution_count": 114,
   "metadata": {},
   "outputs": [],
   "source": [
    "# main_categories"
   ]
  },
  {
   "cell_type": "code",
   "execution_count": 115,
   "metadata": {},
   "outputs": [],
   "source": [
    "restaurant_categories = get_categories_dict(berlin[berlin.main_category=='Restaurant'].categories, ',')            # dictionary of categories\r\n",
    "resturant_cat_df = pd.DataFrame([restaurant_categories.keys(), restaurant_categories.values()]).T   # dataframe out of that dictionary\r\n",
    "resturant_cat_df.rename(columns={0:'category',1:'count'}, inplace=True)       # name columns in a fasionable name"
   ]
  },
  {
   "cell_type": "markdown",
   "metadata": {},
   "source": [
    "# RESTAURANTS"
   ]
  },
  {
   "cell_type": "code",
   "execution_count": 116,
   "metadata": {},
   "outputs": [],
   "source": [
    "avg_stars=[]\r\n",
    "avg_rev_count=[]\r\n",
    "for category in resturant_cat_df['category']:\r\n",
    "    avg_stars.append(berlin[contains(category, berlin.categories)]['stars'].mean())\r\n",
    "    avg_rev_count.append(berlin[contains(category, berlin.categories)]['review_count'].mean())\r\n",
    "\r\n",
    "resturant_cat_df['average_stars'] = avg_stars\r\n",
    "resturant_cat_df['average_review_count'] = avg_rev_count"
   ]
  },
  {
   "cell_type": "code",
   "execution_count": 117,
   "metadata": {},
   "outputs": [
    {
     "data": {
      "text/html": [
       "<div>\n",
       "<style scoped>\n",
       "    .dataframe tbody tr th:only-of-type {\n",
       "        vertical-align: middle;\n",
       "    }\n",
       "\n",
       "    .dataframe tbody tr th {\n",
       "        vertical-align: top;\n",
       "    }\n",
       "\n",
       "    .dataframe thead th {\n",
       "        text-align: right;\n",
       "    }\n",
       "</style>\n",
       "<table border=\"1\" class=\"dataframe\">\n",
       "  <thead>\n",
       "    <tr style=\"text-align: right;\">\n",
       "      <th></th>\n",
       "      <th>category</th>\n",
       "      <th>count</th>\n",
       "      <th>average_stars</th>\n",
       "      <th>average_review_count</th>\n",
       "    </tr>\n",
       "  </thead>\n",
       "  <tbody>\n",
       "    <tr>\n",
       "      <th>17</th>\n",
       "      <td>Italian</td>\n",
       "      <td>184</td>\n",
       "      <td>4.255435</td>\n",
       "      <td>37.038043</td>\n",
       "    </tr>\n",
       "    <tr>\n",
       "      <th>51</th>\n",
       "      <td>Thai</td>\n",
       "      <td>150</td>\n",
       "      <td>3.846667</td>\n",
       "      <td>27.253333</td>\n",
       "    </tr>\n",
       "    <tr>\n",
       "      <th>57</th>\n",
       "      <td>Vietnamese</td>\n",
       "      <td>67</td>\n",
       "      <td>4.007463</td>\n",
       "      <td>54.298507</td>\n",
       "    </tr>\n",
       "    <tr>\n",
       "      <th>42</th>\n",
       "      <td>Mexican</td>\n",
       "      <td>66</td>\n",
       "      <td>3.356061</td>\n",
       "      <td>38.484848</td>\n",
       "    </tr>\n",
       "    <tr>\n",
       "      <th>15</th>\n",
       "      <td>Pizza</td>\n",
       "      <td>64</td>\n",
       "      <td>4.132812</td>\n",
       "      <td>51.484375</td>\n",
       "    </tr>\n",
       "    <tr>\n",
       "      <th>...</th>\n",
       "      <td>...</td>\n",
       "      <td>...</td>\n",
       "      <td>...</td>\n",
       "      <td>...</td>\n",
       "    </tr>\n",
       "    <tr>\n",
       "      <th>92</th>\n",
       "      <td>International Grocery</td>\n",
       "      <td>1</td>\n",
       "      <td>4.500000</td>\n",
       "      <td>13.000000</td>\n",
       "    </tr>\n",
       "    <tr>\n",
       "      <th>93</th>\n",
       "      <td>Beach Bars</td>\n",
       "      <td>1</td>\n",
       "      <td>3.000000</td>\n",
       "      <td>62.000000</td>\n",
       "    </tr>\n",
       "    <tr>\n",
       "      <th>94</th>\n",
       "      <td>Diners</td>\n",
       "      <td>1</td>\n",
       "      <td>4.000000</td>\n",
       "      <td>19.000000</td>\n",
       "    </tr>\n",
       "    <tr>\n",
       "      <th>27</th>\n",
       "      <td>Fish &amp; Chips</td>\n",
       "      <td>1</td>\n",
       "      <td>4.500000</td>\n",
       "      <td>116.000000</td>\n",
       "    </tr>\n",
       "    <tr>\n",
       "      <th>125</th>\n",
       "      <td>Wok</td>\n",
       "      <td>1</td>\n",
       "      <td>3.500000</td>\n",
       "      <td>33.000000</td>\n",
       "    </tr>\n",
       "  </tbody>\n",
       "</table>\n",
       "<p>126 rows × 4 columns</p>\n",
       "</div>"
      ],
      "text/plain": [
       "                  category count  average_stars  average_review_count\n",
       "17                 Italian   184       4.255435             37.038043\n",
       "51                    Thai   150       3.846667             27.253333\n",
       "57              Vietnamese    67       4.007463             54.298507\n",
       "42                 Mexican    66       3.356061             38.484848\n",
       "15                   Pizza    64       4.132812             51.484375\n",
       "..                     ...   ...            ...                   ...\n",
       "92   International Grocery     1       4.500000             13.000000\n",
       "93              Beach Bars     1       3.000000             62.000000\n",
       "94                  Diners     1       4.000000             19.000000\n",
       "27            Fish & Chips     1       4.500000            116.000000\n",
       "125                    Wok     1       3.500000             33.000000\n",
       "\n",
       "[126 rows x 4 columns]"
      ]
     },
     "execution_count": 117,
     "metadata": {},
     "output_type": "execute_result"
    }
   ],
   "source": [
    "resturant_cat_df.sort_values(by='count', ascending=False)"
   ]
  },
  {
   "cell_type": "code",
   "execution_count": 118,
   "metadata": {},
   "outputs": [
    {
     "data": {
      "text/plain": [
       "755"
      ]
     },
     "execution_count": 118,
     "metadata": {},
     "output_type": "execute_result"
    }
   ],
   "source": [
    "(berlin['main_category'] == 'Restaurant').sum()"
   ]
  },
  {
   "cell_type": "code",
   "execution_count": 119,
   "metadata": {},
   "outputs": [],
   "source": [
    "resturant_cat_df.to_csv(\"all_rest_cat.csv\", index=False)"
   ]
  },
  {
   "cell_type": "code",
   "execution_count": 120,
   "metadata": {},
   "outputs": [],
   "source": [
    "resturant_cat_df['average_review_count'] > 50.0\r\n",
    "shitty_businesessss = resturant_cat_df[(resturant_cat_df['average_stars'] <= 3.5) & (resturant_cat_df['average_review_count'] > 35.0)].sort_values(by=['average_stars', 'count'], ascending=[True, False])"
   ]
  },
  {
   "cell_type": "code",
   "execution_count": 121,
   "metadata": {},
   "outputs": [],
   "source": [
    "shitty_businesessss.to_csv(\"shit.csv\", index=False) "
   ]
  },
  {
   "cell_type": "code",
   "execution_count": 122,
   "metadata": {},
   "outputs": [
    {
     "data": {
      "text/html": [
       "<div>\n",
       "<style scoped>\n",
       "    .dataframe tbody tr th:only-of-type {\n",
       "        vertical-align: middle;\n",
       "    }\n",
       "\n",
       "    .dataframe tbody tr th {\n",
       "        vertical-align: top;\n",
       "    }\n",
       "\n",
       "    .dataframe thead th {\n",
       "        text-align: right;\n",
       "    }\n",
       "</style>\n",
       "<table border=\"1\" class=\"dataframe\">\n",
       "  <thead>\n",
       "    <tr style=\"text-align: right;\">\n",
       "      <th></th>\n",
       "      <th>category</th>\n",
       "      <th>count</th>\n",
       "      <th>average_stars</th>\n",
       "      <th>average_review_count</th>\n",
       "    </tr>\n",
       "  </thead>\n",
       "  <tbody>\n",
       "    <tr>\n",
       "      <th>51</th>\n",
       "      <td>Thai</td>\n",
       "      <td>150</td>\n",
       "      <td>3.846667</td>\n",
       "      <td>27.253333</td>\n",
       "    </tr>\n",
       "    <tr>\n",
       "      <th>42</th>\n",
       "      <td>Mexican</td>\n",
       "      <td>66</td>\n",
       "      <td>3.356061</td>\n",
       "      <td>38.484848</td>\n",
       "    </tr>\n",
       "    <tr>\n",
       "      <th>66</th>\n",
       "      <td>Sushi</td>\n",
       "      <td>39</td>\n",
       "      <td>3.923077</td>\n",
       "      <td>42.923077</td>\n",
       "    </tr>\n",
       "    <tr>\n",
       "      <th>47</th>\n",
       "      <td>Pan Asian</td>\n",
       "      <td>35</td>\n",
       "      <td>3.961538</td>\n",
       "      <td>49.974359</td>\n",
       "    </tr>\n",
       "    <tr>\n",
       "      <th>22</th>\n",
       "      <td>Chinese</td>\n",
       "      <td>27</td>\n",
       "      <td>3.925926</td>\n",
       "      <td>50.222222</td>\n",
       "    </tr>\n",
       "    <tr>\n",
       "      <th>34</th>\n",
       "      <td>Cocktail Bars</td>\n",
       "      <td>25</td>\n",
       "      <td>3.700000</td>\n",
       "      <td>42.400000</td>\n",
       "    </tr>\n",
       "    <tr>\n",
       "      <th>11</th>\n",
       "      <td>Takeaway &amp; Fast Food</td>\n",
       "      <td>18</td>\n",
       "      <td>3.888889</td>\n",
       "      <td>121.444444</td>\n",
       "    </tr>\n",
       "    <tr>\n",
       "      <th>43</th>\n",
       "      <td>Steakhouses</td>\n",
       "      <td>17</td>\n",
       "      <td>3.705882</td>\n",
       "      <td>98.823529</td>\n",
       "    </tr>\n",
       "    <tr>\n",
       "      <th>9</th>\n",
       "      <td>Ramen</td>\n",
       "      <td>15</td>\n",
       "      <td>3.933333</td>\n",
       "      <td>34.200000</td>\n",
       "    </tr>\n",
       "    <tr>\n",
       "      <th>38</th>\n",
       "      <td>BBQ &amp; Barbecue</td>\n",
       "      <td>13</td>\n",
       "      <td>3.884615</td>\n",
       "      <td>70.153846</td>\n",
       "    </tr>\n",
       "    <tr>\n",
       "      <th>3</th>\n",
       "      <td>Asian Fusion</td>\n",
       "      <td>9</td>\n",
       "      <td>3.950000</td>\n",
       "      <td>24.300000</td>\n",
       "    </tr>\n",
       "    <tr>\n",
       "      <th>80</th>\n",
       "      <td>Juice Bar &amp; Smoothies</td>\n",
       "      <td>4</td>\n",
       "      <td>3.750000</td>\n",
       "      <td>8.250000</td>\n",
       "    </tr>\n",
       "    <tr>\n",
       "      <th>117</th>\n",
       "      <td>Argentine</td>\n",
       "      <td>3</td>\n",
       "      <td>3.833333</td>\n",
       "      <td>15.000000</td>\n",
       "    </tr>\n",
       "    <tr>\n",
       "      <th>116</th>\n",
       "      <td>Tex-Mex</td>\n",
       "      <td>2</td>\n",
       "      <td>3.750000</td>\n",
       "      <td>50.000000</td>\n",
       "    </tr>\n",
       "    <tr>\n",
       "      <th>93</th>\n",
       "      <td>Beach Bars</td>\n",
       "      <td>1</td>\n",
       "      <td>3.000000</td>\n",
       "      <td>62.000000</td>\n",
       "    </tr>\n",
       "    <tr>\n",
       "      <th>121</th>\n",
       "      <td>Halal</td>\n",
       "      <td>1</td>\n",
       "      <td>3.000000</td>\n",
       "      <td>8.000000</td>\n",
       "    </tr>\n",
       "    <tr>\n",
       "      <th>89</th>\n",
       "      <td>Bavarian</td>\n",
       "      <td>1</td>\n",
       "      <td>3.500000</td>\n",
       "      <td>147.000000</td>\n",
       "    </tr>\n",
       "    <tr>\n",
       "      <th>120</th>\n",
       "      <td>Cafeterias</td>\n",
       "      <td>1</td>\n",
       "      <td>3.500000</td>\n",
       "      <td>203.000000</td>\n",
       "    </tr>\n",
       "    <tr>\n",
       "      <th>124</th>\n",
       "      <td>Himalayan/Nepalese</td>\n",
       "      <td>1</td>\n",
       "      <td>3.500000</td>\n",
       "      <td>67.000000</td>\n",
       "    </tr>\n",
       "    <tr>\n",
       "      <th>125</th>\n",
       "      <td>Wok</td>\n",
       "      <td>1</td>\n",
       "      <td>3.500000</td>\n",
       "      <td>33.000000</td>\n",
       "    </tr>\n",
       "  </tbody>\n",
       "</table>\n",
       "</div>"
      ],
      "text/plain": [
       "                  category count  average_stars  average_review_count\n",
       "51                    Thai   150       3.846667             27.253333\n",
       "42                 Mexican    66       3.356061             38.484848\n",
       "66                   Sushi    39       3.923077             42.923077\n",
       "47               Pan Asian    35       3.961538             49.974359\n",
       "22                 Chinese    27       3.925926             50.222222\n",
       "34           Cocktail Bars    25       3.700000             42.400000\n",
       "11    Takeaway & Fast Food    18       3.888889            121.444444\n",
       "43             Steakhouses    17       3.705882             98.823529\n",
       "9                    Ramen    15       3.933333             34.200000\n",
       "38          BBQ & Barbecue    13       3.884615             70.153846\n",
       "3             Asian Fusion     9       3.950000             24.300000\n",
       "80   Juice Bar & Smoothies     4       3.750000              8.250000\n",
       "117              Argentine     3       3.833333             15.000000\n",
       "116                Tex-Mex     2       3.750000             50.000000\n",
       "93              Beach Bars     1       3.000000             62.000000\n",
       "121                  Halal     1       3.000000              8.000000\n",
       "89                Bavarian     1       3.500000            147.000000\n",
       "120             Cafeterias     1       3.500000            203.000000\n",
       "124     Himalayan/Nepalese     1       3.500000             67.000000\n",
       "125                    Wok     1       3.500000             33.000000"
      ]
     },
     "execution_count": 122,
     "metadata": {},
     "output_type": "execute_result"
    }
   ],
   "source": [
    "resturant_cat_df[resturant_cat_df['average_stars'] < 4].sort_values(by=['count','average_stars'], ascending=[False, True])"
   ]
  },
  {
   "cell_type": "markdown",
   "metadata": {},
   "source": [
    "# OTHER"
   ]
  },
  {
   "cell_type": "code",
   "execution_count": 123,
   "metadata": {},
   "outputs": [],
   "source": [
    "other_categories = get_categories_dict(berlin[berlin.main_category=='Other'].categories, ',')\r\n",
    "other_cat_df = pd.DataFrame([other_categories.keys(), other_categories.values()]).T\r\n",
    "other_cat_df.rename(columns={0:'category',1:'count'}, inplace=True)"
   ]
  },
  {
   "cell_type": "code",
   "execution_count": 124,
   "metadata": {},
   "outputs": [],
   "source": [
    "avg_stars=[]\r\n",
    "avg_rev_count=[]\r\n",
    "for category in other_cat_df['category']:\r\n",
    "    avg_stars.append(berlin[contains(category, berlin.categories)]['stars'].mean())\r\n",
    "    avg_rev_count.append(berlin[contains(category, berlin.categories)]['review_count'].mean())\r\n",
    "\r\n",
    "other_cat_df['average_stars'] = avg_stars\r\n",
    "other_cat_df['average_review_count'] = avg_rev_count"
   ]
  },
  {
   "cell_type": "code",
   "execution_count": 129,
   "metadata": {},
   "outputs": [],
   "source": [
    "other = other_cat_df.sort_values(by='average_stars', ascending=True)\r\n",
    "other.to_csv(\"other.csv\", index=False)"
   ]
  },
  {
   "cell_type": "code",
   "execution_count": 126,
   "metadata": {},
   "outputs": [],
   "source": [
    "categories = get_categories_dict(berlin.categories, ',')            # dictionary of categories\r\n",
    "cat_df = pd.DataFrame([categories.keys(), categories.values()]).T   # dataframe out of that dictionary\r\n",
    "cat_df.rename(columns={0:'category',1:'count'}, inplace=True)       # name columns in a fasionable name"
   ]
  },
  {
   "cell_type": "code",
   "execution_count": 127,
   "metadata": {},
   "outputs": [],
   "source": [
    "avg_stars=[]\r\n",
    "avg_rev_count=[]\r\n",
    "for category in cat_df['category']:\r\n",
    "    avg_stars.append(berlin[contains(category, berlin.categories)]['stars'].mean())\r\n",
    "    avg_rev_count.append(berlin[contains(category, berlin.categories)]['review_count'].mean())\r\n",
    "\r\n",
    "cat_df['average_stars'] = avg_stars\r\n",
    "cat_df['average_review_count'] = avg_rev_count"
   ]
  },
  {
   "cell_type": "code",
   "execution_count": 128,
   "metadata": {},
   "outputs": [
    {
     "data": {
      "text/html": [
       "<div>\n",
       "<style scoped>\n",
       "    .dataframe tbody tr th:only-of-type {\n",
       "        vertical-align: middle;\n",
       "    }\n",
       "\n",
       "    .dataframe tbody tr th {\n",
       "        vertical-align: top;\n",
       "    }\n",
       "\n",
       "    .dataframe thead th {\n",
       "        text-align: right;\n",
       "    }\n",
       "</style>\n",
       "<table border=\"1\" class=\"dataframe\">\n",
       "  <thead>\n",
       "    <tr style=\"text-align: right;\">\n",
       "      <th></th>\n",
       "      <th>category</th>\n",
       "      <th>count</th>\n",
       "      <th>average_stars</th>\n",
       "      <th>average_review_count</th>\n",
       "    </tr>\n",
       "  </thead>\n",
       "  <tbody>\n",
       "    <tr>\n",
       "      <th>137</th>\n",
       "      <td>Cafeterias</td>\n",
       "      <td>1</td>\n",
       "      <td>3.500000</td>\n",
       "      <td>203.000000</td>\n",
       "    </tr>\n",
       "    <tr>\n",
       "      <th>84</th>\n",
       "      <td>Baden</td>\n",
       "      <td>1</td>\n",
       "      <td>4.000000</td>\n",
       "      <td>174.000000</td>\n",
       "    </tr>\n",
       "    <tr>\n",
       "      <th>100</th>\n",
       "      <td>Bavarian</td>\n",
       "      <td>1</td>\n",
       "      <td>3.500000</td>\n",
       "      <td>147.000000</td>\n",
       "    </tr>\n",
       "    <tr>\n",
       "      <th>49</th>\n",
       "      <td>Dive Bars</td>\n",
       "      <td>5</td>\n",
       "      <td>4.000000</td>\n",
       "      <td>130.200000</td>\n",
       "    </tr>\n",
       "    <tr>\n",
       "      <th>11</th>\n",
       "      <td>Takeaway &amp; Fast Food</td>\n",
       "      <td>18</td>\n",
       "      <td>3.888889</td>\n",
       "      <td>121.444444</td>\n",
       "    </tr>\n",
       "    <tr>\n",
       "      <th>47</th>\n",
       "      <td>Steakhouses</td>\n",
       "      <td>17</td>\n",
       "      <td>3.705882</td>\n",
       "      <td>98.823529</td>\n",
       "    </tr>\n",
       "  </tbody>\n",
       "</table>\n",
       "</div>"
      ],
      "text/plain": [
       "                 category count  average_stars  average_review_count\n",
       "137            Cafeterias     1       3.500000            203.000000\n",
       "84                  Baden     1       4.000000            174.000000\n",
       "100              Bavarian     1       3.500000            147.000000\n",
       "49              Dive Bars     5       4.000000            130.200000\n",
       "11   Takeaway & Fast Food    18       3.888889            121.444444\n",
       "47            Steakhouses    17       3.705882             98.823529"
      ]
     },
     "execution_count": 128,
     "metadata": {},
     "output_type": "execute_result"
    }
   ],
   "source": [
    "size_cat_df = cat_df.shape[0]\r\n",
    "twenty_percent = size_cat_df // 5\r\n",
    "\r\n",
    "cat_df.sort_values(by='average_stars', ascending=True).head(twenty_percent).sort_values(by='average_review_count', ascending=False).head(twenty_percent//5)"
   ]
  },
  {
   "cell_type": "code",
   "execution_count": 132,
   "metadata": {},
   "outputs": [],
   "source": [
    "ber_address = berlin.dropna()"
   ]
  },
  {
   "cell_type": "code",
   "execution_count": 135,
   "metadata": {},
   "outputs": [],
   "source": [
    "(ber_address.corr()).to_csv(\"insignificant_correlations.csv\")"
   ]
  },
  {
   "cell_type": "code",
   "execution_count": null,
   "metadata": {},
   "outputs": [],
   "source": []
  }
 ],
 "metadata": {
  "interpreter": {
   "hash": "0b3835b907b6cc7d301aec5540e8a0fbdbe5019d215ce85ebb6eb02d9dcf944e"
  },
  "kernelspec": {
   "display_name": "Python 3.8.10 64-bit ('numba': conda)",
   "name": "python3"
  },
  "language_info": {
   "codemirror_mode": {
    "name": "ipython",
    "version": 3
   },
   "file_extension": ".py",
   "mimetype": "text/x-python",
   "name": "python",
   "nbconvert_exporter": "python",
   "pygments_lexer": "ipython3",
   "version": "3.8.10"
  },
  "orig_nbformat": 4
 },
 "nbformat": 4,
 "nbformat_minor": 2
}