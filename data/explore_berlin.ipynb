{
 "cells": [
  {
   "cell_type": "code",
   "execution_count": 65,
   "metadata": {},
   "outputs": [],
   "source": [
    "import pandas as pd\r\n",
    "import numpy as np"
   ]
  },
  {
   "cell_type": "code",
   "execution_count": 66,
   "metadata": {},
   "outputs": [],
   "source": [
    "import pandas as pd\r\n",
    "import numpy as np"
   ]
  },
  {
   "cell_type": "code",
   "execution_count": 67,
   "metadata": {},
   "outputs": [],
   "source": [
    "# def fix_address(address):\r\n",
    "#     return (address.split(sep=', '))[0]"
   ]
  },
  {
   "cell_type": "code",
   "execution_count": 68,
   "metadata": {},
   "outputs": [],
   "source": [
    "# conda install -c conda-forge geopy\r\n",
    "from geopy.geocoders import Nominatim\r\n",
    "from geopy.distance import distance\r\n",
    "from tqdm import tqdm\r\n",
    "\r\n",
    "# proceed with cauction!!!\r\n",
    "def distance_from(dataframe, addresses_column_name, given_location, postifx=\"\", inplace=False):\r\n",
    "    \"\"\"\r\n",
    "    dataframe - pandas.DataFrame object\r\n",
    "    addresses_column_name - name of the column in which we can find addresses\r\n",
    "    given_location - tuple with latitude and longitude of a location from which we're counting the distance\r\n",
    "\r\n",
    "    postfix - what should I add to every address to make sure it's what we need. example: city/country\r\n",
    "    inplace - check it if you want to change the given dataframe. default False\r\n",
    "\r\n",
    "    returned value - pd.Series distances in kilometers\r\n",
    "    \"\"\"\r\n",
    "    geolocator = Nominatim(user_agent=\"Strive School YMVC Project\")\r\n",
    "\r\n",
    "    number_of_rows = dataframe.shape[0]\r\n",
    "    addresses_df = dataframe[addresses_column_name]\r\n",
    "\r\n",
    "    gps_addresses = np.zeros(shape=number_of_rows)\r\n",
    "\r\n",
    "    # this loop can take a looooong time.\r\n",
    "    for row_nr in tqdm(np.arange(0, number_of_rows)):\r\n",
    "        dist = np.nan\r\n",
    "        try:\r\n",
    "            loc = geolocator.geocode(addresses_df.iloc[row_nr] + postifx)\r\n",
    "            dist = distance(given_location, (loc.latitude, loc.longitude)).kilometers\r\n",
    "        except Exception as e:\r\n",
    "            print(e)\r\n",
    "        gps_addresses[row_nr] = dist\r\n",
    "\r\n",
    "    if inplace:\r\n",
    "        # we put a new column before the \"address\" column\r\n",
    "        dataframe.insert(dataframe.columns.get_loc(addresses_column_name), 'distance_km', gps_addresses)\r\n",
    "    else:\r\n",
    "        return pd.Series(gps_addresses, name='distance_km')"
   ]
  },
  {
   "cell_type": "code",
   "execution_count": 69,
   "metadata": {},
   "outputs": [],
   "source": [
    "def contains(column, word):\r\n",
    "    \"\"\"\r\n",
    "    Usage:\r\n",
    "    Pass a column and a word u want to find in the cells, to get a np.array of type bool.\r\n",
    "    Afterwards u can pass it as an argument of [] selection mechanism. Examples:\r\n",
    "\r\n",
    "    austin_tx[ contains(austin_tx.categories, \"Shopping\") ]\r\n",
    "    austin_tx[ contains(austin_tx.categories, \"Shopping\") | contains(austin_tx.categories, \"Hotels\") ]      # and\r\n",
    "    austin_tx[ contains(austin_tx.categories, \"Shopping\") & contains(austin_tx.categories, \"Watches\") ]     # or\r\n",
    "\r\n",
    "    Works for all columns that return strings. hours and attributes too.\r\n",
    "    \"\"\"\r\n",
    "    return np.array([(word in vals) for vals in column])"
   ]
  },
  {
   "cell_type": "code",
   "execution_count": 70,
   "metadata": {},
   "outputs": [],
   "source": [
    "# def fix_category(category):\r\n",
    "#     return category.replace(\", &\", \" &\")"
   ]
  },
  {
   "cell_type": "code",
   "execution_count": 71,
   "metadata": {},
   "outputs": [],
   "source": [
    "def get_categories_dict(category_column):\r\n",
    "    categories_counts = {}\r\n",
    "    for things in category_column:\r\n",
    "        for thing in things.split(sep=\", \"):    \r\n",
    "            if thing in categories_counts.keys():\r\n",
    "                categories_counts[thing] += 1\r\n",
    "            else:\r\n",
    "                categories_counts[thing] = 1\r\n",
    "    return categories_counts"
   ]
  },
  {
   "cell_type": "code",
   "execution_count": 72,
   "metadata": {},
   "outputs": [],
   "source": [
    "berlin = pd.read_csv('yelp_dataset.csv')"
   ]
  },
  {
   "cell_type": "code",
   "execution_count": 73,
   "metadata": {},
   "outputs": [],
   "source": [
    "berlin.loc[berlin['address'] == '0'] = np.nan"
   ]
  },
  {
   "cell_type": "code",
   "execution_count": 74,
   "metadata": {},
   "outputs": [],
   "source": [
    "# berlin.dropna(inplace=True)"
   ]
  },
  {
   "cell_type": "code",
   "execution_count": 75,
   "metadata": {},
   "outputs": [],
   "source": [
    "# distance_from(berlin, 'address', (52.525579992852855, 13.369230338630214), inplace=True)"
   ]
  },
  {
   "cell_type": "code",
   "execution_count": 76,
   "metadata": {},
   "outputs": [],
   "source": [
    "# berlin[berlin['distance_km'].isna()]"
   ]
  },
  {
   "cell_type": "code",
   "execution_count": 77,
   "metadata": {},
   "outputs": [],
   "source": [
    "berlin.dropna(inplace=True)"
   ]
  },
  {
   "cell_type": "code",
   "execution_count": 78,
   "metadata": {},
   "outputs": [
    {
     "data": {
      "text/html": [
       "<div>\n",
       "<style scoped>\n",
       "    .dataframe tbody tr th:only-of-type {\n",
       "        vertical-align: middle;\n",
       "    }\n",
       "\n",
       "    .dataframe tbody tr th {\n",
       "        vertical-align: top;\n",
       "    }\n",
       "\n",
       "    .dataframe thead th {\n",
       "        text-align: right;\n",
       "    }\n",
       "</style>\n",
       "<table border=\"1\" class=\"dataframe\">\n",
       "  <thead>\n",
       "    <tr style=\"text-align: right;\">\n",
       "      <th></th>\n",
       "      <th>Restaurants_Name</th>\n",
       "      <th>url</th>\n",
       "      <th>photos_count</th>\n",
       "      <th>stars</th>\n",
       "      <th>review_count</th>\n",
       "      <th>claimed</th>\n",
       "      <th>address</th>\n",
       "      <th>hours</th>\n",
       "      <th>attributes</th>\n",
       "      <th>categories</th>\n",
       "    </tr>\n",
       "  </thead>\n",
       "  <tbody>\n",
       "    <tr>\n",
       "      <th>0</th>\n",
       "      <td>Stadtklause</td>\n",
       "      <td>https://www.yelp.co.uk/biz/stadtklause-berlin</td>\n",
       "      <td>265.0</td>\n",
       "      <td>4.5</td>\n",
       "      <td>172.0</td>\n",
       "      <td>0.0</td>\n",
       "      <td>Bernburger Str. 3510963 Berlin</td>\n",
       "      <td>{'Monday': '4:00 PM - 12:00 AM (Next day)', 'T...</td>\n",
       "      <td>No Reservations,No Delivery,No Takeout,Many Ve...</td>\n",
       "      <td>German</td>\n",
       "    </tr>\n",
       "    <tr>\n",
       "      <th>1</th>\n",
       "      <td>LorenzAdlonEsszimmer</td>\n",
       "      <td>https://www.yelp.co.uk/biz/lorenz-adlon-esszim...</td>\n",
       "      <td>140.0</td>\n",
       "      <td>5.0</td>\n",
       "      <td>67.0</td>\n",
       "      <td>1.0</td>\n",
       "      <td>Unter den Linden 7710117 Berlin</td>\n",
       "      <td>{'Monday': 'Closed', 'Tuesday': 'Closed', 'Wed...</td>\n",
       "      <td>Takes Reservations,No Delivery,No Takeout,Acce...</td>\n",
       "      <td>Modern European</td>\n",
       "    </tr>\n",
       "    <tr>\n",
       "      <th>2</th>\n",
       "      <td>MomotaroTavern</td>\n",
       "      <td>https://www.yelp.co.uk/biz/momotaro-tavern-berlin</td>\n",
       "      <td>123.0</td>\n",
       "      <td>4.5</td>\n",
       "      <td>58.0</td>\n",
       "      <td>1.0</td>\n",
       "      <td>Panoramastr. 1 A10178 Berlin</td>\n",
       "      <td>{'Monday': '12:00 PM - 10:00 PM', 'Tuesday': '...</td>\n",
       "      <td>Takes Reservations,Offers Takeout,No Delivery,...</td>\n",
       "      <td>Burgers,Asian Fusion</td>\n",
       "    </tr>\n",
       "    <tr>\n",
       "      <th>3</th>\n",
       "      <td>FACTORYGIRL</td>\n",
       "      <td>https://www.yelp.co.uk/biz/factory-girl-berlin-2</td>\n",
       "      <td>619.0</td>\n",
       "      <td>4.0</td>\n",
       "      <td>262.0</td>\n",
       "      <td>1.0</td>\n",
       "      <td>Auguststr. 29 C10119 Berlin</td>\n",
       "      <td>{'Monday': '10:00 AM - 3:00 PM', 'Tuesday': '1...</td>\n",
       "      <td>Offers Takeout,No Reservations,No Delivery,Acc...</td>\n",
       "      <td>Breakfast &amp; Brunch,Cafes,Desserts</td>\n",
       "    </tr>\n",
       "  </tbody>\n",
       "</table>\n",
       "</div>"
      ],
      "text/plain": [
       "       Restaurants_Name                                                url  \\\n",
       "0           Stadtklause      https://www.yelp.co.uk/biz/stadtklause-berlin   \n",
       "1  LorenzAdlonEsszimmer  https://www.yelp.co.uk/biz/lorenz-adlon-esszim...   \n",
       "2        MomotaroTavern  https://www.yelp.co.uk/biz/momotaro-tavern-berlin   \n",
       "3           FACTORYGIRL   https://www.yelp.co.uk/biz/factory-girl-berlin-2   \n",
       "\n",
       "   photos_count  stars  review_count  claimed  \\\n",
       "0         265.0    4.5         172.0      0.0   \n",
       "1         140.0    5.0          67.0      1.0   \n",
       "2         123.0    4.5          58.0      1.0   \n",
       "3         619.0    4.0         262.0      1.0   \n",
       "\n",
       "                           address  \\\n",
       "0   Bernburger Str. 3510963 Berlin   \n",
       "1  Unter den Linden 7710117 Berlin   \n",
       "2     Panoramastr. 1 A10178 Berlin   \n",
       "3      Auguststr. 29 C10119 Berlin   \n",
       "\n",
       "                                               hours  \\\n",
       "0  {'Monday': '4:00 PM - 12:00 AM (Next day)', 'T...   \n",
       "1  {'Monday': 'Closed', 'Tuesday': 'Closed', 'Wed...   \n",
       "2  {'Monday': '12:00 PM - 10:00 PM', 'Tuesday': '...   \n",
       "3  {'Monday': '10:00 AM - 3:00 PM', 'Tuesday': '1...   \n",
       "\n",
       "                                          attributes  \\\n",
       "0  No Reservations,No Delivery,No Takeout,Many Ve...   \n",
       "1  Takes Reservations,No Delivery,No Takeout,Acce...   \n",
       "2  Takes Reservations,Offers Takeout,No Delivery,...   \n",
       "3  Offers Takeout,No Reservations,No Delivery,Acc...   \n",
       "\n",
       "                          categories  \n",
       "0                             German  \n",
       "1                    Modern European  \n",
       "2               Burgers,Asian Fusion  \n",
       "3  Breakfast & Brunch,Cafes,Desserts  "
      ]
     },
     "execution_count": 78,
     "metadata": {},
     "output_type": "execute_result"
    }
   ],
   "source": [
    "berlin.head(4)"
   ]
  },
  {
   "cell_type": "code",
   "execution_count": 79,
   "metadata": {},
   "outputs": [],
   "source": [
    "import re\r\n",
    "def fix_names(dataframe, column_name):\r\n",
    "    dataframe[column_name] = dataframe[column_name].apply(lambda name: e.sub(r\"(\\w)([A-Z])\", r\"\\1 \\2\", name))"
   ]
  },
  {
   "cell_type": "code",
   "execution_count": 80,
   "metadata": {},
   "outputs": [],
   "source": [
    "# fix_names(berlin, 'Restaurants_Name')"
   ]
  },
  {
   "cell_type": "code",
   "execution_count": 81,
   "metadata": {},
   "outputs": [
    {
     "data": {
      "text/html": [
       "<div>\n",
       "<style scoped>\n",
       "    .dataframe tbody tr th:only-of-type {\n",
       "        vertical-align: middle;\n",
       "    }\n",
       "\n",
       "    .dataframe tbody tr th {\n",
       "        vertical-align: top;\n",
       "    }\n",
       "\n",
       "    .dataframe thead th {\n",
       "        text-align: right;\n",
       "    }\n",
       "</style>\n",
       "<table border=\"1\" class=\"dataframe\">\n",
       "  <thead>\n",
       "    <tr style=\"text-align: right;\">\n",
       "      <th></th>\n",
       "      <th>Restaurants_Name</th>\n",
       "      <th>url</th>\n",
       "      <th>photos_count</th>\n",
       "      <th>stars</th>\n",
       "      <th>review_count</th>\n",
       "      <th>claimed</th>\n",
       "      <th>address</th>\n",
       "      <th>hours</th>\n",
       "      <th>attributes</th>\n",
       "      <th>categories</th>\n",
       "    </tr>\n",
       "  </thead>\n",
       "  <tbody>\n",
       "    <tr>\n",
       "      <th>0</th>\n",
       "      <td>Stadtklause</td>\n",
       "      <td>https://www.yelp.co.uk/biz/stadtklause-berlin</td>\n",
       "      <td>265.0</td>\n",
       "      <td>4.5</td>\n",
       "      <td>172.0</td>\n",
       "      <td>0.0</td>\n",
       "      <td>Bernburger Str. 3510963 Berlin</td>\n",
       "      <td>{'Monday': '4:00 PM - 12:00 AM (Next day)', 'T...</td>\n",
       "      <td>No Reservations,No Delivery,No Takeout,Many Ve...</td>\n",
       "      <td>German</td>\n",
       "    </tr>\n",
       "    <tr>\n",
       "      <th>1</th>\n",
       "      <td>LorenzAdlonEsszimmer</td>\n",
       "      <td>https://www.yelp.co.uk/biz/lorenz-adlon-esszim...</td>\n",
       "      <td>140.0</td>\n",
       "      <td>5.0</td>\n",
       "      <td>67.0</td>\n",
       "      <td>1.0</td>\n",
       "      <td>Unter den Linden 7710117 Berlin</td>\n",
       "      <td>{'Monday': 'Closed', 'Tuesday': 'Closed', 'Wed...</td>\n",
       "      <td>Takes Reservations,No Delivery,No Takeout,Acce...</td>\n",
       "      <td>Modern European</td>\n",
       "    </tr>\n",
       "  </tbody>\n",
       "</table>\n",
       "</div>"
      ],
      "text/plain": [
       "       Restaurants_Name                                                url  \\\n",
       "0           Stadtklause      https://www.yelp.co.uk/biz/stadtklause-berlin   \n",
       "1  LorenzAdlonEsszimmer  https://www.yelp.co.uk/biz/lorenz-adlon-esszim...   \n",
       "\n",
       "   photos_count  stars  review_count  claimed  \\\n",
       "0         265.0    4.5         172.0      0.0   \n",
       "1         140.0    5.0          67.0      1.0   \n",
       "\n",
       "                           address  \\\n",
       "0   Bernburger Str. 3510963 Berlin   \n",
       "1  Unter den Linden 7710117 Berlin   \n",
       "\n",
       "                                               hours  \\\n",
       "0  {'Monday': '4:00 PM - 12:00 AM (Next day)', 'T...   \n",
       "1  {'Monday': 'Closed', 'Tuesday': 'Closed', 'Wed...   \n",
       "\n",
       "                                          attributes       categories  \n",
       "0  No Reservations,No Delivery,No Takeout,Many Ve...           German  \n",
       "1  Takes Reservations,No Delivery,No Takeout,Acce...  Modern European  "
      ]
     },
     "execution_count": 81,
     "metadata": {},
     "output_type": "execute_result"
    }
   ],
   "source": [
    "berlin.head(2)"
   ]
  }
 ],
 "metadata": {
  "interpreter": {
   "hash": "0b3835b907b6cc7d301aec5540e8a0fbdbe5019d215ce85ebb6eb02d9dcf944e"
  },
  "kernelspec": {
   "display_name": "Python 3.8.10 64-bit ('numba': conda)",
   "name": "python3"
  },
  "language_info": {
   "codemirror_mode": {
    "name": "ipython",
    "version": 3
   },
   "file_extension": ".py",
   "mimetype": "text/x-python",
   "name": "python",
   "nbconvert_exporter": "python",
   "pygments_lexer": "ipython3",
   "version": "3.8.10"
  },
  "orig_nbformat": 4
 },
 "nbformat": 4,
 "nbformat_minor": 2
}