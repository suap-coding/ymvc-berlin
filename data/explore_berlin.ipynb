{
 "cells": [
  {
   "cell_type": "code",
   "execution_count": null,
   "metadata": {},
   "outputs": [],
   "source": [
    "import pandas as pd\r\n",
    "import numpy as np"
   ]
  },
  {
   "cell_type": "code",
   "execution_count": null,
   "metadata": {},
   "outputs": [],
   "source": [
    "import pandas as pd\r\n",
    "import numpy as np"
   ]
  },
  {
   "cell_type": "code",
   "execution_count": null,
   "metadata": {},
   "outputs": [],
   "source": [
    "# def fix_address(address):\r\n",
    "#     return (address.split(sep=', '))[0]"
   ]
  },
  {
   "cell_type": "code",
   "execution_count": null,
   "metadata": {},
   "outputs": [],
   "source": [
    "# conda install -c conda-forge geopy\r\n",
    "from geopy.geocoders import Nominatim\r\n",
    "from geopy.distance import distance\r\n",
    "from tqdm import tqdm\r\n",
    "\r\n",
    "# proceed with cauction!!!\r\n",
    "def distance_from(given_location, dataframe, addresses_column_name, postifx=\"\", inplace=False):\r\n",
    "    \"\"\"\r\n",
    "    dataframe - pandas.DataFrame object\r\n",
    "    addresses_column_name - name of the column in which we can find addresses\r\n",
    "    given_location - tuple with latitude and longitude of a location from which we're counting the distance\r\n",
    "\r\n",
    "    postfix - what should I add to every address to make sure it's what we need. example: city/country\r\n",
    "    inplace - check it if you want to change the given dataframe. default False\r\n",
    "\r\n",
    "    returned value - pd.Series distances in kilometers\r\n",
    "    \"\"\"\r\n",
    "    geolocator = Nominatim(user_agent=\"Strive School YMVC Project\")\r\n",
    "\r\n",
    "    number_of_rows = dataframe.shape[0]\r\n",
    "    addresses_df = dataframe[addresses_column_name]\r\n",
    "\r\n",
    "    gps_addresses = np.zeros(shape=number_of_rows)\r\n",
    "\r\n",
    "    # this loop can take a looooong time.\r\n",
    "    for row_nr in tqdm(np.arange(0, number_of_rows)):\r\n",
    "        dist = np.nan\r\n",
    "        try:\r\n",
    "            loc = geolocator.geocode(addresses_df.iloc[row_nr] + postifx)\r\n",
    "            dist = distance(given_location, (loc.latitude, loc.longitude)).kilometers\r\n",
    "        except Exception as e:\r\n",
    "            print(e)\r\n",
    "        gps_addresses[row_nr] = dist\r\n",
    "\r\n",
    "    if inplace:\r\n",
    "        # we put a new column before the \"address\" column\r\n",
    "        dataframe.insert(dataframe.columns.get_loc(addresses_column_name), 'distance_km', gps_addresses)\r\n",
    "    else:\r\n",
    "        return pd.Series(gps_addresses, name='distance_km')"
   ]
  },
  {
   "cell_type": "code",
   "execution_count": null,
   "metadata": {},
   "outputs": [],
   "source": [
    "def contains(word, column):\r\n",
    "    \"\"\"\r\n",
    "    Usage:\r\n",
    "    Pass a column and a word u want to find in the cells, to get a np.array of type bool.\r\n",
    "    Afterwards u can pass it as an argument of [] selection mechanism. Examples:\r\n",
    "\r\n",
    "    austin_tx[ contains(austin_tx.categories, \"Shopping\") ]\r\n",
    "    austin_tx[ contains(austin_tx.categories, \"Shopping\") | contains(austin_tx.categories, \"Hotels\") ]      # and\r\n",
    "    austin_tx[ contains(austin_tx.categories, \"Shopping\") & contains(austin_tx.categories, \"Watches\") ]     # or\r\n",
    "\r\n",
    "    Works for all columns that return strings. hours and attributes too.\r\n",
    "    \"\"\"\r\n",
    "    return np.array([(word in vals) for vals in column])"
   ]
  },
  {
   "cell_type": "code",
   "execution_count": null,
   "metadata": {},
   "outputs": [],
   "source": [
    "# def fix_category(category):\r\n",
    "#     return category.replace(\", &\", \" &\")"
   ]
  },
  {
   "cell_type": "code",
   "execution_count": null,
   "metadata": {},
   "outputs": [],
   "source": [
    "def get_categories_dict(category_column, separator):\r\n",
    "    categories_counts = {}\r\n",
    "    for things in category_column:\r\n",
    "        for thing in things.split(sep=separator):    \r\n",
    "            if thing in categories_counts.keys():\r\n",
    "                categories_counts[thing] += 1\r\n",
    "            else:\r\n",
    "                categories_counts[thing] = 1\r\n",
    "    return categories_counts"
   ]
  },
  {
   "cell_type": "code",
   "execution_count": null,
   "metadata": {},
   "outputs": [],
   "source": [
    "berlin = pd.read_csv('yelp_dataset.csv')"
   ]
  },
  {
   "cell_type": "code",
   "execution_count": null,
   "metadata": {},
   "outputs": [],
   "source": [
    "berlin.drop(['url', 'claimed'], axis=1, inplace=True)"
   ]
  },
  {
   "cell_type": "code",
   "execution_count": null,
   "metadata": {},
   "outputs": [],
   "source": [
    "print(berlin.columns.values)"
   ]
  },
  {
   "cell_type": "code",
   "execution_count": null,
   "metadata": {},
   "outputs": [],
   "source": [
    "berlin.isna().sum()"
   ]
  },
  {
   "cell_type": "code",
   "execution_count": null,
   "metadata": {},
   "outputs": [],
   "source": [
    "berlin.drop(berlin.index[berlin['attributes'].isna() | berlin['categories'].isna()], inplace=True)\r\n"
   ]
  },
  {
   "cell_type": "code",
   "execution_count": null,
   "metadata": {},
   "outputs": [],
   "source": [
    "berlin.isna().sum()"
   ]
  },
  {
   "cell_type": "code",
   "execution_count": null,
   "metadata": {},
   "outputs": [],
   "source": [
    "# import re\r\n",
    "def fix_names(dataframe, column_name):\r\n",
    "    dataframe[column_name] = dataframe[column_name].apply(lambda name: e.sub(r\"(\\w)([A-Z])\", r\"\\1 \\2\", name))"
   ]
  },
  {
   "cell_type": "code",
   "execution_count": null,
   "metadata": {},
   "outputs": [],
   "source": [
    "# fix_names(berlin, 'Restaurants_Name')"
   ]
  },
  {
   "cell_type": "code",
   "execution_count": null,
   "metadata": {},
   "outputs": [],
   "source": [
    "berlin.shape[0]"
   ]
  },
  {
   "cell_type": "code",
   "execution_count": null,
   "metadata": {},
   "outputs": [],
   "source": [
    "# graph stars vs distance"
   ]
  },
  {
   "cell_type": "code",
   "execution_count": null,
   "metadata": {},
   "outputs": [],
   "source": [
    "distance_from((52.525579992852855, 13.369230338630214),berlin, 'address',  inplace=True)\r\n",
    "# berlin.drop(berlin['distance_km'].isna())"
   ]
  },
  {
   "cell_type": "code",
   "execution_count": null,
   "metadata": {},
   "outputs": [],
   "source": [
    "berlin.dropna(inplace=True)"
   ]
  },
  {
   "cell_type": "code",
   "execution_count": null,
   "metadata": {},
   "outputs": [],
   "source": [
    "categories = get_categories_dict(berlin.categories, ',')            # dictionary of categories\r\n",
    "cat_df = pd.DataFrame([categories.keys(), categories.values()]).T   # dataframe out of that dictionary\r\n",
    "cat_df.rename(columns={0:'category',1:'count'}, inplace=True)       # name columns in a fasionable name"
   ]
  },
  {
   "cell_type": "code",
   "execution_count": null,
   "metadata": {},
   "outputs": [],
   "source": [
    "avg_stars=[]\r\n",
    "avg_rev_count=[]\r\n",
    "for category in cat_df['category']:\r\n",
    "    avg_stars.append(berlin[contains(category, berlin.categories)]['stars'].mean())\r\n",
    "    avg_rev_count.append(berlin[contains(category, berlin.categories)]['review_count'].mean())\r\n",
    "\r\n",
    "cat_df['average_stars'] = avg_stars\r\n",
    "cat_df['average_review_count'] = avg_rev_count"
   ]
  },
  {
   "cell_type": "code",
   "execution_count": null,
   "metadata": {},
   "outputs": [],
   "source": [
    "cat_df.sort_values(by='count', ascending=False).head(20)"
   ]
  },
  {
   "cell_type": "code",
   "execution_count": null,
   "metadata": {},
   "outputs": [],
   "source": []
  }
 ],
 "metadata": {
  "interpreter": {
   "hash": "0b3835b907b6cc7d301aec5540e8a0fbdbe5019d215ce85ebb6eb02d9dcf944e"
  },
  "kernelspec": {
   "display_name": "Python 3.8.10 64-bit ('numba': conda)",
   "name": "python3"
  },
  "language_info": {
   "codemirror_mode": {
    "name": "ipython",
    "version": 3
   },
   "file_extension": ".py",
   "mimetype": "text/x-python",
   "name": "python",
   "nbconvert_exporter": "python",
   "pygments_lexer": "ipython3",
   "version": "3.8.10"
  },
  "orig_nbformat": 4
 },
 "nbformat": 4,
 "nbformat_minor": 2
}