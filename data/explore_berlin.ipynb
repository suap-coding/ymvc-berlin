{
 "cells": [
  {
   "cell_type": "code",
   "execution_count": 31,
   "metadata": {},
   "outputs": [],
   "source": [
    "import pandas as pd\r\n",
    "import numpy as np"
   ]
  },
  {
   "cell_type": "code",
   "execution_count": 32,
   "metadata": {},
   "outputs": [],
   "source": [
    "import pandas as pd\r\n",
    "import numpy as np"
   ]
  },
  {
   "cell_type": "code",
   "execution_count": 33,
   "metadata": {},
   "outputs": [],
   "source": [
    "# def fix_address(address):\r\n",
    "#     return (address.split(sep=', '))[0]"
   ]
  },
  {
   "cell_type": "code",
   "execution_count": 34,
   "metadata": {},
   "outputs": [],
   "source": [
    "# conda install -c conda-forge geopy\r\n",
    "from geopy.geocoders import Nominatim\r\n",
    "from geopy.distance import distance\r\n",
    "from tqdm import tqdm\r\n",
    "\r\n",
    "# proceed with cauction!!!\r\n",
    "def distance_from(dataframe, addresses_column_name, given_location, postifx=\"\", inplace=False):\r\n",
    "    \"\"\"\r\n",
    "    dataframe - pandas.DataFrame object\r\n",
    "    addresses_column_name - name of the column in which we can find addresses\r\n",
    "    given_location - tuple with latitude and longitude of a location from which we're counting the distance\r\n",
    "\r\n",
    "    postfix - what should I add to every address to make sure it's what we need. example: city/country\r\n",
    "    inplace - check it if you want to change the given dataframe. default False\r\n",
    "\r\n",
    "    returned value - pd.Series distances in kilometers\r\n",
    "    \"\"\"\r\n",
    "    geolocator = Nominatim(user_agent=\"Strive School YMVC Project\")\r\n",
    "\r\n",
    "    number_of_rows = dataframe.shape[0]\r\n",
    "    addresses_df = dataframe[addresses_column_name]\r\n",
    "\r\n",
    "    gps_addresses = np.zeros(shape=number_of_rows)\r\n",
    "\r\n",
    "    # this loop can take a looooong time.\r\n",
    "    for row_nr in tqdm(np.arange(0, number_of_rows)):\r\n",
    "        dist = np.nan\r\n",
    "        try:\r\n",
    "            loc = geolocator.geocode(addresses_df.iloc[row_nr] + postifx)\r\n",
    "            dist = distance(given_location, (loc.latitude, loc.longitude)).kilometers\r\n",
    "        except Exception as e:\r\n",
    "            print(e)\r\n",
    "        gps_addresses[row_nr] = dist\r\n",
    "\r\n",
    "    if inplace:\r\n",
    "        # we put a new column before the \"address\" column\r\n",
    "        dataframe.insert(dataframe.columns.get_loc(addresses_column_name), 'distance_km', gps_addresses)\r\n",
    "    else:\r\n",
    "        return pd.Series(gps_addresses, name='distance_km')"
   ]
  },
  {
   "cell_type": "code",
   "execution_count": 35,
   "metadata": {},
   "outputs": [],
   "source": [
    "def contains(column, word):\r\n",
    "    \"\"\"\r\n",
    "    Usage:\r\n",
    "    Pass a column and a word u want to find in the cells, to get a np.array of type bool.\r\n",
    "    Afterwards u can pass it as an argument of [] selection mechanism. Examples:\r\n",
    "\r\n",
    "    austin_tx[ contains(austin_tx.categories, \"Shopping\") ]\r\n",
    "    austin_tx[ contains(austin_tx.categories, \"Shopping\") | contains(austin_tx.categories, \"Hotels\") ]      # and\r\n",
    "    austin_tx[ contains(austin_tx.categories, \"Shopping\") & contains(austin_tx.categories, \"Watches\") ]     # or\r\n",
    "\r\n",
    "    Works for all columns that return strings. hours and attributes too.\r\n",
    "    \"\"\"\r\n",
    "    return np.array([(word in vals) for vals in column])"
   ]
  },
  {
   "cell_type": "code",
   "execution_count": 36,
   "metadata": {},
   "outputs": [],
   "source": [
    "# def fix_category(category):\r\n",
    "#     return category.replace(\", &\", \" &\")"
   ]
  },
  {
   "cell_type": "code",
   "execution_count": 37,
   "metadata": {},
   "outputs": [],
   "source": [
    "def get_categories_dict(category_column):\r\n",
    "    categories_counts = {}\r\n",
    "    for things in category_column:\r\n",
    "        for thing in things.split(sep=\", \"):    \r\n",
    "            if thing in categories_counts.keys():\r\n",
    "                categories_counts[thing] += 1\r\n",
    "            else:\r\n",
    "                categories_counts[thing] = 1\r\n",
    "    return categories_counts"
   ]
  },
  {
   "cell_type": "code",
   "execution_count": 38,
   "metadata": {},
   "outputs": [],
   "source": [
    "berlin = pd.read_csv('yelp_dataset.csv')"
   ]
  },
  {
   "cell_type": "code",
   "execution_count": 39,
   "metadata": {},
   "outputs": [],
   "source": [
    "berlin.drop(['url', 'claimed'], axis=1, inplace=True)"
   ]
  },
  {
   "cell_type": "code",
   "execution_count": 40,
   "metadata": {},
   "outputs": [
    {
     "name": "stdout",
     "output_type": "stream",
     "text": [
      "['Restaurants_Name' 'photos_count' 'stars' 'review_count' 'address'\n",
      " 'hours' 'attributes' 'categories']\n"
     ]
    }
   ],
   "source": [
    "print(berlin.columns.values)"
   ]
  },
  {
   "cell_type": "code",
   "execution_count": 41,
   "metadata": {},
   "outputs": [
    {
     "data": {
      "text/plain": [
       "Restaurants_Name     0\n",
       "photos_count        18\n",
       "stars                0\n",
       "review_count         0\n",
       "address              0\n",
       "hours                0\n",
       "attributes          14\n",
       "categories           8\n",
       "dtype: int64"
      ]
     },
     "execution_count": 41,
     "metadata": {},
     "output_type": "execute_result"
    }
   ],
   "source": [
    "berlin.isna().sum()"
   ]
  },
  {
   "cell_type": "code",
   "execution_count": 42,
   "metadata": {},
   "outputs": [],
   "source": [
    "berlin.drop(berlin.index[berlin['attributes'].isna() | berlin['categories'].isna()], inplace=True)\r\n"
   ]
  },
  {
   "cell_type": "code",
   "execution_count": 43,
   "metadata": {},
   "outputs": [
    {
     "data": {
      "text/plain": [
       "Restaurants_Name    0\n",
       "photos_count        5\n",
       "stars               0\n",
       "review_count        0\n",
       "address             0\n",
       "hours               0\n",
       "attributes          0\n",
       "categories          0\n",
       "dtype: int64"
      ]
     },
     "execution_count": 43,
     "metadata": {},
     "output_type": "execute_result"
    }
   ],
   "source": [
    "berlin.isna().sum()"
   ]
  },
  {
   "cell_type": "code",
   "execution_count": 11,
   "metadata": {},
   "outputs": [],
   "source": [
    "# distance_from(berlin, 'address', (52.525579992852855, 13.369230338630214), inplace=True)\r\n",
    "# berlin.drop(berlin['distance_km'].isna())"
   ]
  },
  {
   "cell_type": "code",
   "execution_count": 47,
   "metadata": {},
   "outputs": [],
   "source": [
    "# import re\r\n",
    "def fix_names(dataframe, column_name):\r\n",
    "    dataframe[column_name] = dataframe[column_name].apply(lambda name: e.sub(r\"(\\w)([A-Z])\", r\"\\1 \\2\", name))"
   ]
  },
  {
   "cell_type": "code",
   "execution_count": 48,
   "metadata": {},
   "outputs": [],
   "source": [
    "# fix_names(berlin, 'Restaurants_Name')"
   ]
  },
  {
   "cell_type": "code",
   "execution_count": 49,
   "metadata": {},
   "outputs": [
    {
     "data": {
      "text/plain": [
       "218"
      ]
     },
     "execution_count": 49,
     "metadata": {},
     "output_type": "execute_result"
    }
   ],
   "source": [
    "berlin.shape[0]"
   ]
  },
  {
   "cell_type": "code",
   "execution_count": null,
   "metadata": {},
   "outputs": [],
   "source": [
    "import matplotlib"
   ]
  }
 ],
 "metadata": {
  "interpreter": {
   "hash": "0b3835b907b6cc7d301aec5540e8a0fbdbe5019d215ce85ebb6eb02d9dcf944e"
  },
  "kernelspec": {
   "display_name": "Python 3.8.10 64-bit ('numba': conda)",
   "name": "python3"
  },
  "language_info": {
   "codemirror_mode": {
    "name": "ipython",
    "version": 3
   },
   "file_extension": ".py",
   "mimetype": "text/x-python",
   "name": "python",
   "nbconvert_exporter": "python",
   "pygments_lexer": "ipython3",
   "version": "3.8.10"
  },
  "orig_nbformat": 4
 },
 "nbformat": 4,
 "nbformat_minor": 2
}