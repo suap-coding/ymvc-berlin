{
 "cells": [
  {
   "cell_type": "code",
   "execution_count": 33,
   "metadata": {},
   "outputs": [],
   "source": [
    "import pandas as pd\r\n",
    "import numpy as np"
   ]
  },
  {
   "cell_type": "code",
   "execution_count": 34,
   "metadata": {},
   "outputs": [],
   "source": [
    "import pandas as pd\r\n",
    "import numpy as np"
   ]
  },
  {
   "cell_type": "code",
   "execution_count": 35,
   "metadata": {},
   "outputs": [],
   "source": [
    "# def fix_address(address):\r\n",
    "#     return (address.split(sep=', '))[0]"
   ]
  },
  {
   "cell_type": "code",
   "execution_count": 90,
   "metadata": {},
   "outputs": [],
   "source": [
    "# conda install -c conda-forge geopy\r\n",
    "from geopy.geocoders import Nominatim\r\n",
    "from geopy.distance import distance\r\n",
    "from tqdm import tqdm\r\n",
    "\r\n",
    "# proceed with cauction!!!\r\n",
    "def distance_from(given_location, dataframe, addresses_column_name, postifx=\"\", inplace=False):\r\n",
    "    \"\"\"\r\n",
    "    dataframe - pandas.DataFrame object\r\n",
    "    addresses_column_name - name of the column in which we can find addresses\r\n",
    "    given_location - tuple with latitude and longitude of a location from which we're counting the distance\r\n",
    "\r\n",
    "    postfix - what should I add to every address to make sure it's what we need. example: city/country\r\n",
    "    inplace - check it if you want to change the given dataframe. default False\r\n",
    "\r\n",
    "    returned value - pd.Series distances in kilometers\r\n",
    "    \"\"\"\r\n",
    "    geolocator = Nominatim(user_agent=\"Strive School YMVC Project\")\r\n",
    "\r\n",
    "    number_of_rows = dataframe.shape[0]\r\n",
    "    addresses_df = dataframe[addresses_column_name]\r\n",
    "\r\n",
    "    gps_addresses = np.zeros(shape=number_of_rows)\r\n",
    "\r\n",
    "    # this loop can take a looooong time.\r\n",
    "    for row_nr in np.arange(0, number_of_rows):\r\n",
    "        if row_nr % 20 == 0:\r\n",
    "            print(row_nr, number_of_rows)\r\n",
    "        dist = np.nan\r\n",
    "        try:\r\n",
    "            loc = geolocator.geocode(addresses_df.iloc[row_nr] + postifx)\r\n",
    "            dist = distance(given_location, (loc.latitude, loc.longitude)).kilometers\r\n",
    "        except Exception as e:\r\n",
    "            print(e)\r\n",
    "        gps_addresses[row_nr] = dist\r\n",
    "\r\n",
    "    if inplace:\r\n",
    "        # we put a new column before the \"address\" column\r\n",
    "        dataframe.insert(dataframe.columns.get_loc(addresses_column_name), 'distance_km', gps_addresses)\r\n",
    "    else:\r\n",
    "        return pd.Series(gps_addresses, name='distance_km')"
   ]
  },
  {
   "cell_type": "code",
   "execution_count": 37,
   "metadata": {},
   "outputs": [],
   "source": [
    "def contains(word, column, ignore_case=False):\r\n",
    "    \"\"\"\r\n",
    "    Usage:\r\n",
    "    Pass a column and a word u want to find in the cells, to get a np.array of type bool.\r\n",
    "    Afterwards u can pass it as an argument of [] selection mechanism. Examples:\r\n",
    "\r\n",
    "    austin_tx[ contains(austin_tx.categories, \"Shopping\") ]\r\n",
    "    austin_tx[ contains(austin_tx.categories, \"Shopping\") | contains(austin_tx.categories, \"Hotels\") ]      # and\r\n",
    "    austin_tx[ contains(austin_tx.categories, \"Shopping\") & contains(austin_tx.categories, \"Watches\") ]     # or\r\n",
    "\r\n",
    "    Works for all columns that return strings. hours and attributes too.\r\n",
    "    \"\"\"\r\n",
    "    if(ignore_case):\r\n",
    "        return np.array([(word.lower() in vals.lower()) for vals in column])\r\n",
    "    else:\r\n",
    "        return np.array([(word in vals) for vals in column])"
   ]
  },
  {
   "cell_type": "markdown",
   "metadata": {},
   "source": [
    "# CONTAINS ANY"
   ]
  },
  {
   "cell_type": "code",
   "execution_count": 38,
   "metadata": {},
   "outputs": [],
   "source": [
    "def contains_any(words_list, column, ignore_case=False):\r\n",
    "    contains = np.zeros(len(column), dtype=bool)\r\n",
    "    for idx, string in enumerate(column):\r\n",
    "        for w in words_list:\r\n",
    "            if ignore_case:\r\n",
    "                if w.lower() in string.lower():\r\n",
    "                    contains[idx] = True\r\n",
    "                    break\r\n",
    "            else:\r\n",
    "                if w in string:\r\n",
    "                    contains[idx] = True\r\n",
    "                    break\r\n",
    "            \r\n",
    "    return contains"
   ]
  },
  {
   "cell_type": "code",
   "execution_count": 39,
   "metadata": {},
   "outputs": [],
   "source": [
    "# def fix_category(category):\r\n",
    "#     return category.replace(\", &\", \" &\")"
   ]
  },
  {
   "cell_type": "code",
   "execution_count": 40,
   "metadata": {},
   "outputs": [],
   "source": [
    "def get_categories_dict(category_column, separator):\r\n",
    "    categories_counts = {}\r\n",
    "    for things in category_column:\r\n",
    "        for thing in things.split(sep=separator):    \r\n",
    "            if thing in categories_counts.keys():\r\n",
    "                categories_counts[thing] += 1\r\n",
    "            else:\r\n",
    "                categories_counts[thing] = 1\r\n",
    "    return categories_counts"
   ]
  },
  {
   "cell_type": "code",
   "execution_count": 41,
   "metadata": {},
   "outputs": [],
   "source": [
    "berlin = pd.read_csv('yelp_dataset.csv')"
   ]
  },
  {
   "cell_type": "code",
   "execution_count": 42,
   "metadata": {},
   "outputs": [],
   "source": [
    "berlin.drop(['url', 'claimed'], axis=1, inplace=True)"
   ]
  },
  {
   "cell_type": "code",
   "execution_count": 43,
   "metadata": {},
   "outputs": [
    {
     "name": "stdout",
     "output_type": "stream",
     "text": [
      "['Restaurants_Name' 'photos_count' 'stars' 'review_count' 'address'\n",
      " 'hours' 'attributes' 'categories' 'euros']\n"
     ]
    }
   ],
   "source": [
    "print(berlin.columns.values)"
   ]
  },
  {
   "cell_type": "code",
   "execution_count": 44,
   "metadata": {},
   "outputs": [
    {
     "data": {
      "text/plain": [
       "Restaurants_Name       1\n",
       "photos_count        1951\n",
       "stars               1694\n",
       "review_count        1709\n",
       "address             1709\n",
       "hours               1709\n",
       "attributes          1916\n",
       "categories          1854\n",
       "euros               2365\n",
       "dtype: int64"
      ]
     },
     "execution_count": 44,
     "metadata": {},
     "output_type": "execute_result"
    }
   ],
   "source": [
    "berlin.isna().sum()"
   ]
  },
  {
   "cell_type": "code",
   "execution_count": 45,
   "metadata": {},
   "outputs": [],
   "source": [
    "berlin.drop(berlin.index[berlin['categories'].isna()], inplace=True)\r\n"
   ]
  },
  {
   "cell_type": "code",
   "execution_count": 46,
   "metadata": {},
   "outputs": [
    {
     "data": {
      "text/plain": [
       "Restaurants_Name      1\n",
       "photos_count        111\n",
       "stars                 0\n",
       "review_count          0\n",
       "address               0\n",
       "hours                 0\n",
       "attributes           81\n",
       "categories            0\n",
       "euros               511\n",
       "dtype: int64"
      ]
     },
     "execution_count": 46,
     "metadata": {},
     "output_type": "execute_result"
    }
   ],
   "source": [
    "berlin.isna().sum()"
   ]
  },
  {
   "cell_type": "code",
   "execution_count": 47,
   "metadata": {},
   "outputs": [],
   "source": [
    "# import re\r\n",
    "def fix_names(dataframe, column_name):\r\n",
    "    dataframe[column_name] = dataframe[column_name].apply(lambda name: e.sub(r\"(\\w)([A-Z])\", r\"\\1 \\2\", name))"
   ]
  },
  {
   "cell_type": "code",
   "execution_count": 48,
   "metadata": {},
   "outputs": [],
   "source": [
    "# fix_names(berlin, 'Restaurants_Name')"
   ]
  },
  {
   "cell_type": "code",
   "execution_count": 49,
   "metadata": {},
   "outputs": [
    {
     "data": {
      "text/plain": [
       "840"
      ]
     },
     "execution_count": 49,
     "metadata": {},
     "output_type": "execute_result"
    }
   ],
   "source": [
    "berlin.shape[0]"
   ]
  },
  {
   "cell_type": "code",
   "execution_count": 50,
   "metadata": {},
   "outputs": [],
   "source": [
    "# graph stars vs distance"
   ]
  },
  {
   "cell_type": "code",
   "execution_count": 91,
   "metadata": {},
   "outputs": [
    {
     "name": "stdout",
     "output_type": "stream",
     "text": [
      "0 840\n",
      "'NoneType' object has no attribute 'latitude'\n",
      "'NoneType' object has no attribute 'latitude'\n",
      "'NoneType' object has no attribute 'latitude'\n",
      "20 840\n",
      "'NoneType' object has no attribute 'latitude'\n",
      "'NoneType' object has no attribute 'latitude'\n",
      "40 840\n",
      "'NoneType' object has no attribute 'latitude'\n",
      "'NoneType' object has no attribute 'latitude'\n",
      "'NoneType' object has no attribute 'latitude'\n",
      "'NoneType' object has no attribute 'latitude'\n",
      "60 840\n",
      "'NoneType' object has no attribute 'latitude'\n",
      "'NoneType' object has no attribute 'latitude'\n",
      "'NoneType' object has no attribute 'latitude'\n",
      "80 840\n",
      "'NoneType' object has no attribute 'latitude'\n",
      "100 840\n",
      "'NoneType' object has no attribute 'latitude'\n",
      "'NoneType' object has no attribute 'latitude'\n",
      "120 840\n",
      "'NoneType' object has no attribute 'latitude'\n",
      "'NoneType' object has no attribute 'latitude'\n",
      "'NoneType' object has no attribute 'latitude'\n",
      "140 840\n",
      "'NoneType' object has no attribute 'latitude'\n",
      "'NoneType' object has no attribute 'latitude'\n",
      "'NoneType' object has no attribute 'latitude'\n",
      "160 840\n",
      "'NoneType' object has no attribute 'latitude'\n",
      "180 840\n",
      "'NoneType' object has no attribute 'latitude'\n",
      "'NoneType' object has no attribute 'latitude'\n",
      "'NoneType' object has no attribute 'latitude'\n",
      "200 840\n",
      "'NoneType' object has no attribute 'latitude'\n",
      "'NoneType' object has no attribute 'latitude'\n",
      "220 840\n",
      "'NoneType' object has no attribute 'latitude'\n",
      "'NoneType' object has no attribute 'latitude'\n",
      "'NoneType' object has no attribute 'latitude'\n",
      "'NoneType' object has no attribute 'latitude'\n",
      "240 840\n",
      "'NoneType' object has no attribute 'latitude'\n",
      "'NoneType' object has no attribute 'latitude'\n",
      "'NoneType' object has no attribute 'latitude'\n",
      "'NoneType' object has no attribute 'latitude'\n",
      "'NoneType' object has no attribute 'latitude'\n",
      "260 840\n",
      "'NoneType' object has no attribute 'latitude'\n",
      "'NoneType' object has no attribute 'latitude'\n",
      "'NoneType' object has no attribute 'latitude'\n",
      "280 840\n",
      "'NoneType' object has no attribute 'latitude'\n",
      "'NoneType' object has no attribute 'latitude'\n",
      "300 840\n",
      "'NoneType' object has no attribute 'latitude'\n",
      "'NoneType' object has no attribute 'latitude'\n",
      "320 840\n",
      "'NoneType' object has no attribute 'latitude'\n",
      "'NoneType' object has no attribute 'latitude'\n",
      "'NoneType' object has no attribute 'latitude'\n",
      "'NoneType' object has no attribute 'latitude'\n",
      "340 840\n",
      "'NoneType' object has no attribute 'latitude'\n",
      "'NoneType' object has no attribute 'latitude'\n",
      "'NoneType' object has no attribute 'latitude'\n",
      "'NoneType' object has no attribute 'latitude'\n",
      "'NoneType' object has no attribute 'latitude'\n",
      "'NoneType' object has no attribute 'latitude'\n",
      "360 840\n",
      "'NoneType' object has no attribute 'latitude'\n",
      "'NoneType' object has no attribute 'latitude'\n",
      "380 840\n",
      "'NoneType' object has no attribute 'latitude'\n",
      "'NoneType' object has no attribute 'latitude'\n",
      "400 840\n",
      "'NoneType' object has no attribute 'latitude'\n",
      "'NoneType' object has no attribute 'latitude'\n",
      "'NoneType' object has no attribute 'latitude'\n",
      "420 840\n",
      "440 840\n",
      "'NoneType' object has no attribute 'latitude'\n",
      "'NoneType' object has no attribute 'latitude'\n",
      "460 840\n",
      "'NoneType' object has no attribute 'latitude'\n",
      "480 840\n",
      "'NoneType' object has no attribute 'latitude'\n",
      "500 840\n",
      "'NoneType' object has no attribute 'latitude'\n",
      "'NoneType' object has no attribute 'latitude'\n",
      "'NoneType' object has no attribute 'latitude'\n",
      "'NoneType' object has no attribute 'latitude'\n",
      "520 840\n",
      "'NoneType' object has no attribute 'latitude'\n",
      "'NoneType' object has no attribute 'latitude'\n",
      "540 840\n",
      "'NoneType' object has no attribute 'latitude'\n",
      "'NoneType' object has no attribute 'latitude'\n",
      "560 840\n",
      "'NoneType' object has no attribute 'latitude'\n",
      "580 840\n",
      "'NoneType' object has no attribute 'latitude'\n",
      "'NoneType' object has no attribute 'latitude'\n",
      "'NoneType' object has no attribute 'latitude'\n",
      "600 840\n",
      "'NoneType' object has no attribute 'latitude'\n",
      "'NoneType' object has no attribute 'latitude'\n",
      "'NoneType' object has no attribute 'latitude'\n",
      "'NoneType' object has no attribute 'latitude'\n",
      "620 840\n",
      "'NoneType' object has no attribute 'latitude'\n",
      "'NoneType' object has no attribute 'latitude'\n",
      "640 840\n",
      "'NoneType' object has no attribute 'latitude'\n",
      "'NoneType' object has no attribute 'latitude'\n",
      "'NoneType' object has no attribute 'latitude'\n",
      "660 840\n",
      "680 840\n",
      "700 840\n",
      "'NoneType' object has no attribute 'latitude'\n",
      "'NoneType' object has no attribute 'latitude'\n",
      "'NoneType' object has no attribute 'latitude'\n",
      "'NoneType' object has no attribute 'latitude'\n",
      "'NoneType' object has no attribute 'latitude'\n",
      "720 840\n",
      "'NoneType' object has no attribute 'latitude'\n",
      "'NoneType' object has no attribute 'latitude'\n",
      "'NoneType' object has no attribute 'latitude'\n",
      "'NoneType' object has no attribute 'latitude'\n",
      "740 840\n",
      "'NoneType' object has no attribute 'latitude'\n",
      "760 840\n",
      "'NoneType' object has no attribute 'latitude'\n",
      "'NoneType' object has no attribute 'latitude'\n",
      "'NoneType' object has no attribute 'latitude'\n",
      "'NoneType' object has no attribute 'latitude'\n",
      "780 840\n",
      "'NoneType' object has no attribute 'latitude'\n",
      "'NoneType' object has no attribute 'latitude'\n",
      "800 840\n",
      "'NoneType' object has no attribute 'latitude'\n",
      "'NoneType' object has no attribute 'latitude'\n",
      "'NoneType' object has no attribute 'latitude'\n",
      "'NoneType' object has no attribute 'latitude'\n",
      "820 840\n",
      "'NoneType' object has no attribute 'latitude'\n",
      "'NoneType' object has no attribute 'latitude'\n",
      "'NoneType' object has no attribute 'latitude'\n"
     ]
    },
    {
     "ename": "KeyError",
     "evalue": "'[False False  True  True False False False False False False False  True\\n False False False False False False False False False False False False\\n False False  True False False False False False  True False False False\\n False False False False  True False False False False False  True False\\n False False False False False False False False  True  True False False\\n False False False False False  True False False  True False False False\\n False False False False  True False False False False False False  True\\n False False False False False False False False False False False False\\n False False False False False False False False False False  True False\\n False False False False False False False False False  True False False\\n False False False False False False False False False  True False False\\n False  True False False False False False  True False False False False\\n False False False False False False False False  True False  True False\\n  True False False False False False False False False False False False\\n False False False False False False  True False False False False False\\n False False False False False False False  True False False False  True\\n  True False False False False False False False False False False False\\n False False False  True False False False False False False False  True\\n False False False False False False  True False False False False False\\n False False  True False False  True False False  True False False False\\n  True False  True False  True False False False False False False  True\\n  True False False False False False False False False False  True False\\n False False False False False False False False False False False False\\n False False  True  True False False False False False False False False\\n False False  True  True False False False False False False False False\\n False False  True False False False False False False False False False\\n False False False  True False False False False False False False False\\n False False False  True False False  True False False False  True False\\n False  True False False  True False False False  True  True  True False\\n False False False False False  True False False False  True False False\\n  True False False  True False False False False False False False False\\n False False False False False False False False False False False False\\n False  True False False  True False False False False False False False\\n False False False False False False False False  True False False False\\n False False False  True False False  True False False False False False\\n False False False False False False False False False False False False\\n False False False False False False False False False False False False\\n  True False False False False False False False False False False  True\\n False False False False False False False False False False False False\\n False False False False False False False False False  True False False\\n False False False False False False False False False False False False\\n False False False False False  True False False False False False  True\\n False  True  True False False False False False False False  True False\\n False False False False False False False False False False False  True\\n False False False False False False False False False  True False False\\n False False False False False False False False False False False False\\n False False False  True False False  True False False False False False\\n False False False False False False False False  True False False False\\n False False False False False False False False False  True  True False\\n False False  True False False False False False False False False False\\n False False False False  True False False False False  True False False\\n False False False False False  True  True False False False False False\\n False False False False False False False  True  True False False False\\n False False False False False False False False False  True False False\\n  True False False False False False False False False False  True False\\n False False False False False False False False False False False False\\n False False False False False False False False False False False False\\n False False False False False False False False False False False False\\n False False False False False False False False False  True False  True\\n False False False False  True  True False False False False  True False\\n  True False  True  True False False False  True False False False False\\n False False False False False False False False False False False False\\n False  True False False False False False False False False False False\\n False False False False False False False  True False  True False False\\n False False False False False False False  True False False  True False\\n False False False False False False False False  True False False False\\n False False False False False False  True False False False False  True\\n False False  True  True False False False False False False False False\\n False False  True False False  True False False  True False  True False\\n False False False False False False False False False False False False] not found in axis'",
     "output_type": "error",
     "traceback": [
      "\u001b[1;31m---------------------------------------------------------------------------\u001b[0m",
      "\u001b[1;31mKeyError\u001b[0m                                  Traceback (most recent call last)",
      "\u001b[1;32m<ipython-input-91-847823165d5b>\u001b[0m in \u001b[0;36m<module>\u001b[1;34m\u001b[0m\n\u001b[0;32m      1\u001b[0m \u001b[0mdistance_from\u001b[0m\u001b[1;33m(\u001b[0m\u001b[1;33m(\u001b[0m\u001b[1;36m52.525579992852855\u001b[0m\u001b[1;33m,\u001b[0m \u001b[1;36m13.369230338630214\u001b[0m\u001b[1;33m)\u001b[0m\u001b[1;33m,\u001b[0m\u001b[0mberlin\u001b[0m\u001b[1;33m,\u001b[0m \u001b[1;34m'address'\u001b[0m\u001b[1;33m,\u001b[0m  \u001b[0minplace\u001b[0m\u001b[1;33m=\u001b[0m\u001b[1;32mTrue\u001b[0m\u001b[1;33m)\u001b[0m\u001b[1;33m\u001b[0m\u001b[1;33m\u001b[0m\u001b[0m\n\u001b[1;32m----> 2\u001b[1;33m \u001b[0mberlin\u001b[0m\u001b[1;33m.\u001b[0m\u001b[0mdrop\u001b[0m\u001b[1;33m(\u001b[0m\u001b[0mberlin\u001b[0m\u001b[1;33m[\u001b[0m\u001b[1;34m'distance_km'\u001b[0m\u001b[1;33m]\u001b[0m\u001b[1;33m.\u001b[0m\u001b[0misna\u001b[0m\u001b[1;33m(\u001b[0m\u001b[1;33m)\u001b[0m\u001b[1;33m)\u001b[0m\u001b[1;33m\u001b[0m\u001b[1;33m\u001b[0m\u001b[0m\n\u001b[0m",
      "\u001b[1;32mC:\\my\\dev\\tools\\anaconda3\\envs\\numba\\lib\\site-packages\\pandas\\core\\frame.py\u001b[0m in \u001b[0;36mdrop\u001b[1;34m(self, labels, axis, index, columns, level, inplace, errors)\u001b[0m\n\u001b[0;32m   4306\u001b[0m                 \u001b[0mweight\u001b[0m  \u001b[1;36m1.0\u001b[0m     \u001b[1;36m0.8\u001b[0m\u001b[1;33m\u001b[0m\u001b[1;33m\u001b[0m\u001b[0m\n\u001b[0;32m   4307\u001b[0m         \"\"\"\n\u001b[1;32m-> 4308\u001b[1;33m         return super().drop(\n\u001b[0m\u001b[0;32m   4309\u001b[0m             \u001b[0mlabels\u001b[0m\u001b[1;33m=\u001b[0m\u001b[0mlabels\u001b[0m\u001b[1;33m,\u001b[0m\u001b[1;33m\u001b[0m\u001b[1;33m\u001b[0m\u001b[0m\n\u001b[0;32m   4310\u001b[0m             \u001b[0maxis\u001b[0m\u001b[1;33m=\u001b[0m\u001b[0maxis\u001b[0m\u001b[1;33m,\u001b[0m\u001b[1;33m\u001b[0m\u001b[1;33m\u001b[0m\u001b[0m\n",
      "\u001b[1;32mC:\\my\\dev\\tools\\anaconda3\\envs\\numba\\lib\\site-packages\\pandas\\core\\generic.py\u001b[0m in \u001b[0;36mdrop\u001b[1;34m(self, labels, axis, index, columns, level, inplace, errors)\u001b[0m\n\u001b[0;32m   4151\u001b[0m         \u001b[1;32mfor\u001b[0m \u001b[0maxis\u001b[0m\u001b[1;33m,\u001b[0m \u001b[0mlabels\u001b[0m \u001b[1;32min\u001b[0m \u001b[0maxes\u001b[0m\u001b[1;33m.\u001b[0m\u001b[0mitems\u001b[0m\u001b[1;33m(\u001b[0m\u001b[1;33m)\u001b[0m\u001b[1;33m:\u001b[0m\u001b[1;33m\u001b[0m\u001b[1;33m\u001b[0m\u001b[0m\n\u001b[0;32m   4152\u001b[0m             \u001b[1;32mif\u001b[0m \u001b[0mlabels\u001b[0m \u001b[1;32mis\u001b[0m \u001b[1;32mnot\u001b[0m \u001b[1;32mNone\u001b[0m\u001b[1;33m:\u001b[0m\u001b[1;33m\u001b[0m\u001b[1;33m\u001b[0m\u001b[0m\n\u001b[1;32m-> 4153\u001b[1;33m                 \u001b[0mobj\u001b[0m \u001b[1;33m=\u001b[0m \u001b[0mobj\u001b[0m\u001b[1;33m.\u001b[0m\u001b[0m_drop_axis\u001b[0m\u001b[1;33m(\u001b[0m\u001b[0mlabels\u001b[0m\u001b[1;33m,\u001b[0m \u001b[0maxis\u001b[0m\u001b[1;33m,\u001b[0m \u001b[0mlevel\u001b[0m\u001b[1;33m=\u001b[0m\u001b[0mlevel\u001b[0m\u001b[1;33m,\u001b[0m \u001b[0merrors\u001b[0m\u001b[1;33m=\u001b[0m\u001b[0merrors\u001b[0m\u001b[1;33m)\u001b[0m\u001b[1;33m\u001b[0m\u001b[1;33m\u001b[0m\u001b[0m\n\u001b[0m\u001b[0;32m   4154\u001b[0m \u001b[1;33m\u001b[0m\u001b[0m\n\u001b[0;32m   4155\u001b[0m         \u001b[1;32mif\u001b[0m \u001b[0minplace\u001b[0m\u001b[1;33m:\u001b[0m\u001b[1;33m\u001b[0m\u001b[1;33m\u001b[0m\u001b[0m\n",
      "\u001b[1;32mC:\\my\\dev\\tools\\anaconda3\\envs\\numba\\lib\\site-packages\\pandas\\core\\generic.py\u001b[0m in \u001b[0;36m_drop_axis\u001b[1;34m(self, labels, axis, level, errors)\u001b[0m\n\u001b[0;32m   4186\u001b[0m                 \u001b[0mnew_axis\u001b[0m \u001b[1;33m=\u001b[0m \u001b[0maxis\u001b[0m\u001b[1;33m.\u001b[0m\u001b[0mdrop\u001b[0m\u001b[1;33m(\u001b[0m\u001b[0mlabels\u001b[0m\u001b[1;33m,\u001b[0m \u001b[0mlevel\u001b[0m\u001b[1;33m=\u001b[0m\u001b[0mlevel\u001b[0m\u001b[1;33m,\u001b[0m \u001b[0merrors\u001b[0m\u001b[1;33m=\u001b[0m\u001b[0merrors\u001b[0m\u001b[1;33m)\u001b[0m\u001b[1;33m\u001b[0m\u001b[1;33m\u001b[0m\u001b[0m\n\u001b[0;32m   4187\u001b[0m             \u001b[1;32melse\u001b[0m\u001b[1;33m:\u001b[0m\u001b[1;33m\u001b[0m\u001b[1;33m\u001b[0m\u001b[0m\n\u001b[1;32m-> 4188\u001b[1;33m                 \u001b[0mnew_axis\u001b[0m \u001b[1;33m=\u001b[0m \u001b[0maxis\u001b[0m\u001b[1;33m.\u001b[0m\u001b[0mdrop\u001b[0m\u001b[1;33m(\u001b[0m\u001b[0mlabels\u001b[0m\u001b[1;33m,\u001b[0m \u001b[0merrors\u001b[0m\u001b[1;33m=\u001b[0m\u001b[0merrors\u001b[0m\u001b[1;33m)\u001b[0m\u001b[1;33m\u001b[0m\u001b[1;33m\u001b[0m\u001b[0m\n\u001b[0m\u001b[0;32m   4189\u001b[0m             \u001b[0mresult\u001b[0m \u001b[1;33m=\u001b[0m \u001b[0mself\u001b[0m\u001b[1;33m.\u001b[0m\u001b[0mreindex\u001b[0m\u001b[1;33m(\u001b[0m\u001b[1;33m**\u001b[0m\u001b[1;33m{\u001b[0m\u001b[0maxis_name\u001b[0m\u001b[1;33m:\u001b[0m \u001b[0mnew_axis\u001b[0m\u001b[1;33m}\u001b[0m\u001b[1;33m)\u001b[0m\u001b[1;33m\u001b[0m\u001b[1;33m\u001b[0m\u001b[0m\n\u001b[0;32m   4190\u001b[0m \u001b[1;33m\u001b[0m\u001b[0m\n",
      "\u001b[1;32mC:\\my\\dev\\tools\\anaconda3\\envs\\numba\\lib\\site-packages\\pandas\\core\\indexes\\base.py\u001b[0m in \u001b[0;36mdrop\u001b[1;34m(self, labels, errors)\u001b[0m\n\u001b[0;32m   5589\u001b[0m         \u001b[1;32mif\u001b[0m \u001b[0mmask\u001b[0m\u001b[1;33m.\u001b[0m\u001b[0many\u001b[0m\u001b[1;33m(\u001b[0m\u001b[1;33m)\u001b[0m\u001b[1;33m:\u001b[0m\u001b[1;33m\u001b[0m\u001b[1;33m\u001b[0m\u001b[0m\n\u001b[0;32m   5590\u001b[0m             \u001b[1;32mif\u001b[0m \u001b[0merrors\u001b[0m \u001b[1;33m!=\u001b[0m \u001b[1;34m\"ignore\"\u001b[0m\u001b[1;33m:\u001b[0m\u001b[1;33m\u001b[0m\u001b[1;33m\u001b[0m\u001b[0m\n\u001b[1;32m-> 5591\u001b[1;33m                 \u001b[1;32mraise\u001b[0m \u001b[0mKeyError\u001b[0m\u001b[1;33m(\u001b[0m\u001b[1;34mf\"{labels[mask]} not found in axis\"\u001b[0m\u001b[1;33m)\u001b[0m\u001b[1;33m\u001b[0m\u001b[1;33m\u001b[0m\u001b[0m\n\u001b[0m\u001b[0;32m   5592\u001b[0m             \u001b[0mindexer\u001b[0m \u001b[1;33m=\u001b[0m \u001b[0mindexer\u001b[0m\u001b[1;33m[\u001b[0m\u001b[1;33m~\u001b[0m\u001b[0mmask\u001b[0m\u001b[1;33m]\u001b[0m\u001b[1;33m\u001b[0m\u001b[1;33m\u001b[0m\u001b[0m\n\u001b[0;32m   5593\u001b[0m         \u001b[1;32mreturn\u001b[0m \u001b[0mself\u001b[0m\u001b[1;33m.\u001b[0m\u001b[0mdelete\u001b[0m\u001b[1;33m(\u001b[0m\u001b[0mindexer\u001b[0m\u001b[1;33m)\u001b[0m\u001b[1;33m\u001b[0m\u001b[1;33m\u001b[0m\u001b[0m\n",
      "\u001b[1;31mKeyError\u001b[0m: '[False False  True  True False False False False False False False  True\\n False False False False False False False False False False False False\\n False False  True False False False False False  True False False False\\n False False False False  True False False False False False  True False\\n False False False False False False False False  True  True False False\\n False False False False False  True False False  True False False False\\n False False False False  True False False False False False False  True\\n False False False False False False False False False False False False\\n False False False False False False False False False False  True False\\n False False False False False False False False False  True False False\\n False False False False False False False False False  True False False\\n False  True False False False False False  True False False False False\\n False False False False False False False False  True False  True False\\n  True False False False False False False False False False False False\\n False False False False False False  True False False False False False\\n False False False False False False False  True False False False  True\\n  True False False False False False False False False False False False\\n False False False  True False False False False False False False  True\\n False False False False False False  True False False False False False\\n False False  True False False  True False False  True False False False\\n  True False  True False  True False False False False False False  True\\n  True False False False False False False False False False  True False\\n False False False False False False False False False False False False\\n False False  True  True False False False False False False False False\\n False False  True  True False False False False False False False False\\n False False  True False False False False False False False False False\\n False False False  True False False False False False False False False\\n False False False  True False False  True False False False  True False\\n False  True False False  True False False False  True  True  True False\\n False False False False False  True False False False  True False False\\n  True False False  True False False False False False False False False\\n False False False False False False False False False False False False\\n False  True False False  True False False False False False False False\\n False False False False False False False False  True False False False\\n False False False  True False False  True False False False False False\\n False False False False False False False False False False False False\\n False False False False False False False False False False False False\\n  True False False False False False False False False False False  True\\n False False False False False False False False False False False False\\n False False False False False False False False False  True False False\\n False False False False False False False False False False False False\\n False False False False False  True False False False False False  True\\n False  True  True False False False False False False False  True False\\n False False False False False False False False False False False  True\\n False False False False False False False False False  True False False\\n False False False False False False False False False False False False\\n False False False  True False False  True False False False False False\\n False False False False False False False False  True False False False\\n False False False False False False False False False  True  True False\\n False False  True False False False False False False False False False\\n False False False False  True False False False False  True False False\\n False False False False False  True  True False False False False False\\n False False False False False False False  True  True False False False\\n False False False False False False False False False  True False False\\n  True False False False False False False False False False  True False\\n False False False False False False False False False False False False\\n False False False False False False False False False False False False\\n False False False False False False False False False False False False\\n False False False False False False False False False  True False  True\\n False False False False  True  True False False False False  True False\\n  True False  True  True False False False  True False False False False\\n False False False False False False False False False False False False\\n False  True False False False False False False False False False False\\n False False False False False False False  True False  True False False\\n False False False False False False False  True False False  True False\\n False False False False False False False False  True False False False\\n False False False False False False  True False False False False  True\\n False False  True  True False False False False False False False False\\n False False  True False False  True False False  True False  True False\\n False False False False False False False False False False False False] not found in axis'"
     ]
    }
   ],
   "source": [
    "distance_from((52.525579992852855, 13.369230338630214),berlin, 'address',  inplace=True)\r\n",
    "# berlin.drop(berlin['distance_km'].isna())"
   ]
  },
  {
   "cell_type": "code",
   "execution_count": 52,
   "metadata": {},
   "outputs": [],
   "source": [
    "# berlin.dropna(inplace=True)"
   ]
  },
  {
   "cell_type": "markdown",
   "metadata": {},
   "source": [
    "# FUCKING HERE"
   ]
  },
  {
   "cell_type": "code",
   "execution_count": 53,
   "metadata": {},
   "outputs": [],
   "source": [
    "def set_category(cat_name, dataframe, new_column_name, bool_table):\r\n",
    "    for idx in range(dataframe.shape[0]):\r\n",
    "        if bool_table[idx]:\r\n",
    "            dataframe[new_column_name].iloc[idx] = cat_name\r\n"
   ]
  },
  {
   "cell_type": "code",
   "execution_count": 75,
   "metadata": {},
   "outputs": [],
   "source": [
    "restaurants = [\"reservations\" ,\"delivery\", \"burgers\", \"chinese\", \"japanese\", \"mexican\", \"italian\",  \"thai\", \"japanese\", \"mexican\", \"italian\", 'sushi', 'ramen', 'kebab', 'coffee', 'tea', 'falafel', 'cafes', 'Vietnamese', 'German']\r\n",
    "restaurants += ['Mediterranean', 'African', 'Food', 'breakfast', 'cake', 'lebanese', 'pizza', 'greek','European', 'vegan', 'Korean', 'Dim Sum', 'Oriental','Moroccan','Bakeries', 'indian','american','Ethiopian', 'Arabian', 'Ice Cream']\r\n",
    "restaurants += ['dessert', 'yoghurt', 'austrian', 'Crepes', 'pub', 'gastro', 'brewer', 'Spanish', 'French', 'Brasserie', 'bar']\r\n",
    "auto_services = ['autorepair', 'car_dealers', 'auto_detailing']\r\n",
    "others = ['dryclean', 'hair', 'mobilephonerepair', 'gyms', 'bars', 'massage', 'nightlife', 'shopping', 'museum', 'forest', 'historic building', 'aquarium', 'zoo', 'landmark']\r\n",
    "is_restaurant = contains_any(restaurants, berlin['categories'], ignore_case=True)\r\n",
    "is_auto_service = contains_any(auto_services, berlin['categories'], ignore_case=True)\r\n",
    "is_others = contains_any(others, berlin['categories'], ignore_case=True)"
   ]
  },
  {
   "cell_type": "code",
   "execution_count": 76,
   "metadata": {},
   "outputs": [
    {
     "name": "stderr",
     "output_type": "stream",
     "text": [
      "C:\\my\\dev\\tools\\anaconda3\\envs\\numba\\lib\\site-packages\\pandas\\core\\indexing.py:1637: SettingWithCopyWarning: \n",
      "A value is trying to be set on a copy of a slice from a DataFrame\n",
      "\n",
      "See the caveats in the documentation: https://pandas.pydata.org/pandas-docs/stable/user_guide/indexing.html#returning-a-view-versus-a-copy\n",
      "  self._setitem_single_block(indexer, value, name)\n"
     ]
    },
    {
     "data": {
      "text/plain": [
       "34"
      ]
     },
     "execution_count": 76,
     "metadata": {},
     "output_type": "execute_result"
    }
   ],
   "source": [
    "berlin['main_category'] = np.nan\r\n",
    "set_category('Other', berlin, 'main_category', is_others)\r\n",
    "set_category('Restaurant', berlin, 'main_category', is_restaurant)\r\n",
    "set_category('Auto Service', berlin, 'main_category', is_auto_service)\r\n",
    "berlin[berlin['main_category'].isna()].shape[0]"
   ]
  },
  {
   "cell_type": "code",
   "execution_count": 77,
   "metadata": {},
   "outputs": [],
   "source": [
    "# main_categories = get_categories_dict(berlin.main_category, separator=\", \")"
   ]
  },
  {
   "cell_type": "code",
   "execution_count": 78,
   "metadata": {},
   "outputs": [],
   "source": [
    "# main_categories"
   ]
  },
  {
   "cell_type": "code",
   "execution_count": 79,
   "metadata": {},
   "outputs": [],
   "source": [
    "restaurant_categories = get_categories_dict(berlin[berlin.main_category=='Restaurant'].categories, ',')            # dictionary of categories\r\n",
    "resturant_cat_df = pd.DataFrame([restaurant_categories.keys(), restaurant_categories.values()]).T   # dataframe out of that dictionary\r\n",
    "resturant_cat_df.rename(columns={0:'category',1:'count'}, inplace=True)       # name columns in a fasionable name"
   ]
  },
  {
   "cell_type": "markdown",
   "metadata": {},
   "source": [
    "# RESTAURANTS"
   ]
  },
  {
   "cell_type": "code",
   "execution_count": 80,
   "metadata": {},
   "outputs": [],
   "source": [
    "avg_stars=[]\r\n",
    "avg_rev_count=[]\r\n",
    "for category in resturant_cat_df['category']:\r\n",
    "    avg_stars.append(berlin[contains(category, berlin.categories)]['stars'].mean())\r\n",
    "    avg_rev_count.append(berlin[contains(category, berlin.categories)]['review_count'].mean())\r\n",
    "\r\n",
    "resturant_cat_df['average_stars'] = avg_stars\r\n",
    "resturant_cat_df['average_review_count'] = avg_rev_count"
   ]
  },
  {
   "cell_type": "code",
   "execution_count": 81,
   "metadata": {},
   "outputs": [
    {
     "data": {
      "text/html": [
       "<div>\n",
       "<style scoped>\n",
       "    .dataframe tbody tr th:only-of-type {\n",
       "        vertical-align: middle;\n",
       "    }\n",
       "\n",
       "    .dataframe tbody tr th {\n",
       "        vertical-align: top;\n",
       "    }\n",
       "\n",
       "    .dataframe thead th {\n",
       "        text-align: right;\n",
       "    }\n",
       "</style>\n",
       "<table border=\"1\" class=\"dataframe\">\n",
       "  <thead>\n",
       "    <tr style=\"text-align: right;\">\n",
       "      <th></th>\n",
       "      <th>category</th>\n",
       "      <th>count</th>\n",
       "      <th>average_stars</th>\n",
       "      <th>average_review_count</th>\n",
       "    </tr>\n",
       "  </thead>\n",
       "  <tbody>\n",
       "    <tr>\n",
       "      <th>17</th>\n",
       "      <td>Italian</td>\n",
       "      <td>184</td>\n",
       "      <td>4.255435</td>\n",
       "      <td>37.038043</td>\n",
       "    </tr>\n",
       "    <tr>\n",
       "      <th>51</th>\n",
       "      <td>Thai</td>\n",
       "      <td>150</td>\n",
       "      <td>3.846667</td>\n",
       "      <td>27.253333</td>\n",
       "    </tr>\n",
       "    <tr>\n",
       "      <th>57</th>\n",
       "      <td>Vietnamese</td>\n",
       "      <td>67</td>\n",
       "      <td>4.007463</td>\n",
       "      <td>54.298507</td>\n",
       "    </tr>\n",
       "    <tr>\n",
       "      <th>42</th>\n",
       "      <td>Mexican</td>\n",
       "      <td>66</td>\n",
       "      <td>3.356061</td>\n",
       "      <td>38.484848</td>\n",
       "    </tr>\n",
       "    <tr>\n",
       "      <th>15</th>\n",
       "      <td>Pizza</td>\n",
       "      <td>64</td>\n",
       "      <td>4.132812</td>\n",
       "      <td>51.484375</td>\n",
       "    </tr>\n",
       "    <tr>\n",
       "      <th>...</th>\n",
       "      <td>...</td>\n",
       "      <td>...</td>\n",
       "      <td>...</td>\n",
       "      <td>...</td>\n",
       "    </tr>\n",
       "    <tr>\n",
       "      <th>92</th>\n",
       "      <td>International Grocery</td>\n",
       "      <td>1</td>\n",
       "      <td>4.500000</td>\n",
       "      <td>13.000000</td>\n",
       "    </tr>\n",
       "    <tr>\n",
       "      <th>93</th>\n",
       "      <td>Beach Bars</td>\n",
       "      <td>1</td>\n",
       "      <td>3.000000</td>\n",
       "      <td>62.000000</td>\n",
       "    </tr>\n",
       "    <tr>\n",
       "      <th>94</th>\n",
       "      <td>Diners</td>\n",
       "      <td>1</td>\n",
       "      <td>4.000000</td>\n",
       "      <td>19.000000</td>\n",
       "    </tr>\n",
       "    <tr>\n",
       "      <th>27</th>\n",
       "      <td>Fish &amp; Chips</td>\n",
       "      <td>1</td>\n",
       "      <td>4.500000</td>\n",
       "      <td>116.000000</td>\n",
       "    </tr>\n",
       "    <tr>\n",
       "      <th>125</th>\n",
       "      <td>Wok</td>\n",
       "      <td>1</td>\n",
       "      <td>3.500000</td>\n",
       "      <td>33.000000</td>\n",
       "    </tr>\n",
       "  </tbody>\n",
       "</table>\n",
       "<p>126 rows × 4 columns</p>\n",
       "</div>"
      ],
      "text/plain": [
       "                  category count  average_stars  average_review_count\n",
       "17                 Italian   184       4.255435             37.038043\n",
       "51                    Thai   150       3.846667             27.253333\n",
       "57              Vietnamese    67       4.007463             54.298507\n",
       "42                 Mexican    66       3.356061             38.484848\n",
       "15                   Pizza    64       4.132812             51.484375\n",
       "..                     ...   ...            ...                   ...\n",
       "92   International Grocery     1       4.500000             13.000000\n",
       "93              Beach Bars     1       3.000000             62.000000\n",
       "94                  Diners     1       4.000000             19.000000\n",
       "27            Fish & Chips     1       4.500000            116.000000\n",
       "125                    Wok     1       3.500000             33.000000\n",
       "\n",
       "[126 rows x 4 columns]"
      ]
     },
     "execution_count": 81,
     "metadata": {},
     "output_type": "execute_result"
    }
   ],
   "source": [
    "resturant_cat_df.sort_values(by='count', ascending=False)"
   ]
  },
  {
   "cell_type": "code",
   "execution_count": null,
   "metadata": {},
   "outputs": [],
   "source": [
    "resturant_cat_df[resturant_cat_df.count == 1]"
   ]
  },
  {
   "cell_type": "markdown",
   "metadata": {},
   "source": [
    "# OTHER"
   ]
  },
  {
   "cell_type": "code",
   "execution_count": 82,
   "metadata": {},
   "outputs": [],
   "source": [
    "other_categories = get_categories_dict(berlin[berlin.main_category=='Other'].categories, ',')\r\n",
    "other_cat_df = pd.DataFrame([other_categories.keys(), other_categories.values()]).T\r\n",
    "other_cat_df.rename(columns={0:'category',1:'count'}, inplace=True)"
   ]
  },
  {
   "cell_type": "code",
   "execution_count": 83,
   "metadata": {},
   "outputs": [],
   "source": [
    "avg_stars=[]\r\n",
    "avg_rev_count=[]\r\n",
    "for category in other_cat_df['category']:\r\n",
    "    avg_stars.append(berlin[contains(category, berlin.categories)]['stars'].mean())\r\n",
    "    avg_rev_count.append(berlin[contains(category, berlin.categories)]['review_count'].mean())\r\n",
    "\r\n",
    "other_cat_df['average_stars'] = avg_stars\r\n",
    "other_cat_df['average_review_count'] = avg_rev_count"
   ]
  },
  {
   "cell_type": "code",
   "execution_count": 84,
   "metadata": {},
   "outputs": [
    {
     "data": {
      "text/html": [
       "<div>\n",
       "<style scoped>\n",
       "    .dataframe tbody tr th:only-of-type {\n",
       "        vertical-align: middle;\n",
       "    }\n",
       "\n",
       "    .dataframe tbody tr th {\n",
       "        vertical-align: top;\n",
       "    }\n",
       "\n",
       "    .dataframe thead th {\n",
       "        text-align: right;\n",
       "    }\n",
       "</style>\n",
       "<table border=\"1\" class=\"dataframe\">\n",
       "  <thead>\n",
       "    <tr style=\"text-align: right;\">\n",
       "      <th></th>\n",
       "      <th>category</th>\n",
       "      <th>count</th>\n",
       "      <th>average_stars</th>\n",
       "      <th>average_review_count</th>\n",
       "    </tr>\n",
       "  </thead>\n",
       "  <tbody>\n",
       "    <tr>\n",
       "      <th>5</th>\n",
       "      <td>Zoos</td>\n",
       "      <td>2</td>\n",
       "      <td>4.000000</td>\n",
       "      <td>214.500000</td>\n",
       "    </tr>\n",
       "    <tr>\n",
       "      <th>3</th>\n",
       "      <td>Park &amp; Forests</td>\n",
       "      <td>6</td>\n",
       "      <td>4.333333</td>\n",
       "      <td>130.166667</td>\n",
       "    </tr>\n",
       "    <tr>\n",
       "      <th>2</th>\n",
       "      <td>Museums</td>\n",
       "      <td>10</td>\n",
       "      <td>4.400000</td>\n",
       "      <td>136.700000</td>\n",
       "    </tr>\n",
       "    <tr>\n",
       "      <th>0</th>\n",
       "      <td>Landmarks &amp; Historic Buildings</td>\n",
       "      <td>7</td>\n",
       "      <td>4.428571</td>\n",
       "      <td>152.714286</td>\n",
       "    </tr>\n",
       "    <tr>\n",
       "      <th>1</th>\n",
       "      <td>Local Flavour</td>\n",
       "      <td>2</td>\n",
       "      <td>4.500000</td>\n",
       "      <td>162.000000</td>\n",
       "    </tr>\n",
       "    <tr>\n",
       "      <th>4</th>\n",
       "      <td>Botanical Gardens</td>\n",
       "      <td>1</td>\n",
       "      <td>4.500000</td>\n",
       "      <td>79.000000</td>\n",
       "    </tr>\n",
       "    <tr>\n",
       "      <th>6</th>\n",
       "      <td>Aquariums</td>\n",
       "      <td>1</td>\n",
       "      <td>4.500000</td>\n",
       "      <td>119.000000</td>\n",
       "    </tr>\n",
       "    <tr>\n",
       "      <th>7</th>\n",
       "      <td>Shopping Centers</td>\n",
       "      <td>1</td>\n",
       "      <td>4.500000</td>\n",
       "      <td>98.000000</td>\n",
       "    </tr>\n",
       "    <tr>\n",
       "      <th>10</th>\n",
       "      <td>Massage</td>\n",
       "      <td>1</td>\n",
       "      <td>4.500000</td>\n",
       "      <td>4.000000</td>\n",
       "    </tr>\n",
       "    <tr>\n",
       "      <th>11</th>\n",
       "      <td>Eyelash Extension &amp; Eyelash Tinting</td>\n",
       "      <td>1</td>\n",
       "      <td>4.500000</td>\n",
       "      <td>4.000000</td>\n",
       "    </tr>\n",
       "    <tr>\n",
       "      <th>8</th>\n",
       "      <td>Hairdressers</td>\n",
       "      <td>29</td>\n",
       "      <td>4.586207</td>\n",
       "      <td>3.793103</td>\n",
       "    </tr>\n",
       "    <tr>\n",
       "      <th>9</th>\n",
       "      <td>Estheticians</td>\n",
       "      <td>1</td>\n",
       "      <td>5.000000</td>\n",
       "      <td>2.000000</td>\n",
       "    </tr>\n",
       "    <tr>\n",
       "      <th>12</th>\n",
       "      <td>Makeup Artists</td>\n",
       "      <td>1</td>\n",
       "      <td>5.000000</td>\n",
       "      <td>2.000000</td>\n",
       "    </tr>\n",
       "  </tbody>\n",
       "</table>\n",
       "</div>"
      ],
      "text/plain": [
       "                               category count  average_stars  \\\n",
       "5                                  Zoos     2       4.000000   \n",
       "3                        Park & Forests     6       4.333333   \n",
       "2                               Museums    10       4.400000   \n",
       "0        Landmarks & Historic Buildings     7       4.428571   \n",
       "1                         Local Flavour     2       4.500000   \n",
       "4                     Botanical Gardens     1       4.500000   \n",
       "6                             Aquariums     1       4.500000   \n",
       "7                      Shopping Centers     1       4.500000   \n",
       "10                              Massage     1       4.500000   \n",
       "11  Eyelash Extension & Eyelash Tinting     1       4.500000   \n",
       "8                          Hairdressers    29       4.586207   \n",
       "9                          Estheticians     1       5.000000   \n",
       "12                       Makeup Artists     1       5.000000   \n",
       "\n",
       "    average_review_count  \n",
       "5             214.500000  \n",
       "3             130.166667  \n",
       "2             136.700000  \n",
       "0             152.714286  \n",
       "1             162.000000  \n",
       "4              79.000000  \n",
       "6             119.000000  \n",
       "7              98.000000  \n",
       "10              4.000000  \n",
       "11              4.000000  \n",
       "8               3.793103  \n",
       "9               2.000000  \n",
       "12              2.000000  "
      ]
     },
     "execution_count": 84,
     "metadata": {},
     "output_type": "execute_result"
    }
   ],
   "source": [
    "other_cat_df.sort_values(by='average_stars', ascending=True)"
   ]
  },
  {
   "cell_type": "code",
   "execution_count": 85,
   "metadata": {},
   "outputs": [],
   "source": [
    "categories = get_categories_dict(berlin.categories, ',')            # dictionary of categories\r\n",
    "cat_df = pd.DataFrame([categories.keys(), categories.values()]).T   # dataframe out of that dictionary\r\n",
    "cat_df.rename(columns={0:'category',1:'count'}, inplace=True)       # name columns in a fasionable name"
   ]
  },
  {
   "cell_type": "code",
   "execution_count": 86,
   "metadata": {},
   "outputs": [],
   "source": [
    "avg_stars=[]\r\n",
    "avg_rev_count=[]\r\n",
    "for category in cat_df['category']:\r\n",
    "    avg_stars.append(berlin[contains(category, berlin.categories)]['stars'].mean())\r\n",
    "    avg_rev_count.append(berlin[contains(category, berlin.categories)]['review_count'].mean())\r\n",
    "\r\n",
    "cat_df['average_stars'] = avg_stars\r\n",
    "cat_df['average_review_count'] = avg_rev_count"
   ]
  },
  {
   "cell_type": "code",
   "execution_count": 87,
   "metadata": {},
   "outputs": [
    {
     "data": {
      "text/html": [
       "<div>\n",
       "<style scoped>\n",
       "    .dataframe tbody tr th:only-of-type {\n",
       "        vertical-align: middle;\n",
       "    }\n",
       "\n",
       "    .dataframe tbody tr th {\n",
       "        vertical-align: top;\n",
       "    }\n",
       "\n",
       "    .dataframe thead th {\n",
       "        text-align: right;\n",
       "    }\n",
       "</style>\n",
       "<table border=\"1\" class=\"dataframe\">\n",
       "  <thead>\n",
       "    <tr style=\"text-align: right;\">\n",
       "      <th></th>\n",
       "      <th>category</th>\n",
       "      <th>count</th>\n",
       "      <th>average_stars</th>\n",
       "      <th>average_review_count</th>\n",
       "    </tr>\n",
       "  </thead>\n",
       "  <tbody>\n",
       "    <tr>\n",
       "      <th>137</th>\n",
       "      <td>Cafeterias</td>\n",
       "      <td>1</td>\n",
       "      <td>3.500000</td>\n",
       "      <td>203.000000</td>\n",
       "    </tr>\n",
       "    <tr>\n",
       "      <th>84</th>\n",
       "      <td>Baden</td>\n",
       "      <td>1</td>\n",
       "      <td>4.000000</td>\n",
       "      <td>174.000000</td>\n",
       "    </tr>\n",
       "    <tr>\n",
       "      <th>100</th>\n",
       "      <td>Bavarian</td>\n",
       "      <td>1</td>\n",
       "      <td>3.500000</td>\n",
       "      <td>147.000000</td>\n",
       "    </tr>\n",
       "    <tr>\n",
       "      <th>49</th>\n",
       "      <td>Dive Bars</td>\n",
       "      <td>5</td>\n",
       "      <td>4.000000</td>\n",
       "      <td>130.200000</td>\n",
       "    </tr>\n",
       "    <tr>\n",
       "      <th>11</th>\n",
       "      <td>Takeaway &amp; Fast Food</td>\n",
       "      <td>18</td>\n",
       "      <td>3.888889</td>\n",
       "      <td>121.444444</td>\n",
       "    </tr>\n",
       "    <tr>\n",
       "      <th>47</th>\n",
       "      <td>Steakhouses</td>\n",
       "      <td>17</td>\n",
       "      <td>3.705882</td>\n",
       "      <td>98.823529</td>\n",
       "    </tr>\n",
       "  </tbody>\n",
       "</table>\n",
       "</div>"
      ],
      "text/plain": [
       "                 category count  average_stars  average_review_count\n",
       "137            Cafeterias     1       3.500000            203.000000\n",
       "84                  Baden     1       4.000000            174.000000\n",
       "100              Bavarian     1       3.500000            147.000000\n",
       "49              Dive Bars     5       4.000000            130.200000\n",
       "11   Takeaway & Fast Food    18       3.888889            121.444444\n",
       "47            Steakhouses    17       3.705882             98.823529"
      ]
     },
     "execution_count": 87,
     "metadata": {},
     "output_type": "execute_result"
    }
   ],
   "source": [
    "size_cat_df = cat_df.shape[0]\r\n",
    "twenty_percent = size_cat_df // 5\r\n",
    "\r\n",
    "cat_df.sort_values(by='average_stars', ascending=True).head(twenty_percent).sort_values(by='average_review_count', ascending=False).head(twenty_percent//5)"
   ]
  },
  {
   "cell_type": "code",
   "execution_count": null,
   "metadata": {},
   "outputs": [],
   "source": []
  }
 ],
 "metadata": {
  "interpreter": {
   "hash": "0b3835b907b6cc7d301aec5540e8a0fbdbe5019d215ce85ebb6eb02d9dcf944e"
  },
  "kernelspec": {
   "display_name": "Python 3.8.10 64-bit ('numba': conda)",
   "name": "python3"
  },
  "language_info": {
   "codemirror_mode": {
    "name": "ipython",
    "version": 3
   },
   "file_extension": ".py",
   "mimetype": "text/x-python",
   "name": "python",
   "nbconvert_exporter": "python",
   "pygments_lexer": "ipython3",
   "version": "3.8.10"
  },
  "orig_nbformat": 4
 },
 "nbformat": 4,
 "nbformat_minor": 2
}