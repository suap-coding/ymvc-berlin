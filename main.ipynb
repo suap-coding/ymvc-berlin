{
 "cells": [
  {
   "cell_type": "code",
   "execution_count": 3,
   "metadata": {},
   "outputs": [],
   "source": [
    "import pandas as pd\n",
    "import numpy as np"
   ]
  },
  {
   "cell_type": "code",
   "execution_count": null,
   "metadata": {},
   "outputs": [],
   "source": [
    "# pd.read_json"
   ]
  },
  {
   "cell_type": "code",
   "execution_count": null,
   "metadata": {},
   "outputs": [],
   "source": [
    "df = pd.read_json('./data/yelp_dataset.json', lines=True)"
   ]
  },
  {
   "cell_type": "markdown",
   "metadata": {},
   "source": [
    "asdflkajasdflkj"
   ]
  },
  {
   "cell_type": "markdown",
   "metadata": {},
   "source": [
    "#test"
   ]
  }
 ],
 "metadata": {
  "interpreter": {
   "hash": "0b3835b907b6cc7d301aec5540e8a0fbdbe5019d215ce85ebb6eb02d9dcf944e"
  },
  "kernelspec": {
   "display_name": "Python 3.8.10 64-bit ('numba': conda)",
   "name": "python3"
  },
  "language_info": {
   "name": "python",
   "version": ""
  }
 },
 "nbformat": 4,
 "nbformat_minor": 2
}