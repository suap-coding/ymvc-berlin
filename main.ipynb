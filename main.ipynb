{
 "cells": [
  {
   "cell_type": "code",
   "execution_count": null,
   "metadata": {},
   "outputs": [],
   "source": [
    "import pandas as pd\n",
    "import numpy as np\n",
    "from bs4 import BeautifulSoup\n",
    "import requests\n",
    "import time\n",
    "import re"
   ]
  },
  {
   "cell_type": "code",
   "execution_count": null,
   "metadata": {},
   "outputs": [],
   "source": [
    "# Business urls\n",
    "# https://www.yelp.co.uk/search?cflt=homeservices&find_loc=Berlin%2C%20Germany\n",
    "# https://www.yelp.co.uk/search?cflt=restaurants&find_loc=Berlin%2C%20Germany\n",
    "\n",
    "businesses = [\"restaurants\", \"homeservices\"]\n",
    "\n",
    "main_url = f\"https://www.yelp.co.uk/search?cflt={businesses[0]}&find_loc=Berlin%2C%20Germany\"\n",
    "\n",
    "# other pages url (for restaurants case)\n",
    "# https://www.yelp.co.uk/search?cflt=restaurants&find_loc=Berlin%2C%20Germany&start=10\n",
    "# pages --> main_url + (start = range(10,231,10)), can automate finding ending index\n",
    "\n",
    "responses = [requests.get(main_url)]\n",
    "for index in range(10,231,10):\n",
    "    responses.append(requests.get(f\"{main_url}&start={index}\"))\n",
    "    delay = np.random.randint(1,6)\n",
    "    time.sleep(delay)"
   ]
  },
  {
   "cell_type": "code",
   "execution_count": null,
   "metadata": {
    "tags": []
   },
   "outputs": [],
   "source": [
    "webpages = []\n",
    "for response in responses:\n",
    "    webpages.append(BeautifulSoup(response.content, 'html.parser'))\n",
    "\n",
    "len(webpages)  # Should be 24 for restaurants"
   ]
  },
  {
   "cell_type": "code",
   "execution_count": null,
   "metadata": {},
   "outputs": [],
   "source": [
    "# Class to get hrefs\n",
    "span_class = \"css-1pxmz4g\"\n",
    "\n",
    "# Needed regex here as strip was leaving some characters\n",
    "# Strangely those characters only appeared on appending but \n",
    "# not in a direct print\n",
    "\n",
    "regex = re.compile('[^a-zA-Z]')\n",
    "child_urls = []\n",
    "names = []\n",
    "for webpage in webpages:\n",
    "    items = webpage.findAll('span', class_ = span_class)\n",
    "    \n",
    "    for item in items:\n",
    "        names.append(regex.sub('', item.text))\n",
    "        child_urls.append(f\"https://www.yelp.co.uk{item.find('a')['href']}\")\n"
   ]
  },
  {
   "cell_type": "code",
   "execution_count": null,
   "metadata": {},
   "outputs": [],
   "source": [
    "df = pd.DataFrame({f\"{businesses[0]}_name\".title(): names, \"url\": child_urls})\n",
    "\n",
    "df.shape # Should be (240,2)"
   ]
  }
 ],
 "metadata": {
  "interpreter": {
   "hash": "68274f4789de8facababa72c5292f6e9ee0042994feee1bf982b457f4d00f7e0"
  },
  "kernelspec": {
   "name": "python3",
   "display_name": "Python 3.8.10 64-bit ('strivenev': conda)"
  },
  "language_info": {
   "codemirror_mode": {
    "name": "ipython",
    "version": 3
   },
   "file_extension": ".py",
   "mimetype": "text/x-python",
   "name": "python",
   "nbconvert_exporter": "python",
   "pygments_lexer": "ipython3",
   "version": "3.8.10"
  }
 },
 "nbformat": 4,
 "nbformat_minor": 2
}